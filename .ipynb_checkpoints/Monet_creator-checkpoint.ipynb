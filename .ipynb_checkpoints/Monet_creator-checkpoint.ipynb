{
 "cells": [
  {
   "cell_type": "markdown",
   "id": "52dc4057-78a7-4be7-89d1-2b42c30a7f9c",
   "metadata": {},
   "source": [
    "# Create Monet Base Scene"
   ]
  },
  {
   "cell_type": "code",
   "execution_count": null,
   "id": "ef107872-4118-40c3-b5e2-3ba278d51ece",
   "metadata": {},
   "outputs": [],
   "source": [
    "import xx\n",
    "w = xx.workflow()\n",
    "w.load_folder(\".\")\n",
    "\n",
    "# add step 0 in the second loaction \n",
    "w.steps.insert(5,w.steps[0])"
   ]
  },
  {
   "cell_type": "code",
   "execution_count": null,
   "id": "832d05a8-98ef-4edb-91aa-439146d5adce",
   "metadata": {},
   "outputs": [],
   "source": [
    "w.run()"
   ]
  }
 ],
 "metadata": {
  "kernelspec": {
   "display_name": "Python 3 (ipykernel)",
   "language": "python",
   "name": "python3"
  },
  "language_info": {
   "codemirror_mode": {
    "name": "ipython",
    "version": 3
   },
   "file_extension": ".py",
   "mimetype": "text/x-python",
   "name": "python",
   "nbconvert_exporter": "python",
   "pygments_lexer": "ipython3",
   "version": "3.10.7"
  }
 },
 "nbformat": 4,
 "nbformat_minor": 5
}
