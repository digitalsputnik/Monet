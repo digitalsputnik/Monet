{
 "cells": [
  {
   "cell_type": "code",
   "execution_count": null,
   "id": "6a99d1cd-bab3-42ad-bfaa-4f3e286e4b43",
   "metadata": {
    "tags": []
   },
   "outputs": [],
   "source": [
    "%pip install qrcode"
   ]
  },
  {
   "cell_type": "code",
   "execution_count": 36,
   "id": "b76cef93-ad75-4e8d-bc8d-3e02fc5ff266",
   "metadata": {
    "collapsed": true,
    "jupyter": {
     "outputs_hidden": true,
     "source_hidden": true
    },
    "tags": []
   },
   "outputs": [
    {
     "name": "stdout",
     "output_type": "stream",
     "text": [
      "    Payload loaded, overwritng self\n",
      "    Payload loaded, overwritng self\n",
      "    Payload loaded, overwritng self\n",
      "    Payload loaded, overwritng self\n",
      "    Payload loaded, overwritng self\n",
      "    Payload loaded, overwritng self\n",
      "    Payload loaded, overwritng self\n",
      "    Payload loaded, overwritng self\n",
      "    Payload loaded, overwritng self\n",
      "    Payload loaded, overwritng self\n",
      "    Payload loaded, overwritng self\n",
      "    Payload loaded, overwritng self\n",
      "    Payload loaded, overwritng self\n",
      "    Payload loaded, overwritng self\n",
      "    Payload loaded, overwritng self\n",
      "    Payload loaded, overwritng self\n"
     ]
    }
   ],
   "source": [
    "#https://gist.github.com/komasaru/ed07018ae246d128370a1693f5dd1849\n",
    "#with slight modifications by Kaspar Kallas\n",
    "import requests\n",
    "import sys\n",
    "import traceback\n",
    "import urllib\n",
    "import copy\n",
    "\n",
    "def shorten(url_long):\n",
    "    URL = \"http://tinyurl.com/api-create.php\"\n",
    "    try:\n",
    "        url = URL + \"?\" \\\n",
    "            + urllib.parse.urlencode({\"url\": url_long})\n",
    "        res = requests.get(url)\n",
    "        print(\"STATUS CODE:\", res.status_code)\n",
    "        print(\"   LONG URL:\", url_long)\n",
    "        print(\"  SHORT URL:\", res.text)\n",
    "        return res.text\n",
    "    except Exception as e:\n",
    "        raise\n",
    "        \n",
    "\n",
    "import xx\n",
    "# Import Odoo steps\n",
    "######################\n",
    "step1 = xx.step()\n",
    "step1.loadPNG(\"010.odoo.lot_serial.png\")\n",
    "\n",
    "step2 = xx.step()\n",
    "step2.loadPNG(\"020.odoo.open_lot_serial.png\")\n",
    "\n",
    "step3 = xx.step()\n",
    "step3.loadPNG(\"030.odoo.copy_brws_addr.png\")\n",
    "\n",
    "# Import DrawIo\n",
    "######################\n",
    "label1 = xx.step()\n",
    "label1.loadPNG(\"label1.drawio.lotqr.png\")\n",
    "\n",
    "label2 = xx.step()\n",
    "label2.loadPNG(\"label2.drawio.edit_image.png\")\n",
    "\n",
    "label3 = xx.step()\n",
    "label3.loadPNG(\"label3.drawio.open.png\")\n",
    "\n",
    "label4 = xx.step()\n",
    "label4.loadPNG(\"label4.drawio.product_id_qr.png\")\n",
    "\n",
    "label5 = xx.step()\n",
    "label5.loadPNG(\"label5.drawio.lot_serial_qr.png\")\n",
    "\n",
    "label6 = xx.step()\n",
    "label6.loadPNG(\"label6.drawio.insert_txt.png\")\n",
    "\n",
    "label7 = xx.step()\n",
    "label7.loadPNG(\"label7.drawio.count.png\")\n",
    "\n",
    "label8 = xx.step()\n",
    "label8.loadPNG(\"label8.drawio.print.png\")\n",
    "\n",
    "label9 = xx.step()\n",
    "label9.loadPNG(\"label9.drawio.print2.png\")\n",
    "\n",
    "r1 = xx.step()\n",
    "r1.loadPNG(\"r1.odoo.lot_reset.png\")\n",
    "\n",
    "r1x = xx.step()\n",
    "r1x.loadPNG(\"r1x.drawio.got_2_lot_serial_label.png\")\n",
    "\n",
    "r2 = xx.step()\n",
    "r2.loadPNG(\"r2.odoo.rmv_filters.png\")\n",
    "\n",
    "r3 = xx.step()\n",
    "r3.loadPNG(\"r3.odoo.group_by_2_product.png\")"
   ]
  },
  {
   "cell_type": "code",
   "execution_count": 27,
   "id": "4f1be63d-52cf-49af-9908-237681ef0be1",
   "metadata": {},
   "outputs": [
    {
     "name": "stdin",
     "output_type": "stream",
     "text": [
      " [2392223200] Y2 Film Capacitor 13x5x11mm, Rm10, TH\t22/10/20\t\t0.00\t\t1,000.00\t1,000.00\tUnits\n"
     ]
    }
   ],
   "source": [
    "inp=input()\n",
    "#\"[2392223200] Y2 Film Capacitor 13x5x11mm, Rm10, TH\t22/10/20\t\t0.00\t\t1,000.00\t1,000.00\tUnits\""
   ]
  },
  {
   "cell_type": "code",
   "execution_count": 38,
   "id": "f79cc0f3-a9f7-4ab5-aa6a-79ef93801332",
   "metadata": {
    "tags": []
   },
   "outputs": [
    {
     "name": "stdout",
     "output_type": "stream",
     "text": [
      "Product code:\n"
     ]
    },
    {
     "data": {
      "application/vnd.jupyter.widget-view+json": {
       "model_id": "2a7753cf9e5c4cbcb542d8337fb4d8b7",
       "version_major": 2,
       "version_minor": 0
      },
      "text/plain": [
       "Text(value='2392223200', description='text')"
      ]
     },
     "metadata": {},
     "output_type": "display_data"
    },
    {
     "name": "stdout",
     "output_type": "stream",
     "text": [
      "Product name:\n"
     ]
    },
    {
     "data": {
      "application/vnd.jupyter.widget-view+json": {
       "model_id": "653f97aedc244c8f9dfa9bdf76383e04",
       "version_major": 2,
       "version_minor": 0
      },
      "text/plain": [
       "Text(value='Y2 Film Capacitor 13x5x11mm, Rm10, TH', description='text')"
      ]
     },
     "metadata": {},
     "output_type": "display_data"
    },
    {
     "name": "stdout",
     "output_type": "stream",
     "text": [
      "Product code:\n"
     ]
    },
    {
     "data": {
      "application/vnd.jupyter.widget-view+json": {
       "model_id": "c718b2a4033f45aca9e49dfefacc72f6",
       "version_major": 2,
       "version_minor": 0
      },
      "text/plain": [
       "Text(value='2392223200', description='text')"
      ]
     },
     "metadata": {},
     "output_type": "display_data"
    },
    {
     "name": "stdout",
     "output_type": "stream",
     "text": [
      "Lot/Serial:\n"
     ]
    },
    {
     "data": {
      "application/vnd.jupyter.widget-view+json": {
       "model_id": "d0d7de6f73124ec7bd1ae10bf17f0f73",
       "version_major": 2,
       "version_minor": 0
      },
      "text/plain": [
       "Text(value='22/10/20', description='text')"
      ]
     },
     "metadata": {},
     "output_type": "display_data"
    },
    {
     "name": "stdout",
     "output_type": "stream",
     "text": [
      "Product qty:\n"
     ]
    },
    {
     "data": {
      "application/vnd.jupyter.widget-view+json": {
       "model_id": "c0945c2b50e64629a71ee1a5217bef14",
       "version_major": 2,
       "version_minor": 0
      },
      "text/plain": [
       "Text(value='22/10/2022 : 1,000 Units', description='text')"
      ]
     },
     "metadata": {},
     "output_type": "display_data"
    },
    {
     "name": "stdout",
     "output_type": "stream",
     "text": [
      "locating (0/10): \n"
     ]
    },
    {
     "data": {
      "image/png": "[encoded data removed]"
     },
     "metadata": {},
     "output_type": "display_data"
    },
    {
     "name": "stdout",
     "output_type": "stream",
     "text": [
      "    -> clicked @: [2272,92]\n",
      "    -> Keystroke: [ctrl]+[a]\n",
      "    -> Typed : https://www.digitalsputnik.com/web#action=412&model=stock.production.lot&view_type=list&cids=1&menu_id=255\n",
      "    -> Keystroke: [enter]\n",
      "locating (0/2): \n"
     ]
    },
    {
     "data": {
      "image/png": "[encoded data removed]"
     },
     "metadata": {},
     "output_type": "display_data"
    },
    {
     "name": "stdout",
     "output_type": "stream",
     "text": [
      "locating (1/2): \n",
      "-> Image Not Found\n",
      "locating (0/10): \n"
     ]
    },
    {
     "data": {
      "image/png": "[encoded data removed]"
     },
     "metadata": {},
     "output_type": "display_data"
    },
    {
     "ename": "KeyboardInterrupt",
     "evalue": "",
     "output_type": "error",
     "traceback": [
      "\u001b[1;31m---------------------------------------------------------------------------\u001b[0m",
      "\u001b[1;31mKeyboardInterrupt\u001b[0m                         Traceback (most recent call last)",
      "Cell \u001b[1;32mIn [38], line 46\u001b[0m\n\u001b[0;32m     43\u001b[0m     gui\u001b[38;5;241m.\u001b[39mhotkey(\u001b[38;5;124m'\u001b[39m\u001b[38;5;124mbackspace\u001b[39m\u001b[38;5;124m'\u001b[39m)\n\u001b[0;32m     44\u001b[0m     r3\u001b[38;5;241m.\u001b[39mrun()\n\u001b[1;32m---> 46\u001b[0m step1\u001b[38;5;241m.\u001b[39mrun()\n\u001b[0;32m     47\u001b[0m gui\u001b[38;5;241m.\u001b[39mpress(\u001b[38;5;124m'\u001b[39m\u001b[38;5;124mdown\u001b[39m\u001b[38;5;124m'\u001b[39m)\n\u001b[0;32m     48\u001b[0m gui\u001b[38;5;241m.\u001b[39mpress(\u001b[38;5;124m'\u001b[39m\u001b[38;5;124menter\u001b[39m\u001b[38;5;124m'\u001b[39m)\n",
      "File \u001b[1;32m~\\Documents\\GitHub\\3\\Monet\\xx.py:246\u001b[0m, in \u001b[0;36mstep.run\u001b[1;34m(self)\u001b[0m\n\u001b[0;32m    244\u001b[0m \u001b[38;5;66;03m# find image\u001b[39;00m\n\u001b[0;32m    245\u001b[0m \u001b[38;5;28mself\u001b[39m\u001b[38;5;241m.\u001b[39mfound_loc \u001b[38;5;241m=\u001b[39m \u001b[38;5;28;01mNone\u001b[39;00m\n\u001b[1;32m--> 246\u001b[0m \u001b[38;5;28mself\u001b[39m\u001b[38;5;241m.\u001b[39mfound_loc\u001b[38;5;241m=\u001b[39m\u001b[43mfind_in_window\u001b[49m\u001b[43m(\u001b[49m\u001b[38;5;28;43mself\u001b[39;49m\u001b[38;5;241;43m.\u001b[39;49m\u001b[43m_img\u001b[49m\u001b[43m,\u001b[49m\u001b[43m \u001b[49m\u001b[43mtries\u001b[49m\u001b[38;5;241;43m=\u001b[39;49m\u001b[38;5;28;43mself\u001b[39;49m\u001b[38;5;241;43m.\u001b[39;49m\u001b[43mtimeout\u001b[49m\u001b[43m,\u001b[49m\u001b[43m \u001b[49m\u001b[43mscroll\u001b[49m\u001b[38;5;241;43m=\u001b[39;49m\u001b[38;5;28;43mself\u001b[39;49m\u001b[38;5;241;43m.\u001b[39;49m\u001b[43m_scroll\u001b[49m\u001b[43m,\u001b[49m\u001b[43m \u001b[49m\u001b[43mscale\u001b[49m\u001b[38;5;241;43m=\u001b[39;49m\u001b[38;5;28;43mself\u001b[39;49m\u001b[38;5;241;43m.\u001b[39;49m\u001b[43mscale\u001b[49m\u001b[43m)\u001b[49m\n\u001b[0;32m    248\u001b[0m \u001b[38;5;66;03m# if no image is found, maybe move into execution if we want to have custom logic for not found as well\u001b[39;00m\n\u001b[0;32m    249\u001b[0m \u001b[38;5;28;01mif\u001b[39;00m \u001b[38;5;28mself\u001b[39m\u001b[38;5;241m.\u001b[39mfound_loc\u001b[38;5;241m==\u001b[39m\u001b[38;5;28;01mNone\u001b[39;00m:\n",
      "File \u001b[1;32m~\\Documents\\GitHub\\3\\Monet\\xx.py:49\u001b[0m, in \u001b[0;36mfind_in_window\u001b[1;34m(imgsrc, bbox, tries, wait, scroll, match_q, scale)\u001b[0m\n\u001b[0;32m     46\u001b[0m     \u001b[38;5;28;01mexcept\u001b[39;00m \u001b[38;5;167;01mException\u001b[39;00m \u001b[38;5;28;01mas\u001b[39;00m e:\n\u001b[0;32m     47\u001b[0m         \u001b[38;5;28mprint\u001b[39m(e)\n\u001b[1;32m---> 49\u001b[0m     \u001b[43mtime\u001b[49m\u001b[38;5;241;43m.\u001b[39;49m\u001b[43msleep\u001b[49m\u001b[43m(\u001b[49m\u001b[43mwait\u001b[49m\u001b[43m)\u001b[49m\n\u001b[0;32m     50\u001b[0m \u001b[38;5;66;03m# if function times out, no location is found    \u001b[39;00m\n\u001b[0;32m     51\u001b[0m \u001b[38;5;28;01mreturn\u001b[39;00m \u001b[38;5;28;01mNone\u001b[39;00m\n",
      "\u001b[1;31mKeyboardInterrupt\u001b[0m: "
     ]
    }
   ],
   "source": [
    "from datetime import datetime\n",
    "\n",
    "now = datetime.now()\n",
    "date = now.strftime(\"%d/%m/%Y\")\n",
    "\n",
    "cols = inp.split('\\t')\n",
    "product_code=inp[1:inp.find(']')]\n",
    "lot_serial = cols[1]\n",
    "product_name = inp[inp.find(']')+2:inp.find('\\t')]\n",
    "if cols[7]==\"Units\":\n",
    "    product_qty = date+\" : \"+cols[5][:-3]+\" \"+cols[7]\n",
    "else:\n",
    "    product_qty = date+\" : \"+cols[5]+cols[7]\n",
    "\n",
    "print(\"Product code:\")\n",
    "step1._markers[0][0]['text'].draw()\n",
    "step1._markers[0][0]['text'].value(val = product_code)\n",
    "\n",
    "print(\"Product name:\")\n",
    "label6._markers[0][0]['text'].draw()\n",
    "print(\"Product code:\")\n",
    "label6._markers[1][0]['text'].draw()\n",
    "print(\"Lot/Serial:\")\n",
    "label6._markers[2][0]['text'].draw()\n",
    "label6._markers[0][0]['text'].value(val = product_name)\n",
    "label6._markers[1][0]['text'].value(val = product_code)\n",
    "label6._markers[2][0]['text'].value(val = lot_serial)\n",
    "print(\"Product qty:\")\n",
    "label7._markers[0][0]['text'].draw()\n",
    "label7._markers[0][0]['text'].value(val = product_qty)\n",
    "\n",
    "\n",
    "\n",
    "import pyautogui as gui\n",
    "import pyperclip\n",
    "import qrcode\n",
    "from IPython import display\n",
    "\n",
    "gui.hotkey('ctrl','t')\n",
    "r1.run()\n",
    "if r2.run():\n",
    "    gui.hotkey('backspace')\n",
    "    gui.hotkey('backspace')\n",
    "    r3.run()\n",
    "\n",
    "step1.run()\n",
    "gui.press('down')\n",
    "gui.press('enter')\n",
    "gui.typewrite(lot_serial)\n",
    "gui.press('enter')\n",
    "step2.run()\n",
    "step3.run()\n",
    "gui.hotkey('ctrl','c')\n",
    "addr = pyperclip.paste()\n",
    "gui.hotkey('ctrl','w')\n",
    "\n",
    "print(\"\")\n",
    "print(\"--- GENERATING QR ---\")\n",
    "\n",
    "short_url = shorten(addr)\n",
    "weblink_qr = qrcode.make(short_url)\n",
    "print(\"-> \"+short_url)\n",
    "display.display_png(weblink_qr)\n",
    "productid_qr = qrcode.make(product_code)\n",
    "print(\"-> \"+product_code)\n",
    "display.display_png(productid_qr)\n",
    "lotserial_qr = qrcode.make(lot_serial)\n",
    "print(\"-> \"+lot_serial)\n",
    "display.display_png(lotserial_qr)\n",
    "\n",
    "weblink_qr.save(\"qr1.png\",\"png\")\n",
    "productid_qr.save(\"qr2.png\",\"png\")\n",
    "lotserial_qr.save(\"qr3.png\",\"png\")\n",
    "\n",
    "# need to make change page\n",
    "gui.hotkey('ctrl','t')\n",
    "r1x.run()\n",
    "label1.run()\n",
    "label2.run()\n",
    "label3.run()\n",
    "gui.typewrite(\"qr1.png\")\n",
    "gui.hotkey('enter')\n",
    "label4.run()\n",
    "label2.run()\n",
    "label3.run()\n",
    "gui.typewrite(\"qr2.png\")\n",
    "gui.hotkey('enter')\n",
    "label5.run()\n",
    "label2.run()\n",
    "label3.run()\n",
    "gui.typewrite(\"qr3.png\")\n",
    "gui.hotkey('enter')\n",
    "label6.run()\n",
    "label7.run()\n",
    "gui.hotkey('esc')\n",
    "gui.hotkey('ctrl','p')\n",
    "label8.run()\n",
    "label9.run()\n",
    "gui.hotkey('ctrl','w')\n"
   ]
  },
  {
   "cell_type": "code",
   "execution_count": 28,
   "id": "a363b1d9-f448-48ba-8efb-45033938902c",
   "metadata": {},
   "outputs": [
    {
     "data": {
      "image/png": "[encoded data removed]",
      "text/plain": [
       "<PIL.Image.Image image mode=RGB size=145x39>"
      ]
     },
     "execution_count": 28,
     "metadata": {},
     "output_type": "execute_result"
    }
   ],
   "source": [
    "step3._img"
   ]
  },
  {
   "cell_type": "markdown",
   "id": "4a3b020b-df58-492a-9405-466b1b4ee778",
   "metadata": {
    "jp-MarkdownHeadingCollapsed": true,
    "tags": []
   },
   "source": [
    "#### Create Step"
   ]
  },
  {
   "cell_type": "code",
   "execution_count": null,
   "id": "39b96cc3-a999-49b0-b005-4bb6854b82a5",
   "metadata": {},
   "outputs": [],
   "source": [
    "step1 = xx.step()\n",
    "step1.capture()"
   ]
  },
  {
   "cell_type": "code",
   "execution_count": null,
   "id": "b3fcbefa-ced8-4066-9e75-903150a308f8",
   "metadata": {},
   "outputs": [],
   "source": [
    "step1.savePNG(\"010.odoo.lot_serial.png\")"
   ]
  },
  {
   "cell_type": "markdown",
   "id": "c0b33bbd-04cc-4d11-af98-8c7686296b4c",
   "metadata": {
    "tags": []
   },
   "source": [
    "#### Load The step"
   ]
  },
  {
   "cell_type": "code",
   "execution_count": 16,
   "id": "e59ea7f5-7fe8-43ef-9074-f312730444c5",
   "metadata": {},
   "outputs": [
    {
     "name": "stdout",
     "output_type": "stream",
     "text": [
      "    Payload loaded, overwritng self\n"
     ]
    },
    {
     "data": {
      "application/vnd.jupyter.widget-view+json": {
       "model_id": "91b4f21bd6bc4e85a5ac85fda8db312c",
       "version_major": 2,
       "version_minor": 0
      },
      "text/plain": [
       "Text(value='3004020201', description='text')"
      ]
     },
     "metadata": {},
     "output_type": "display_data"
    }
   ],
   "source": [
    "step1 = xx.step()\n",
    "step1.loadPNG(\"010.odoo.lot_serial.png\")\n",
    "\n",
    "# add custom logic\n",
    "step1._markers[0][0]['text'].draw()\n",
    "step1._markers[0][0]['text'].value(val = product_code)"
   ]
  },
  {
   "cell_type": "markdown",
   "id": "c1329324-dabf-463d-910f-2a5e549139d6",
   "metadata": {
    "jp-MarkdownHeadingCollapsed": true,
    "tags": []
   },
   "source": [
    "#### Create Step"
   ]
  },
  {
   "cell_type": "code",
   "execution_count": null,
   "id": "344d5e49-4527-4622-9fbb-5e4acf66d6d5",
   "metadata": {},
   "outputs": [],
   "source": [
    "step2 = xx.step()\n",
    "step2.capture()"
   ]
  },
  {
   "cell_type": "code",
   "execution_count": null,
   "id": "b0e6a6b3-97df-4ba0-9d08-d83144189780",
   "metadata": {},
   "outputs": [],
   "source": [
    "step2.savePNG(\"020.odoo.open_lot_serial.png\")"
   ]
  },
  {
   "cell_type": "markdown",
   "id": "059faa26-d774-4c79-9df1-6f7320767357",
   "metadata": {},
   "source": [
    "#### Load Step"
   ]
  },
  {
   "cell_type": "code",
   "execution_count": 17,
   "id": "d6c6e9c7-e129-4857-b5bc-590943eaab55",
   "metadata": {
    "tags": []
   },
   "outputs": [
    {
     "name": "stdout",
     "output_type": "stream",
     "text": [
      "    Payload loaded, overwritng self\n"
     ]
    }
   ],
   "source": [
    "step2 = xx.step()\n",
    "step2.loadPNG(\"020.odoo.open_lot_serial.png\")"
   ]
  },
  {
   "cell_type": "code",
   "execution_count": 18,
   "id": "700177c5-9649-4590-86b4-958eef4853d7",
   "metadata": {},
   "outputs": [
    {
     "name": "stdout",
     "output_type": "stream",
     "text": [
      "    Payload loaded, overwritng self\n"
     ]
    }
   ],
   "source": [
    "step3 = xx.step()\n",
    "step3.loadPNG(\"030.odoo.copy_brws_addr.png\")"
   ]
  },
  {
   "cell_type": "markdown",
   "id": "dbb42f3b-63a3-479e-9725-a84e1282a8d2",
   "metadata": {
    "tags": []
   },
   "source": [
    "## Odoo (lot/serial)"
   ]
  },
  {
   "cell_type": "code",
   "execution_count": 21,
   "id": "ad326cc2-f974-4138-bb17-ca0b50c303aa",
   "metadata": {},
   "outputs": [
    {
     "name": "stdout",
     "output_type": "stream",
     "text": [
      "locating (0/10): \n"
     ]
    },
    {
     "data": {
      "image/png": "[encoded data removed]"
     },
     "metadata": {},
     "output_type": "display_data"
    },
    {
     "name": "stdout",
     "output_type": "stream",
     "text": [
      "    -> clicked @: [1153,233]\n",
      "    -> Typed : 2392223200\n",
      "locating (0/10): \n"
     ]
    },
    {
     "data": {
      "image/png": "[encoded data removed]"
     },
     "metadata": {},
     "output_type": "display_data"
    },
    {
     "name": "stdout",
     "output_type": "stream",
     "text": [
      "    -> clicked @: [98,437]\n",
      "locating (0/10): \n"
     ]
    },
    {
     "data": {
      "image/png": "[encoded data removed]"
     },
     "metadata": {},
     "output_type": "display_data"
    },
    {
     "name": "stdout",
     "output_type": "stream",
     "text": [
      "    -> clicked @: [224,92]\n",
      "\n",
      "--- GENERATING QR ---\n",
      "STATUS CODE: 200\n",
      "   LONG URL: https://www.digitalsputnik.com/web#id=3230&action=412&model=stock.production.lot&view_type=form&cids=1&menu_id=255\n",
      "  SHORT URL: https://tinyurl.com/27du26by\n",
      "-> https://tinyurl.com/27du26by\n"
     ]
    },
    {
     "data": {
      "image/png": "[encoded data removed]"
     },
     "metadata": {},
     "output_type": "display_data"
    },
    {
     "name": "stdout",
     "output_type": "stream",
     "text": [
      "-> 2392223200\n"
     ]
    },
    {
     "data": {
      "image/png": "[encoded data removed]"
     },
     "metadata": {},
     "output_type": "display_data"
    },
    {
     "name": "stdout",
     "output_type": "stream",
     "text": [
      "-> 22/10/20\n"
     ]
    },
    {
     "data": {
      "image/png": "[encoded data removed]"
     },
     "metadata": {},
     "output_type": "display_data"
    }
   ],
   "source": [
    "import pyautogui as gui\n",
    "import pyperclip\n",
    "import qrcode\n",
    "from IPython import display\n",
    "\n",
    "step1.run()\n",
    "gui.press('down')\n",
    "gui.press('enter')\n",
    "gui.typewrite(lot_serial)\n",
    "gui.press('enter')\n",
    "step2.run()\n",
    "step3.run()\n",
    "gui.hotkey('ctrl','c')\n",
    "addr = pyperclip.paste()\n",
    "\n",
    "print(\"\")\n",
    "print(\"--- GENERATING QR ---\")\n",
    "\n",
    "short_url = shorten(addr)\n",
    "weblink_qr = qrcode.make(short_url)\n",
    "print(\"-> \"+short_url)\n",
    "display.display_png(weblink_qr)\n",
    "productid_qr = qrcode.make(product_code)\n",
    "print(\"-> \"+product_code)\n",
    "display.display_png(productid_qr)\n",
    "lotserial_qr = qrcode.make(lot_serial)\n",
    "print(\"-> \"+lot_serial)\n",
    "display.display_png(lotserial_qr)\n",
    "\n",
    "weblink_qr.save(\"qr1.png\",\"png\")\n",
    "productid_qr.save(\"qr2.png\",\"png\")\n",
    "lotserial_qr.save(\"qr3.png\",\"png\")"
   ]
  },
  {
   "cell_type": "markdown",
   "id": "f2dbc569-3ec9-412c-b0ee-6a5258ab1ab7",
   "metadata": {
    "tags": []
   },
   "source": [
    "## DrawIO"
   ]
  },
  {
   "cell_type": "code",
   "execution_count": 22,
   "id": "1f3261e3-a688-4d1f-ba2c-0291b80cde47",
   "metadata": {},
   "outputs": [
    {
     "name": "stdout",
     "output_type": "stream",
     "text": [
      "locating (0/10): \n"
     ]
    },
    {
     "data": {
      "image/png": "[encoded data removed]"
     },
     "metadata": {},
     "output_type": "display_data"
    },
    {
     "name": "stdout",
     "output_type": "stream",
     "text": [
      "    -> right-clicked @: [929,519]\n",
      "locating (0/10): \n"
     ]
    },
    {
     "data": {
      "image/png": "[encoded data removed]"
     },
     "metadata": {},
     "output_type": "display_data"
    },
    {
     "name": "stdout",
     "output_type": "stream",
     "text": [
      "    -> clicked @: [1021,1230]\n",
      "locating (0/10): \n"
     ]
    },
    {
     "data": {
      "image/png": "[encoded data removed]"
     },
     "metadata": {},
     "output_type": "display_data"
    },
    {
     "name": "stdout",
     "output_type": "stream",
     "text": [
      "    -> clicked @: [967,991]\n",
      "locating (0/10): \n"
     ]
    },
    {
     "data": {
      "image/png": "[encoded data removed]"
     },
     "metadata": {},
     "output_type": "display_data"
    },
    {
     "name": "stdout",
     "output_type": "stream",
     "text": [
      "    -> right-clicked @: [1169,450]\n",
      "locating (0/10): \n"
     ]
    },
    {
     "data": {
      "image/png": "[encoded data removed]"
     },
     "metadata": {},
     "output_type": "display_data"
    },
    {
     "name": "stdout",
     "output_type": "stream",
     "text": [
      "    -> clicked @: [1261,1161]\n",
      "locating (0/10): \n"
     ]
    },
    {
     "data": {
      "image/png": "[encoded data removed]"
     },
     "metadata": {},
     "output_type": "display_data"
    },
    {
     "name": "stdout",
     "output_type": "stream",
     "text": [
      "    -> clicked @: [967,991]\n",
      "locating (0/10): \n"
     ]
    },
    {
     "data": {
      "image/png": "[encoded data removed]"
     },
     "metadata": {},
     "output_type": "display_data"
    },
    {
     "name": "stdout",
     "output_type": "stream",
     "text": [
      "    -> right-clicked @: [1171,544]\n",
      "locating (0/10): \n"
     ]
    },
    {
     "data": {
      "image/png": "[encoded data removed]"
     },
     "metadata": {},
     "output_type": "display_data"
    },
    {
     "name": "stdout",
     "output_type": "stream",
     "text": [
      "    -> clicked @: [1263,1255]\n",
      "locating (0/10): \n"
     ]
    },
    {
     "data": {
      "image/png": "[encoded data removed]"
     },
     "metadata": {},
     "output_type": "display_data"
    },
    {
     "name": "stdout",
     "output_type": "stream",
     "text": [
      "    -> clicked @: [967,991]\n",
      "locating (0/10): \n"
     ]
    },
    {
     "data": {
      "image/png": "[encoded data removed]"
     },
     "metadata": {},
     "output_type": "display_data"
    },
    {
     "name": "stdout",
     "output_type": "stream",
     "text": [
      "    -> double-clicked @: [1010,698]\n",
      "    -> Typed : Y2 Film Capacitor 13x5x11mm, Rm10, TH\n",
      "    -> double-clicked @: [1189,492]\n",
      "    -> Typed : 2392223200\n",
      "    -> double-clicked @: [1191,584]\n",
      "    -> Typed : 22/10/20\n",
      "locating (0/10): \n"
     ]
    },
    {
     "data": {
      "image/png": "[encoded data removed]"
     },
     "metadata": {},
     "output_type": "display_data"
    },
    {
     "name": "stdout",
     "output_type": "stream",
     "text": [
      "    -> double-clicked @: [1008,794]\n",
      "    -> Typed : 22/10/2022 : 1,000 Units\n",
      "locating (0/10): \n"
     ]
    },
    {
     "data": {
      "image/png": "[encoded data removed]"
     },
     "metadata": {},
     "output_type": "display_data"
    },
    {
     "name": "stdout",
     "output_type": "stream",
     "text": [
      "    -> clicked @: [1242,1146]\n",
      "    -> Keystroke: [ctrl]+[a]\n",
      "    -> Keystroke: [enter]\n",
      "locating (0/10): \n"
     ]
    },
    {
     "data": {
      "image/png": "[encoded data removed]"
     },
     "metadata": {},
     "output_type": "display_data"
    },
    {
     "name": "stdout",
     "output_type": "stream",
     "text": [
      "locating (1/10): \n",
      "    -> clicked @: [1578,1053]\n"
     ]
    },
    {
     "data": {
      "text/plain": [
       "True"
      ]
     },
     "execution_count": 22,
     "metadata": {},
     "output_type": "execute_result"
    }
   ],
   "source": [
    "import pyautogui as gui\n",
    "label1.run()\n",
    "label2.run()\n",
    "label3.run()\n",
    "gui.typewrite(\"qr1.png\")\n",
    "gui.hotkey('enter')\n",
    "label4.run()\n",
    "label2.run()\n",
    "label3.run()\n",
    "gui.typewrite(\"qr2.png\")\n",
    "gui.hotkey('enter')\n",
    "label5.run()\n",
    "label2.run()\n",
    "label3.run()\n",
    "gui.typewrite(\"qr3.png\")\n",
    "gui.hotkey('enter')\n",
    "label6.run()\n",
    "label7.run()\n",
    "gui.hotkey('esc')\n",
    "gui.hotkey('ctrl','p')\n",
    "label8.run()\n",
    "label9.run()"
   ]
  },
  {
   "cell_type": "code",
   "execution_count": null,
   "id": "e48b97ca-ded3-4acd-8a7e-435bdca944da",
   "metadata": {},
   "outputs": [],
   "source": [
    "label9 = xx.step()\n",
    "label9.capture()"
   ]
  },
  {
   "cell_type": "code",
   "execution_count": null,
   "id": "ee4badc4-8fe1-44ba-99fd-14211707de1f",
   "metadata": {},
   "outputs": [],
   "source": [
    "label9.savePNG(\"label9.drawio.print2.png\")"
   ]
  },
  {
   "cell_type": "markdown",
   "id": "3145b3ff-2fde-4980-9525-ee25541a76b6",
   "metadata": {
    "tags": []
   },
   "source": [
    "## Reset"
   ]
  },
  {
   "cell_type": "code",
   "execution_count": 19,
   "id": "4e7ecb44-8724-4467-a1b9-afa6e1e72f9e",
   "metadata": {},
   "outputs": [
    {
     "name": "stdout",
     "output_type": "stream",
     "text": [
      "    Payload loaded, overwritng self\n",
      "    Payload loaded, overwritng self\n",
      "    Payload loaded, overwritng self\n"
     ]
    }
   ],
   "source": [
    "r1 = xx.step()\n",
    "r1.loadPNG(\"r1.odoo.lot_reset.png\")\n",
    "\n",
    "r2 = xx.step()\n",
    "r2.loadPNG(\"r2.odoo.rmv_filters.png\")\n",
    "\n",
    "r3 = xx.step()\n",
    "r3.loadPNG(\"r3.odoo.group_by_2_product.png\")"
   ]
  },
  {
   "cell_type": "code",
   "execution_count": null,
   "id": "7d9ac1ef-290e-4335-aee4-b9c57662ac5b",
   "metadata": {},
   "outputs": [],
   "source": [
    "r3._markers[1][0]['mouse'] = xx.prop(\"mouse\",'click',draw=draw_dropdown_str,on_edit=edit_str)"
   ]
  },
  {
   "cell_type": "code",
   "execution_count": null,
   "id": "0a3cb155-1c59-4211-b6f3-a2214b7314ef",
   "metadata": {},
   "outputs": [],
   "source": [
    "r3.savePNG(\"r3.odoo.group_by_2_product.png\")"
   ]
  },
  {
   "cell_type": "code",
   "execution_count": 20,
   "id": "a57d7983-ca62-46a4-a799-ff7202fd03d6",
   "metadata": {},
   "outputs": [
    {
     "name": "stdout",
     "output_type": "stream",
     "text": [
      "locating (0/10): \n"
     ]
    },
    {
     "data": {
      "image/png": "[encoded data removed]"
     },
     "metadata": {},
     "output_type": "display_data"
    },
    {
     "name": "stdout",
     "output_type": "stream",
     "text": [
      "    -> clicked @: [224,92]\n",
      "    -> Keystroke: [ctrl]+[a]\n",
      "    -> Typed : https://www.digitalsputnik.com/web#action=412&model=stock.production.lot&view_type=list&cids=1&menu_id=255\n",
      "    -> Keystroke: [enter]\n",
      "locating (0/2): \n"
     ]
    },
    {
     "data": {
      "image/png": "[encoded data removed]"
     },
     "metadata": {},
     "output_type": "display_data"
    },
    {
     "name": "stdout",
     "output_type": "stream",
     "text": [
      "locating (1/2): \n",
      "    -> clicked @: [1692,234]\n",
      "locating (0/10): \n"
     ]
    },
    {
     "data": {
      "image/png": "[encoded data removed]"
     },
     "metadata": {},
     "output_type": "display_data"
    },
    {
     "name": "stdout",
     "output_type": "stream",
     "text": [
      "    -> clicked @: [1201,295]\n",
      "    -> clicked @: [1204,349]\n"
     ]
    }
   ],
   "source": [
    "import pyautogui as gui\n",
    "r1.run()\n",
    "if r2.run():\n",
    "    gui.hotkey('backspace')\n",
    "    gui.hotkey('backspace')\n",
    "    r3.run()"
   ]
  },
  {
   "cell_type": "code",
   "execution_count": null,
   "id": "2e33d42b-b0b0-49f3-a02c-84794e5a5082",
   "metadata": {},
   "outputs": [],
   "source": [
    "for p in label7.props:\n",
    "    p.draw()"
   ]
  },
  {
   "cell_type": "code",
   "execution_count": null,
   "id": "ea010241-8e4e-4fcc-a256-5bd25bbb38c7",
   "metadata": {
    "tags": []
   },
   "outputs": [],
   "source": [
    "r1.savePNG(\"r1.odoo.lot_reset.png\")"
   ]
  }
 ],
 "metadata": {
  "kernelspec": {
   "display_name": "Python 3 (ipykernel)",
   "language": "python",
   "name": "python3"
  },
  "language_info": {
   "codemirror_mode": {
    "name": "ipython",
    "version": 3
   },
   "file_extension": ".py",
   "mimetype": "text/x-python",
   "name": "python",
   "nbconvert_exporter": "python",
   "pygments_lexer": "ipython3",
   "version": "3.10.7"
  },
  "toc-autonumbering": false,
  "toc-showcode": false,
  "toc-showmarkdowntxt": false,
  "toc-showtags": false
 },
 "nbformat": 4,
 "nbformat_minor": 5
}
