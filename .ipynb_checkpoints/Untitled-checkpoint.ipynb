{
 "cells": [
  {
   "cell_type": "code",
   "execution_count": null,
   "id": "8bab9e35-7fdc-4401-a616-a377961d6ab1",
   "metadata": {},
   "outputs": [],
   "source": [
    "#import xx\n",
    "import dill"
   ]
  },
  {
   "cell_type": "code",
   "execution_count": null,
   "id": "03ee5cfb-d376-4211-baee-aefc929237c7",
   "metadata": {},
   "outputs": [],
   "source": [
    "ifile = open(\"testobj\", \"rb\")\n",
    "newdata = dill.load(ifile)\n",
    "ifile.close()"
   ]
  },
  {
   "cell_type": "code",
   "execution_count": null,
   "id": "a405f6bf-b420-413b-ad73-90aa3df9e86f",
   "metadata": {},
   "outputs": [],
   "source": [
    "xx.test = newdata"
   ]
  },
  {
   "cell_type": "markdown",
   "id": "3146e8f4-008d-4100-9d3b-b96c2626bbf3",
   "metadata": {
    "tags": []
   },
   "source": [
    "## Markers"
   ]
  },
  {
   "cell_type": "code",
   "execution_count": null,
   "id": "e13d48b2-70df-44f9-bfe1-ba822e5c89b9",
   "metadata": {},
   "outputs": [],
   "source": [
    "xx.test.display_marker()"
   ]
  },
  {
   "cell_type": "code",
   "execution_count": null,
   "id": "b8baa96b-8e3d-4c96-9ea0-4ed79ec58361",
   "metadata": {},
   "outputs": [],
   "source": [
    "xx.test.display_marker(marker=1)"
   ]
  },
  {
   "cell_type": "code",
   "execution_count": null,
   "id": "c12799f8-c0c0-4fa3-8ada-0116eb191296",
   "metadata": {},
   "outputs": [],
   "source": [
    "xx.test._markers[1]"
   ]
  },
  {
   "cell_type": "code",
   "execution_count": null,
   "id": "9fce583a-8f0c-4d18-b20c-c0aa18195666",
   "metadata": {},
   "outputs": [],
   "source": [
    "ifile = open(\"testobj\", \"rb\")\n",
    "newdata = dill.load(ifile)\n",
    "ifile.close()"
   ]
  },
  {
   "cell_type": "code",
   "execution_count": null,
   "id": "cce7aa15-34e2-4938-a6f8-b29150d8582f",
   "metadata": {},
   "outputs": [],
   "source": [
    "newdata.__doc__"
   ]
  },
  {
   "cell_type": "code",
   "execution_count": null,
   "id": "d25a019b-f81c-4c05-adfe-29d0e500d5a7",
   "metadata": {},
   "outputs": [],
   "source": [
    "newdata"
   ]
  },
  {
   "cell_type": "code",
   "execution_count": null,
   "id": "7dc04a92-68e1-4bfd-bc09-e91df181e9de",
   "metadata": {},
   "outputs": [],
   "source": [
    "from jupyter_bbox_widget import BBoxWidget\n",
    "widget = BBoxWidget(\n",
    "    image='fruit.jpg',\n",
    "    classes=['apple', 'orange', 'pear'],\n",
    ")\n",
    "widget"
   ]
  },
  {
   "cell_type": "code",
   "execution_count": 1,
   "id": "dba9ad9d-9b2d-4d04-ae64-56160e52d667",
   "metadata": {},
   "outputs": [],
   "source": [
    "import xx"
   ]
  },
  {
   "cell_type": "code",
   "execution_count": null,
   "id": "9a1b5169-9de2-4c99-b0fe-515203c089d3",
   "metadata": {},
   "outputs": [],
   "source": [
    "xx.test.capture()"
   ]
  },
  {
   "cell_type": "code",
   "execution_count": null,
   "id": "21906123-125b-4faf-943f-2897a999f581",
   "metadata": {},
   "outputs": [],
   "source": [
    "xx.test._img"
   ]
  },
  {
   "cell_type": "code",
   "execution_count": 6,
   "id": "65317314-65d5-484a-964d-8c6f5169ec15",
   "metadata": {},
   "outputs": [],
   "source": [
    "xx.test.savePNG(\"test.png\")"
   ]
  },
  {
   "cell_type": "code",
   "execution_count": 2,
   "id": "51625aab-f8ac-4a8b-9e07-a10dda1e30a9",
   "metadata": {},
   "outputs": [],
   "source": [
    "from PIL import Image, ImageDraw"
   ]
  },
  {
   "cell_type": "code",
   "execution_count": 3,
   "id": "cc48d7be-cd00-42e5-8e3d-f486671e7d1c",
   "metadata": {},
   "outputs": [],
   "source": [
    "target_image = Image.open(\"test.png\")\n",
    "payload = target_image.text[\"EMPpayload\"]"
   ]
  },
  {
   "cell_type": "code",
   "execution_count": 7,
   "id": "6a5c5c45-77e2-4a21-9456-a20cb02c2293",
   "metadata": {},
   "outputs": [
    {
     "name": "stdout",
     "output_type": "stream",
     "text": [
      "    Payload loaded, overwritng self\n"
     ]
    }
   ],
   "source": [
    "xx.test.loadPNG(\"test.png\")"
   ]
  },
  {
   "cell_type": "code",
   "execution_count": null,
   "id": "a92a17f1-2980-474a-81b1-a7875493a06f",
   "metadata": {},
   "outputs": [],
   "source": [
    "xx.test._markers[0][4]"
   ]
  },
  {
   "cell_type": "code",
   "execution_count": 4,
   "id": "5c51ad24-e9ee-4959-9d55-47ae07811a8c",
   "metadata": {},
   "outputs": [],
   "source": [
    "import dill\n",
    "import codecs\n",
    "a = dill.loads(codecs.decode(payload.encode(), \"base64\"))"
   ]
  },
  {
   "cell_type": "code",
   "execution_count": 5,
   "id": "c5fd4eb9-0c07-42c8-a74b-f420fbb65811",
   "metadata": {},
   "outputs": [],
   "source": [
    "xx.test.copy(a)"
   ]
  },
  {
   "cell_type": "code",
   "execution_count": null,
   "id": "8a762172-401a-4475-9e12-17727389b5ce",
   "metadata": {},
   "outputs": [],
   "source": [
    "xx.test._markers[0][3] = ['no_ctrA','no_text','no_enter']"
   ]
  },
  {
   "cell_type": "code",
   "execution_count": null,
   "id": "8c3885c8-6103-4466-9927-0d5f55283b3f",
   "metadata": {},
   "outputs": [],
   "source": [
    "xx.test.run()"
   ]
  },
  {
   "cell_type": "code",
   "execution_count": 8,
   "id": "ddf0be6b-3691-4481-8fb4-82d5e89ae897",
   "metadata": {},
   "outputs": [],
   "source": [
    "a = xx.test.display_marker()"
   ]
  },
  {
   "cell_type": "code",
   "execution_count": 9,
   "id": "73e3765c-6f92-4538-92f1-3b5e717135c6",
   "metadata": {},
   "outputs": [
    {
     "data": {
      "application/vnd.jupyter.widget-view+json": {
       "model_id": "cd545445a7994304a0a1995cf916e92a",
       "version_major": 2,
       "version_minor": 0
      },
      "text/plain": [
       "HBox(children=(VBox(children=(Image(value=b'\\x89PNG\\r\\n\\x1a\\n\\x00\\x00\\x00\\rIHDR\\x00\\x00\\x002\\x00\\x00\\x002\\x08\\…"
      ]
     },
     "execution_count": 9,
     "metadata": {},
     "output_type": "execute_result"
    }
   ],
   "source": [
    "a"
   ]
  },
  {
   "cell_type": "code",
   "execution_count": 13,
   "id": "3ff623c2-ceba-4ae2-a447-ea3471c83e35",
   "metadata": {},
   "outputs": [],
   "source": [
    "def testcb(inp):\n",
    "    if inp.new == True:\n",
    "        if 'no_ctrA' in xx.test._markers[0][3]:\n",
    "            xx.test._markers[0][3].append('no_ctrA')\n",
    "    else:\n",
    "        if not('no_ctrA' in xx.test._markers[0][3]):\n",
    "            xx.test._markers[0][3].remove('no_ctrA')"
   ]
  },
  {
   "cell_type": "code",
   "execution_count": 14,
   "id": "63b0a31b-c121-4382-8acf-43f8b4a0744f",
   "metadata": {},
   "outputs": [],
   "source": [
    "xx.test.ui_chkb1.observe(testcb,names='value')"
   ]
  },
  {
   "cell_type": "code",
   "execution_count": 17,
   "id": "52815811-ab28-4038-b56c-7cd9e92c6d60",
   "metadata": {},
   "outputs": [
    {
     "data": {
      "text/plain": [
       "['no_text', 'no_enter']"
      ]
     },
     "execution_count": 17,
     "metadata": {},
     "output_type": "execute_result"
    }
   ],
   "source": [
    "xx.test._markers[0][3]"
   ]
  },
  {
   "cell_type": "code",
   "execution_count": null,
   "id": "68d6591f-d170-443f-85c6-adae5d6e5dd0",
   "metadata": {},
   "outputs": [],
   "source": []
  }
 ],
 "metadata": {
  "kernelspec": {
   "display_name": "Python 3 (ipykernel)",
   "language": "python",
   "name": "python3"
  },
  "language_info": {
   "codemirror_mode": {
    "name": "ipython",
    "version": 3
   },
   "file_extension": ".py",
   "mimetype": "text/x-python",
   "name": "python",
   "nbconvert_exporter": "python",
   "pygments_lexer": "ipython3",
   "version": "3.10.7"
  }
 },
 "nbformat": 4,
 "nbformat_minor": 5
}
