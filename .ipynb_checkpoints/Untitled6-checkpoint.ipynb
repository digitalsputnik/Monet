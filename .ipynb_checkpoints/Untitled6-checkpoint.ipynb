{
 "cells": [
  {
   "cell_type": "code",
   "execution_count": 1,
   "id": "616909d1-7ecb-4576-86cc-932ea667f9d6",
   "metadata": {},
   "outputs": [
    {
     "name": "stderr",
     "output_type": "stream",
     "text": [
      "/Library/Frameworks/Python.framework/Versions/3.11/lib/python3.11/site-packages/rubicon/objc/ctypes_patch.py:21: UserWarning: rubicon.objc.ctypes_patch has only been tested with Python 3.4 through 3.10. You are using Python 3.11.0. Most likely things will work properly, but you may experience crashes if Python's internals have changed significantly.\n",
      "  warnings.warn(\n"
     ]
    }
   ],
   "source": [
    "import xx2"
   ]
  },
  {
   "cell_type": "code",
   "execution_count": 12,
   "id": "f1d1e650-8277-41fa-b4de-f5a698978ba7",
   "metadata": {},
   "outputs": [],
   "source": [
    "project_name = \"test\""
   ]
  },
  {
   "cell_type": "code",
   "execution_count": 2,
   "id": "baef9248-624d-4f03-8123-9bf49ac63b7f",
   "metadata": {},
   "outputs": [],
   "source": [
    "w = xx2.workflow(\"Epic_Library_add_asset\")"
   ]
  },
  {
   "cell_type": "code",
   "execution_count": null,
   "id": "83c0f8cd-d870-44a8-a0e8-b2fa2045bf95",
   "metadata": {},
   "outputs": [],
   "source": []
  },
  {
   "cell_type": "code",
   "execution_count": 6,
   "id": "f86c9914-4e26-40e6-ae1e-e8c4c3569307",
   "metadata": {},
   "outputs": [],
   "source": [
    "w.add_step()"
   ]
  },
  {
   "cell_type": "code",
   "execution_count": 7,
   "id": "78e4b8c6-4cd7-419c-849a-2c72f881fe8b",
   "metadata": {},
   "outputs": [
    {
     "name": "stdout",
     "output_type": "stream",
     "text": [
      "[!] Capture image 1st before assiging a marker\n",
      "Capture images and (input) positions for step construction\n",
      "[command]  - mark image corner (top left to right bottom)\n",
      "[esc]  - stop capture\n",
      "\n",
      " -> saved location on screen: 634 , 464\n",
      " -> saved location on screen: 850 , 521\n",
      " -> captured: \n"
     ]
    },
    {
     "data": {
      "image/png": "[encoded data removed]"
     },
     "metadata": {},
     "output_type": "display_data"
    },
    {
     "name": "stdout",
     "output_type": "stream",
     "text": [
      "locating (0/10): \n"
     ]
    },
    {
     "data": {
      "image/png": "[encoded data removed]"
     },
     "metadata": {},
     "output_type": "display_data"
    },
    {
     "name": "stdout",
     "output_type": "stream",
     "text": [
      "found @: [634, 463, 216, 57]\n",
      "Image found @: 634, 463\n",
      "[command]  - mark action location\n",
      "[esc]  - stop capture\n",
      "\n",
      " -> saved location on screen: 691 , 491\n",
      " -> captured action marker @: 57, 28\n",
      " -> overwriting break if not found\n"
     ]
    }
   ],
   "source": [
    "w.steps[-1].capture_action_marker()"
   ]
  },
  {
   "cell_type": "code",
   "execution_count": 19,
   "id": "169e79e9-f092-46ea-b653-b740ea23b250",
   "metadata": {},
   "outputs": [
    {
     "data": {
      "application/vnd.jupyter.widget-view+json": {
       "model_id": "561fb235361c46c58117b9a2efb95d4b",
       "version_major": 2,
       "version_minor": 0
      },
      "text/plain": [
       "Text(value='634', description='x')"
      ]
     },
     "metadata": {},
     "output_type": "display_data"
    },
    {
     "data": {
      "application/vnd.jupyter.widget-view+json": {
       "model_id": "3bc9546c76874cd98010ec9e2736497f",
       "version_major": 2,
       "version_minor": 0
      },
      "text/plain": [
       "Text(value='464', description='y')"
      ]
     },
     "metadata": {},
     "output_type": "display_data"
    },
    {
     "data": {
      "application/vnd.jupyter.widget-view+json": {
       "model_id": "90befc18cfb74fb5bbbdba5f0206ccff",
       "version_major": 2,
       "version_minor": 0
      },
      "text/plain": [
       "Text(value='216', description='width')"
      ]
     },
     "metadata": {},
     "output_type": "display_data"
    },
    {
     "data": {
      "application/vnd.jupyter.widget-view+json": {
       "model_id": "1c75ff1d6e5b4bfbb1ea72b044550601",
       "version_major": 2,
       "version_minor": 0
      },
      "text/plain": [
       "Text(value='57', description='height')"
      ]
     },
     "metadata": {},
     "output_type": "display_data"
    },
    {
     "data": {
      "application/vnd.jupyter.widget-view+json": {
       "model_id": "cdea95cb42a94f0fae6c7118f5a51ba6",
       "version_major": 2,
       "version_minor": 0
      },
      "text/plain": [
       "Checkbox(value=False, description='break if not found')"
      ]
     },
     "metadata": {},
     "output_type": "display_data"
    },
    {
     "data": {
      "application/vnd.jupyter.widget-view+json": {
       "model_id": "9a06f3b4dc9545049ca3f78a1ac3cf83",
       "version_major": 2,
       "version_minor": 0
      },
      "text/plain": [
       "Text(value='57', description='offset_x')"
      ]
     },
     "metadata": {},
     "output_type": "display_data"
    },
    {
     "data": {
      "application/vnd.jupyter.widget-view+json": {
       "model_id": "0a0a8a7ace7849f4a9798d732cf9cdbe",
       "version_major": 2,
       "version_minor": 0
      },
      "text/plain": [
       "Text(value='28', description='offset_y')"
      ]
     },
     "metadata": {},
     "output_type": "display_data"
    },
    {
     "data": {
      "application/vnd.jupyter.widget-view+json": {
       "model_id": "fe7aa3fe98ca48149d13cb0d26fb2ac8",
       "version_major": 2,
       "version_minor": 0
      },
      "text/plain": [
       "Dropdown(description='mouse', index=1, options=('move', 'click', 'right-click', 'double-click'), value='click'…"
      ]
     },
     "metadata": {},
     "output_type": "display_data"
    },
    {
     "data": {
      "application/vnd.jupyter.widget-view+json": {
       "model_id": "0be9996803e3434abfb3cfb4f839a654",
       "version_major": 2,
       "version_minor": 0
      },
      "text/plain": [
       "Checkbox(value=False, description='ctrla')"
      ]
     },
     "metadata": {},
     "output_type": "display_data"
    },
    {
     "data": {
      "application/vnd.jupyter.widget-view+json": {
       "model_id": "d767b064960e4ae18315c6aff94cbd51",
       "version_major": 2,
       "version_minor": 0
      },
      "text/plain": [
       "Text(value='project_name', description='text')"
      ]
     },
     "metadata": {},
     "output_type": "display_data"
    },
    {
     "data": {
      "application/vnd.jupyter.widget-view+json": {
       "model_id": "8bc5d5157cf44728b906e9c595751c65",
       "version_major": 2,
       "version_minor": 0
      },
      "text/plain": [
       "Checkbox(value=False, description='enter')"
      ]
     },
     "metadata": {},
     "output_type": "display_data"
    },
    {
     "data": {
      "application/vnd.jupyter.widget-view+json": {
       "model_id": "2bb7b09833a7405db2f3640df2c5e94a",
       "version_major": 2,
       "version_minor": 0
      },
      "text/plain": [
       "Checkbox(value=False, description='allfound')"
      ]
     },
     "metadata": {},
     "output_type": "display_data"
    },
    {
     "name": "stdout",
     "output_type": "stream",
     "text": [
      "[!] clear output before sving the step\n"
     ]
    }
   ],
   "source": [
    "w.steps[-1].edit()"
   ]
  },
  {
   "cell_type": "code",
   "execution_count": 20,
   "id": "5e8a9d02-415b-408d-8963-5c98ec5359d8",
   "metadata": {},
   "outputs": [
    {
     "name": "stdout",
     "output_type": "stream",
     "text": [
      "locating (0/30): \n"
     ]
    },
    {
     "data": {
      "image/png": "[encoded data removed]"
     },
     "metadata": {},
     "output_type": "display_data"
    },
    {
     "name": "stdout",
     "output_type": "stream",
     "text": [
      "locating (1/30): \n",
      "locating (2/30): \n",
      "found @: [625, 594, 216, 57]\n"
     ]
    },
    {
     "data": {
      "image/png": "[encoded data removed]"
     },
     "metadata": {},
     "output_type": "display_data"
    },
    {
     "name": "stdout",
     "output_type": "stream",
     "text": [
      " -> clicked @: [682,622]\n",
      "name 'self' is not defined\n"
     ]
    }
   ],
   "source": [
    "w.run()"
   ]
  },
  {
   "cell_type": "code",
   "execution_count": null,
   "id": "e17c1987-b9ae-48a4-b9ba-a9458e5f0a61",
   "metadata": {},
   "outputs": [],
   "source": []
  }
 ],
 "metadata": {
  "kernelspec": {
   "display_name": "Python 3 (ipykernel)",
   "language": "python",
   "name": "python3"
  },
  "language_info": {
   "codemirror_mode": {
    "name": "ipython",
    "version": 3
   },
   "file_extension": ".py",
   "mimetype": "text/x-python",
   "name": "python",
   "nbconvert_exporter": "python",
   "pygments_lexer": "ipython3",
   "version": "3.11.0"
  }
 },
 "nbformat": 4,
 "nbformat_minor": 5
}
