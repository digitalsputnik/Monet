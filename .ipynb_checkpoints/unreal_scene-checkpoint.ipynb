{
 "cells": [
  {
   "cell_type": "markdown",
   "id": "6d2ffd2f-1a7c-4156-a687-bee7822fe0d9",
   "metadata": {},
   "source": [
    "## The Plan\n",
    "- [ ] run unreal 5.0.3\n",
    "- [ ] create a new scene (media, raytracing enabled)\n",
    "- [ ] run epic...\n",
    "- [x] add to project\n",
    "1. Brushify scene\n",
    "1. Abstract object\n",
    "1. the dude\n",
    "- [x] switch to unreal\n",
    "- [ ] open level\n",
    "- [ ] place the abstract\n",
    "- [ ] place the manequin\n",
    "- [ ] add ticker\n",
    "- [ ] add DSDM for live tweaking\n",
    "- [ ] Play, Pause button?"
   ]
  },
  {
   "cell_type": "code",
   "execution_count": null,
   "id": "3fc93fdc-fc8a-4d9d-b575-9e6cb26c6a2d",
   "metadata": {},
   "outputs": [],
   "source": [
    "import xx2"
   ]
  },
  {
   "cell_type": "markdown",
   "id": "f129df8d-91a8-4a0f-931d-5da473127a3b",
   "metadata": {
    "tags": []
   },
   "source": [
    "## Import Workflows"
   ]
  },
  {
   "cell_type": "code",
   "execution_count": null,
   "id": "605abfd3-1dc3-4c9f-9443-14feb2120cc6",
   "metadata": {},
   "outputs": [],
   "source": [
    "ground_assets = xx2.workflow(\"ue_add_asset_Skybox_Bundle_II\")\n",
    "manneq_assets = xx2.workflow(\"ue_add_asset_ODSMannequin\")\n",
    "fracta_assets = xx2.workflow(\"ue_add_asset_UCreate\")\n",
    "\n",
    "ue_scene = xx2.workflow(\"ue_assemmble_scene\")\n",
    "\n",
    "ground_assets.load()\n",
    "manneq_assets.load()\n",
    "fracta_assets.load()\n",
    "ue_scene.load()"
   ]
  },
  {
   "cell_type": "markdown",
   "id": "c72b5e32-f3a4-43f4-86ef-df634ea3c091",
   "metadata": {},
   "source": [
    "## Run Workflows"
   ]
  },
  {
   "cell_type": "markdown",
   "id": "5ec6b6c9-df50-4f4b-904c-3f9bc250d87b",
   "metadata": {},
   "source": [
    "### Import Assets"
   ]
  },
  {
   "cell_type": "code",
   "execution_count": null,
   "id": "16d13aa5-db3e-4fa6-9aa4-e72067dd8016",
   "metadata": {},
   "outputs": [],
   "source": [
    "ground_assets.run()\n",
    "manneq_assets.run()\n",
    "fracta_assets.run()\n",
    "ue_scene.run()"
   ]
  },
  {
   "cell_type": "code",
   "execution_count": null,
   "id": "d0bf6bc0-dc46-4a85-ae2d-7d4fc92b31af",
   "metadata": {},
   "outputs": [],
   "source": []
  }
 ],
 "metadata": {
  "kernelspec": {
   "display_name": "Python 3 (ipykernel)",
   "language": "python",
   "name": "python3"
  },
  "language_info": {
   "codemirror_mode": {
    "name": "ipython",
    "version": 3
   },
   "file_extension": ".py",
   "mimetype": "text/x-python",
   "name": "python",
   "nbconvert_exporter": "python",
   "pygments_lexer": "ipython3",
   "version": "3.11.0"
  }
 },
 "nbformat": 4,
 "nbformat_minor": 5
}
