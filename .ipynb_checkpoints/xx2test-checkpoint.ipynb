{
 "cells": [
  {
   "cell_type": "code",
   "execution_count": null,
   "id": "2dbec09e-710b-4d2c-9dc2-58ce9395f654",
   "metadata": {},
   "outputs": [],
   "source": [
    "import xx2"
   ]
  },
  {
   "cell_type": "markdown",
   "id": "896464e4-8339-46bd-9d20-85011a565f52",
   "metadata": {},
   "source": [
    "restore png from disk with specific name"
   ]
  },
  {
   "cell_type": "code",
   "execution_count": null,
   "id": "4d17ec11-f84b-4e6e-8106-0c5917a26fe0",
   "metadata": {},
   "outputs": [],
   "source": [
    "w = xx2.workflow(\"test_wf\")"
   ]
  },
  {
   "cell_type": "code",
   "execution_count": null,
   "id": "7136551c-b342-4312-88e6-0b9f88ebf928",
   "metadata": {},
   "outputs": [],
   "source": [
    "w.add_step()\n",
    "w.last_step().capture_action_marker()"
   ]
  },
  {
   "cell_type": "code",
   "execution_count": null,
   "id": "54684dd2-1712-4b57-b470-94decf02266e",
   "metadata": {},
   "outputs": [],
   "source": [
    "w.copy_step()\n",
    "w.last_step.capture_action_marker()"
   ]
  },
  {
   "cell_type": "code",
   "execution_count": null,
   "id": "b3270c46-d9ed-45c6-86e3-ddc2103c5d2f",
   "metadata": {},
   "outputs": [],
   "source": [
    "w.steps[1].capture_action_marker()"
   ]
  },
  {
   "cell_type": "code",
   "execution_count": null,
   "id": "a96b32a9-b86d-4eea-82fe-0d0e43013788",
   "metadata": {},
   "outputs": [],
   "source": [
    "w.save()"
   ]
  },
  {
   "cell_type": "code",
   "execution_count": null,
   "id": "e16abbe8-344b-4f20-ad28-bb5ea4c8d36a",
   "metadata": {},
   "outputs": [],
   "source": [
    "import os"
   ]
  },
  {
   "cell_type": "code",
   "execution_count": null,
   "id": "30a2892d-cb75-48e1-b943-e6214ee5673e",
   "metadata": {},
   "outputs": [],
   "source": [
    "xx2.test = xx2.step()"
   ]
  },
  {
   "cell_type": "code",
   "execution_count": null,
   "id": "7f4d5526-49bd-44b7-9801-c6f978927deb",
   "metadata": {},
   "outputs": [],
   "source": [
    "xx2.test.name = \"mytest1\""
   ]
  },
  {
   "cell_type": "code",
   "execution_count": null,
   "id": "8eba64a4-a1d6-48d8-af94-9246db3ad4f1",
   "metadata": {},
   "outputs": [],
   "source": [
    "xx2.test.capture_action_marker()"
   ]
  },
  {
   "cell_type": "code",
   "execution_count": null,
   "id": "fcbeadbd-2c4e-4516-b95b-16d8550ca188",
   "metadata": {},
   "outputs": [],
   "source": [
    "xx2.test.loadPNG()"
   ]
  },
  {
   "cell_type": "markdown",
   "id": "bfde25db-4648-4366-8bdd-60e5b1947f4b",
   "metadata": {},
   "source": [
    "test"
   ]
  },
  {
   "cell_type": "code",
   "execution_count": null,
   "id": "183da029-06a2-444e-8f24-42c5cc1c84ec",
   "metadata": {},
   "outputs": [],
   "source": [
    "xx2.test.savePNG()"
   ]
  },
  {
   "cell_type": "code",
   "execution_count": null,
   "id": "dbe759f7-eb98-4e16-b38c-30587b0b4a90",
   "metadata": {},
   "outputs": [],
   "source": [
    "xx2.test.capture_action_marker()"
   ]
  },
  {
   "cell_type": "markdown",
   "id": "28975f3a-d394-469e-902e-81b51f82605d",
   "metadata": {},
   "source": [
    "create a new step as a copy"
   ]
  },
  {
   "cell_type": "code",
   "execution_count": null,
   "id": "9ddb9de3-f3ce-479a-ad08-82d97fba624d",
   "metadata": {},
   "outputs": [],
   "source": [
    "test=xx2.step()\n",
    "test.name = \"mytest1\"\n",
    "test.loadPNG()"
   ]
  },
  {
   "cell_type": "code",
   "execution_count": null,
   "id": "a6230781-e850-4e0e-b031-485fe7ef6f2d",
   "metadata": {},
   "outputs": [],
   "source": [
    "import copy\n",
    "test2=copy.copy(test)"
   ]
  },
  {
   "cell_type": "code",
   "execution_count": null,
   "id": "7a161ae4-c258-4f83-9314-b108b1eebbb7",
   "metadata": {},
   "outputs": [],
   "source": [
    "test2.capture_action_marker()"
   ]
  },
  {
   "cell_type": "code",
   "execution_count": null,
   "id": "8517839e-b80b-4f3a-bb2d-0a50f3b80a9d",
   "metadata": {},
   "outputs": [],
   "source": [
    "test.run()\n",
    "test2.run()"
   ]
  },
  {
   "cell_type": "code",
   "execution_count": null,
   "id": "5bc81753-89a2-4b4c-88c0-724416f38ff7",
   "metadata": {},
   "outputs": [],
   "source": [
    "test."
   ]
  },
  {
   "cell_type": "code",
   "execution_count": null,
   "id": "82231417-bd99-4b04-8145-79763e6ca2c2",
   "metadata": {},
   "outputs": [],
   "source": [
    "test = xx2.step()"
   ]
  },
  {
   "cell_type": "code",
   "execution_count": null,
   "id": "c9e96cfe-d013-47fc-bc53-a9bfe12b0704",
   "metadata": {},
   "outputs": [],
   "source": [
    "test.capture_action_marker()"
   ]
  },
  {
   "cell_type": "code",
   "execution_count": null,
   "id": "b141b728-2bc8-4d05-83f0-9fbe674461df",
   "metadata": {},
   "outputs": [],
   "source": [
    "test.savePNG()"
   ]
  },
  {
   "cell_type": "markdown",
   "id": "74184f8b-d5cb-44cb-af9e-3a27958bf76b",
   "metadata": {},
   "source": [
    "### Prop Tests"
   ]
  },
  {
   "cell_type": "code",
   "execution_count": null,
   "id": "a1aca70c-51d9-4a91-9661-f58f05702290",
   "metadata": {},
   "outputs": [],
   "source": [
    "test = xx2.prop(\"x\",False,init_script={'init':xx2.create_checkbox_str,'edit':xx2.edit_str,'draw':xx2.draw_str})"
   ]
  },
  {
   "cell_type": "code",
   "execution_count": null,
   "id": "82ba65ae-eeee-4593-bd56-11ca270ebbf5",
   "metadata": {},
   "outputs": [],
   "source": [
    "test.draw()"
   ]
  },
  {
   "cell_type": "code",
   "execution_count": null,
   "id": "52020a11-711e-4ef3-9e36-47c3fa89ae88",
   "metadata": {},
   "outputs": [],
   "source": [
    "test.value = True"
   ]
  },
  {
   "cell_type": "code",
   "execution_count": null,
   "id": "f91a51ee-ef0f-4e18-9ba3-98317b15bf5b",
   "metadata": {},
   "outputs": [],
   "source": [
    "xx2.test.get_prop(\"x\")"
   ]
  },
  {
   "cell_type": "code",
   "execution_count": null,
   "id": "a194cc8e-f9ee-4d75-a21b-96a4101fca29",
   "metadata": {},
   "outputs": [],
   "source": [
    "import shutil"
   ]
  },
  {
   "cell_type": "code",
   "execution_count": null,
   "id": "7dbf9fc5-baa1-4858-9812-566b58028d63",
   "metadata": {},
   "outputs": [],
   "source": [
    "shutil."
   ]
  }
 ],
 "metadata": {
  "kernelspec": {
   "display_name": "Python 3 (ipykernel)",
   "language": "python",
   "name": "python3"
  },
  "language_info": {
   "codemirror_mode": {
    "name": "ipython",
    "version": 3
   },
   "file_extension": ".py",
   "mimetype": "text/x-python",
   "name": "python",
   "nbconvert_exporter": "python",
   "pygments_lexer": "ipython3",
   "version": "3.11.0"
  }
 },
 "nbformat": 4,
 "nbformat_minor": 5
}
