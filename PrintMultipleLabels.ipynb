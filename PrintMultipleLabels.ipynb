{
 "cells": [
  {
   "cell_type": "code",
   "execution_count": 2,
   "id": "594ead03-f277-4d58-a9a2-9fa4d5f5c75c",
   "metadata": {},
   "outputs": [
    {
     "name": "stdout",
     "output_type": "stream",
     "text": [
      "\u001b[33mWARNING: The directory '/Users/kaur/Library/Caches/pip' or its parent directory is not owned or is not writable by the current user. The cache has been disabled. Check the permissions and owner of that directory. If executing pip with sudo, you should use sudo's -H flag.\u001b[0m\u001b[33m\n",
      "\u001b[0mCollecting qrcode\n",
      "  Downloading qrcode-7.3.1.tar.gz (43 kB)\n",
      "\u001b[2K     \u001b[90m━━━━━━━━━━━━━━━━━━━━━━━━━━━━━━━━━━━━━━━━\u001b[0m \u001b[32m43.5/43.5 kB\u001b[0m \u001b[31m7.4 MB/s\u001b[0m eta \u001b[36m0:00:00\u001b[0m\n",
      "\u001b[?25h  Preparing metadata (setup.py) ... \u001b[?25ldone\n",
      "\u001b[?25hInstalling collected packages: qrcode\n",
      "\u001b[33m  DEPRECATION: qrcode is being installed using the legacy 'setup.py install' method, because it does not have a 'pyproject.toml' and the 'wheel' package is not installed. pip 23.1 will enforce this behaviour change. A possible replacement is to enable the '--use-pep517' option. Discussion can be found at https://github.com/pypa/pip/issues/8559\u001b[0m\u001b[33m\n",
      "\u001b[0m  Running setup.py install for qrcode ... \u001b[?25ldone\n",
      "\u001b[?25hSuccessfully installed qrcode-7.3.1\n",
      "\u001b[33mWARNING: Running pip as the 'root' user can result in broken permissions and conflicting behaviour with the system package manager. It is recommended to use a virtual environment instead: https://pip.pypa.io/warnings/venv\u001b[0m\u001b[33m\n",
      "\u001b[0mNote: you may need to restart the kernel to use updated packages.\n"
     ]
    }
   ],
   "source": [
    "%pip install qrcode"
   ]
  },
  {
   "cell_type": "code",
   "execution_count": 3,
   "id": "722f34d6-6fed-4893-9044-8103e214a872",
   "metadata": {},
   "outputs": [],
   "source": [
    "import xx\n",
    "import os\n",
    "import qrcode\n",
    "import pyautogui as gui\n",
    "import random"
   ]
  },
  {
   "cell_type": "code",
   "execution_count": 4,
   "id": "13c066d7-7976-47f9-a23b-d06492da64b3",
   "metadata": {},
   "outputs": [],
   "source": [
    "os.environ['ui_scale'] = '1.3333'\n",
    "os.environ['ui_px2screen'] = '2.0'"
   ]
  },
  {
   "cell_type": "code",
   "execution_count": 5,
   "id": "2a0610e2-fd59-43ec-acb9-b7c75b512cd8",
   "metadata": {},
   "outputs": [],
   "source": [
    "def gencode():\n",
    "    parta = \"%04x\" % random.randint(0,65535)\n",
    "    partb = \"%04x\" % random.randint(0,65535)\n",
    "    package = \"X.\"+parta.upper()+\".\"+partb.upper()\n",
    "    return package"
   ]
  },
  {
   "cell_type": "code",
   "execution_count": 6,
   "id": "3285afaa-3fcc-4840-a78e-f57023a158b0",
   "metadata": {},
   "outputs": [
    {
     "name": "stdout",
     "output_type": "stream",
     "text": [
      "    Payload loaded, overwritng self\n",
      "    Payload loaded, overwritng self\n",
      "    Payload loaded, overwritng self\n",
      "    Payload loaded, overwritng self\n",
      "    Payload loaded, overwritng self\n",
      "    Payload loaded, overwritng self\n",
      "    Payload loaded, overwritng self\n",
      "    Payload loaded, overwritng self\n",
      "    Payload loaded, overwritng self\n",
      "    Payload loaded, overwritng self\n"
     ]
    }
   ],
   "source": [
    "step1p = xx.step(img=\"step1p.png\")\n",
    "step2p = xx.step(img=\"step2p.png\")\n",
    "step3p = xx.step(img=\"step3p.png\")\n",
    "\n",
    "label3 = xx.step(img=\"label3.drawio.open.png\")\n",
    "label4 = xx.step(img=\"label4.drawio.product_id_qr.png\")\n",
    "label5 = xx.step(img=\"label5.drawio.lot_serial_qr.png\")\n",
    "label6 = xx.step(img=\"label6.drawio.insert_txt.png\")\n",
    "\n",
    "print1 = xx.step(img=\"print1.png\")\n",
    "print2 = xx.step(img=\"print2.png\")\n",
    "print3 = xx.step(img=\"print3.png\")"
   ]
  },
  {
   "cell_type": "code",
   "execution_count": 7,
   "id": "0ffc0077-79e5-461f-95fa-4c4a166e58b4",
   "metadata": {},
   "outputs": [],
   "source": [
    "gui.hotkey(xx.os_ctrl(),'p')"
   ]
  },
  {
   "cell_type": "code",
   "execution_count": 37,
   "id": "c99dd066-799a-41fa-bf93-bee599b94784",
   "metadata": {},
   "outputs": [
    {
     "name": "stdout",
     "output_type": "stream",
     "text": [
      "scale multplier = 1.0\n",
      "locating (0/10): \n"
     ]
    },
    {
     "data": {
      "image/png": "[encoded data removed]"
     },
     "metadata": {},
     "output_type": "display_data"
    },
    {
     "ename": "KeyboardInterrupt",
     "evalue": "",
     "output_type": "error",
     "traceback": [
      "\u001b[0;31m---------------------------------------------------------------------------\u001b[0m",
      "\u001b[0;31mKeyboardInterrupt\u001b[0m                         Traceback (most recent call last)",
      "Input \u001b[0;32mIn [37]\u001b[0m, in \u001b[0;36m<module>\u001b[0;34m\u001b[0m\n\u001b[1;32m      1\u001b[0m \u001b[38;5;28;01mfor\u001b[39;00m i \u001b[38;5;129;01min\u001b[39;00m \u001b[38;5;28mrange\u001b[39m(\u001b[38;5;241m1\u001b[39m):\n\u001b[0;32m----> 2\u001b[0m     \u001b[43mstep1p\u001b[49m\u001b[38;5;241;43m.\u001b[39;49m\u001b[43mrun\u001b[49m\u001b[43m(\u001b[49m\u001b[43m)\u001b[49m\n\u001b[1;32m      3\u001b[0m     new_code \u001b[38;5;241m=\u001b[39m gencode()\n\u001b[1;32m      4\u001b[0m     qr \u001b[38;5;241m=\u001b[39m qrcode\u001b[38;5;241m.\u001b[39mmake(new_code)\n",
      "File \u001b[0;32m~/Documents/Github/Monet/xx.py:305\u001b[0m, in \u001b[0;36mstep.run\u001b[0;34m(self)\u001b[0m\n\u001b[1;32m    302\u001b[0m     saved_scaale \u001b[38;5;241m=\u001b[39m \u001b[38;5;28mself\u001b[39m\u001b[38;5;241m.\u001b[39m_img_scale\n\u001b[1;32m    304\u001b[0m \u001b[38;5;28mself\u001b[39m\u001b[38;5;241m.\u001b[39mfound_loc \u001b[38;5;241m=\u001b[39m \u001b[38;5;28;01mNone\u001b[39;00m\n\u001b[0;32m--> 305\u001b[0m \u001b[38;5;28mself\u001b[39m\u001b[38;5;241m.\u001b[39mfound_loc\u001b[38;5;241m=\u001b[39m\u001b[43mfind_in_window\u001b[49m\u001b[43m(\u001b[49m\u001b[38;5;28;43mself\u001b[39;49m\u001b[38;5;241;43m.\u001b[39;49m\u001b[43m_img\u001b[49m\u001b[43m,\u001b[49m\u001b[43m \u001b[49m\u001b[43mtries\u001b[49m\u001b[38;5;241;43m=\u001b[39;49m\u001b[38;5;28;43mself\u001b[39;49m\u001b[38;5;241;43m.\u001b[39;49m\u001b[43mtimeout\u001b[49m\u001b[43m,\u001b[49m\u001b[43m \u001b[49m\u001b[43mscroll\u001b[49m\u001b[38;5;241;43m=\u001b[39;49m\u001b[38;5;28;43mself\u001b[39;49m\u001b[38;5;241;43m.\u001b[39;49m\u001b[43m_scroll\u001b[49m\u001b[43m,\u001b[49m\u001b[43m \u001b[49m\u001b[43mrecorded_scale\u001b[49m\u001b[38;5;241;43m=\u001b[39;49m\u001b[38;5;28;43mself\u001b[39;49m\u001b[38;5;241;43m.\u001b[39;49m\u001b[43m_img_scale\u001b[49m\u001b[43m)\u001b[49m\n\u001b[1;32m    307\u001b[0m \u001b[38;5;66;03m# if no image is found, maybe move into execution if we want to have custom logic for not found as well\u001b[39;00m\n\u001b[1;32m    308\u001b[0m \u001b[38;5;28;01mif\u001b[39;00m \u001b[38;5;28mself\u001b[39m\u001b[38;5;241m.\u001b[39mfound_loc\u001b[38;5;241m==\u001b[39m\u001b[38;5;28;01mNone\u001b[39;00m:\n",
      "File \u001b[0;32m~/Documents/Github/Monet/xx.py:90\u001b[0m, in \u001b[0;36mfind_in_window\u001b[0;34m(imgsrc, bbox, tries, wait, scroll, match_q, recorded_scale)\u001b[0m\n\u001b[1;32m     87\u001b[0m     \u001b[38;5;28;01mexcept\u001b[39;00m \u001b[38;5;167;01mException\u001b[39;00m \u001b[38;5;28;01mas\u001b[39;00m e:\n\u001b[1;32m     88\u001b[0m         \u001b[38;5;28mprint\u001b[39m(e)\n\u001b[0;32m---> 90\u001b[0m     \u001b[43mtime\u001b[49m\u001b[38;5;241;43m.\u001b[39;49m\u001b[43msleep\u001b[49m\u001b[43m(\u001b[49m\u001b[43mwait\u001b[49m\u001b[43m)\u001b[49m\n\u001b[1;32m     91\u001b[0m \u001b[38;5;66;03m# if function times out, no location is found    \u001b[39;00m\n\u001b[1;32m     92\u001b[0m \u001b[38;5;28;01mreturn\u001b[39;00m \u001b[38;5;28;01mNone\u001b[39;00m\n",
      "\u001b[0;31mKeyboardInterrupt\u001b[0m: "
     ]
    }
   ],
   "source": [
    "for i in range(1):\n",
    "    step1p.run()\n",
    "    new_code = gencode()\n",
    "    qr = qrcode.make(new_code)\n",
    "    qr.save(\"qr/qr5.png\",\"png\")\n",
    "    gui.typewrite(new_code)\n",
    "    step2p.run()\n",
    "    label3.run()  # replace image\n",
    "    label4.run()  # open\n",
    "    label5.run() # select correct file* 13\n",
    "    gui.press('down')\n",
    "    gui.press('down')\n",
    "    gui.press('down')\n",
    "    gui.press('down')\n",
    "    label6.run()  # ok\n",
    "    step3p.run()\n",
    "\n",
    "    gui.hotkey(xx.os_ctrl(),'p')\n",
    "\n",
    "    print1.run()\n",
    "    print2.run()\n",
    "    print3.run()"
   ]
  },
  {
   "cell_type": "markdown",
   "id": "a9d8eac1-a35c-4c19-bec4-75c7cb9910cc",
   "metadata": {},
   "source": [
    "# step1p.run()"
   ]
  },
  {
   "cell_type": "code",
   "execution_count": null,
   "id": "380e4537-a011-4de9-8cf1-98e5ec6d1c9b",
   "metadata": {},
   "outputs": [],
   "source": [
    "print2.props.append(xx.prop(\"break if not found\",True,draw=xx.draw_checkbox_str,on_edit=xx.edit_str))"
   ]
  },
  {
   "cell_type": "code",
   "execution_count": null,
   "id": "f6598ddd-b167-4410-9c8b-d7cbee185e32",
   "metadata": {},
   "outputs": [],
   "source": [
    "print2.edit_step()"
   ]
  },
  {
   "cell_type": "code",
   "execution_count": null,
   "id": "b189ef8f-a763-445f-9ff6-c4da80862542",
   "metadata": {},
   "outputs": [],
   "source": [
    "for i in print2.props:\n",
    "    if i.name=='break if not found':\n",
    "        print(i.value())"
   ]
  },
  {
   "cell_type": "code",
   "execution_count": null,
   "id": "442a49ab-ba32-4bd3-8986-748a41f258df",
   "metadata": {},
   "outputs": [],
   "source": [
    "import base64\n",
    "\n",
    "with open(\"print2.png\", \"rb\") as image_file:\n",
    "    encoded_string = base64.b64encode(image_file.read())"
   ]
  },
  {
   "cell_type": "code",
   "execution_count": null,
   "id": "da7336d6-3aed-4648-98c1-f994f4478adf",
   "metadata": {},
   "outputs": [],
   "source": [
    "out = \"data:image/png;base64,\"+encoded_string.decode()"
   ]
  },
  {
   "cell_type": "code",
   "execution_count": null,
   "id": "b4fb8ed6-73fa-4a5a-a651-e9d45bd815fc",
   "metadata": {},
   "outputs": [],
   "source": [
    "out[0:1000]"
   ]
  },
  {
   "cell_type": "code",
   "execution_count": null,
   "id": "9d5fe1d4-98d4-4c4d-b7f5-5a6913f79846",
   "metadata": {},
   "outputs": [],
   "source": [
    "pyperclip.copy(out)"
   ]
  },
  {
   "cell_type": "code",
   "execution_count": null,
   "id": "8238dcf0-2c82-4f7c-9203-86e633c678f4",
   "metadata": {},
   "outputs": [],
   "source": []
  },
  {
   "cell_type": "code",
   "execution_count": null,
   "id": "4439d513-9412-4255-b370-e5eba4f0f5c2",
   "metadata": {},
   "outputs": [],
   "source": [
    "step1p._markers[0][0]['text']._on_create = 'self.w=widgets.Text(value=str(self._val),description=self.name)'"
   ]
  },
  {
   "cell_type": "code",
   "execution_count": null,
   "id": "ae41ae56-c125-4974-8472-6480f44d9beb",
   "metadata": {},
   "outputs": [],
   "source": [
    "step1p._markers[0][0]['text']._on_create"
   ]
  },
  {
   "cell_type": "code",
   "execution_count": null,
   "id": "0574aad1-6f54-4b4b-bf98-9c7e6f1423ec",
   "metadata": {},
   "outputs": [],
   "source": [
    "step1p._markers[0][0]['text']._draw = 'display.display(self.w)\\nself.w.observe(self.setval,names=\"value\")'"
   ]
  },
  {
   "cell_type": "code",
   "execution_count": null,
   "id": "6c404c4f-9c32-4da1-b262-a7da67d36de8",
   "metadata": {},
   "outputs": [],
   "source": [
    "step1p.savePNG(\"step1p.png\")"
   ]
  },
  {
   "cell_type": "code",
   "execution_count": null,
   "id": "926f2392-c0d2-4a13-abc2-e9002a579695",
   "metadata": {},
   "outputs": [],
   "source": [
    "step1p.loadPNG(\"step1p.png\")"
   ]
  },
  {
   "cell_type": "code",
   "execution_count": null,
   "id": "5fac7015-50fd-49bb-a5e5-de9d29eff7e5",
   "metadata": {},
   "outputs": [],
   "source": [
    "xx.prop(\"aa\",\"bb\",on_create=\"print('test')\")"
   ]
  },
  {
   "cell_type": "code",
   "execution_count": null,
   "id": "1e6d5ec0-65c2-4ec9-91dc-836503aa700e",
   "metadata": {},
   "outputs": [],
   "source": [
    "test = xx.prop(\"aa\",\"bb\",on_create='self.w=widgets.Text(value=str(self._val),description=self.name)')"
   ]
  },
  {
   "cell_type": "code",
   "execution_count": null,
   "id": "cde403ee-0dd7-46ba-b7cd-a4acdc64923e",
   "metadata": {},
   "outputs": [],
   "source": [
    "test.w"
   ]
  },
  {
   "cell_type": "code",
   "execution_count": null,
   "id": "168cae9c-cf69-4877-bfc3-fe37542a74fb",
   "metadata": {},
   "outputs": [],
   "source": [
    "test = xx.step()"
   ]
  },
  {
   "cell_type": "code",
   "execution_count": null,
   "id": "7321458c-3222-4a55-be86-9c216b756e93",
   "metadata": {},
   "outputs": [],
   "source": [
    "test.capture()"
   ]
  },
  {
   "cell_type": "code",
   "execution_count": null,
   "id": "d1c3965b-781c-4dcd-a807-72da51f1069d",
   "metadata": {},
   "outputs": [],
   "source": [
    "test.savePNG(\"testXXX.png\")"
   ]
  },
  {
   "cell_type": "code",
   "execution_count": null,
   "id": "b2b0d24d-50af-417b-9bc1-0c24c1415202",
   "metadata": {},
   "outputs": [],
   "source": [
    "test = xx.step(img=\"testXXX.png\")"
   ]
  },
  {
   "cell_type": "code",
   "execution_count": null,
   "id": "3b46463b-1d35-4ba2-90f3-9e9c869c5945",
   "metadata": {},
   "outputs": [],
   "source": [
    "test._markers[0][0]['x']._on_create"
   ]
  },
  {
   "cell_type": "code",
   "execution_count": null,
   "id": "50aa6b0f-a495-4785-9a0d-16024efcbdf7",
   "metadata": {},
   "outputs": [],
   "source": [
    "from PIL import Image, ImageDraw\n",
    "from PIL.PngImagePlugin import PngInfo\n",
    "from IPython import display\n",
    "import ipywidgets as widgets"
   ]
  },
  {
   "cell_type": "code",
   "execution_count": null,
   "id": "a3c5ca9e-042d-4474-9b4b-13ea46a61f3d",
   "metadata": {},
   "outputs": [],
   "source": [
    "print1.__dict__"
   ]
  },
  {
   "cell_type": "code",
   "execution_count": null,
   "id": "72481e39-da8a-4695-91aa-9b79a5a133f6",
   "metadata": {},
   "outputs": [],
   "source": [
    "print1._markers[0][0]['x'].__dict__"
   ]
  },
  {
   "cell_type": "code",
   "execution_count": null,
   "id": "ae63530f-e4f5-49ca-93a1-2edf9a21021e",
   "metadata": {},
   "outputs": [],
   "source": [
    "marker.recreate = self.recreate.__get__(test._markers[0][0]['x'])"
   ]
  },
  {
   "cell_type": "code",
   "execution_count": null,
   "id": "3e07d43b-326d-41ff-88ed-7a482c2e4c8c",
   "metadata": {},
   "outputs": [],
   "source": [
    "marker.recreate()"
   ]
  },
  {
   "cell_type": "code",
   "execution_count": 11,
   "id": "e28719bb-f233-4897-8864-f07156d96434",
   "metadata": {},
   "outputs": [],
   "source": [
    "def update_prop(prop,ltype):\n",
    "    if ltype=='text':\n",
    "        new = xx.prop(prop.name, prop.value(), kind=ltype, on_edit=xx.edit_str, on_create=xx.create_txt_str, on_cancel=prop._on_cancel, draw=xx.draw_str)\n",
    "    if ltype=='dropdown':\n",
    "        new = xx.prop(prop.name, prop.value(), kind=ltype, on_edit=xx.edit_str, on_create=xx.create_dropdown_str, on_cancel=prop._on_cancel, draw=xx.draw_str)\n",
    "    if ltype=='checkbox':\n",
    "        new = xx.prop(prop.name, prop.value(), kind=ltype, on_edit=xx.edit_str, on_create=xx.create_checkbox_str, on_cancel=prop._on_cancel, draw=xx.draw_str)\n",
    "    return new"
   ]
  },
  {
   "cell_type": "code",
   "execution_count": 12,
   "id": "63019302-9f6c-4dfd-b040-bf0f86a176e1",
   "metadata": {},
   "outputs": [],
   "source": [
    "def update_marker(marker):\n",
    "    marker[0]['x'] = update_prop(marker[0]['x'],'text')\n",
    "    marker[0]['x'].recreate()\n",
    "    marker[0]['y'] = update_prop(marker[0]['y'],'text')\n",
    "    marker[0]['y'].recreate()\n",
    "    marker[0]['ctrla'] = update_prop(marker[0]['ctrla'],'checkbox')\n",
    "    marker[0]['ctrla'].recreate()\n",
    "    marker[0]['mouse'] = update_prop(marker[0]['mouse'],'dropdown')\n",
    "    marker[0]['mouse'].recreate()\n",
    "    marker[0]['text'] = update_prop(marker[0]['text'],'text')\n",
    "    marker[0]['text'].recreate()\n",
    "    marker[0]['enter'] = update_prop(marker[0]['enter'],'checkbox')\n",
    "    marker[0]['enter'].recreate()\n",
    "    "
   ]
  },
  {
   "cell_type": "code",
   "execution_count": 39,
   "id": "4fa7aa4c-ea39-4e59-90a5-64fe1c652160",
   "metadata": {},
   "outputs": [],
   "source": [
    "def update_markers(markers):\n",
    "    for ms in markers:\n",
    "        update_marker(ms)"
   ]
  },
  {
   "cell_type": "code",
   "execution_count": 45,
   "id": "c84fe3ad-614f-4dbe-a24d-7026687c145e",
   "metadata": {},
   "outputs": [],
   "source": [
    "def update_sprops(step):\n",
    "    step.props[0] = update_prop(step.props[0],'text')\n",
    "    step.props[1] = update_prop(step.props[0],'text')\n",
    "    step.props[2] = update_prop(step.props[0],'text')\n",
    "    step.props[3] = update_prop(step.props[0],'text')\n",
    "    try:\n",
    "        step.props[4] = xx.prop(\"break if not found\",True,kind='checkbox',on_create=xx.create_checkbox_str,on_edit=xx.edit_str, draw=xx.draw_str)\n",
    "    except:\n",
    "        step.props.append(xx.prop(\"break if not found\",True,kind='checkbox',on_create=xx.create_checkbox_str,on_edit=xx.edit_str, draw=xx.draw_str))"
   ]
  },
  {
   "cell_type": "code",
   "execution_count": 47,
   "id": "aea159d1-1c57-48f3-9169-d4631e5a34cc",
   "metadata": {},
   "outputs": [],
   "source": [
    "update_markers(print1._markers)\n",
    "update_sprops(print1)"
   ]
  },
  {
   "cell_type": "code",
   "execution_count": 48,
   "id": "78a55cd9-cc6e-4e2a-b7cb-5e10ba1f8fe5",
   "metadata": {},
   "outputs": [
    {
     "name": "stdout",
     "output_type": "stream",
     "text": [
      "    Payload loaded, overwritng self\n",
      "010.odoo.lot_serial.png\n",
      "    Payload loaded, overwritng self\n",
      "020.odoo.open_lot_serial.png\n",
      "    Payload loaded, overwritng self\n",
      "030.odoo.copy_brws_addr.png\n",
      "    Payload loaded, overwritng self\n",
      "040.odoo.copy_brws_addr.png\n",
      "    Payload loaded, overwritng self\n",
      "label1.drawio.lotqr.png\n",
      "    Payload loaded, overwritng self\n",
      "label2.drawio.edit_image.png\n",
      "    Payload loaded, overwritng self\n",
      "label3.drawio.open.png\n",
      "    Payload loaded, overwritng self\n",
      "label4.drawio.product_id_qr.png\n",
      "    Payload loaded, overwritng self\n",
      "label5.drawio.lot_serial_qr.png\n",
      "    Payload loaded, overwritng self\n",
      "label6.drawio.insert_txt.png\n",
      "    Payload loaded, overwritng self\n",
      "label7.drawio.count.png\n",
      "    Payload loaded, overwritng self\n",
      "label8.drawio.print.png\n",
      "    Payload loaded, overwritng self\n",
      "label9.drawio.print2.png\n",
      "    Payload loaded, overwritng self\n",
      "label10.png\n",
      "    Payload loaded, overwritng self\n",
      "label11.png\n",
      "    Payload loaded, overwritng self\n",
      "label12.png\n",
      "    Payload loaded, overwritng self\n",
      "label13.png\n",
      "    Payload loaded, overwritng self\n",
      "del1.png\n",
      "    Payload loaded, overwritng self\n",
      "del2.png\n",
      "    Payload loaded, overwritng self\n",
      "del3.png\n",
      "    Payload loaded, overwritng self\n",
      "print1.png\n",
      "    Payload loaded, overwritng self\n",
      "print2.png\n",
      "    Payload loaded, overwritng self\n",
      "print3.png\n",
      "    Payload loaded, overwritng self\n",
      "r1.odoo.lot_reset.png\n",
      "    Payload loaded, overwritng self\n",
      "r1x.drawio.got_2_lot_serial_label.png\n",
      "    Payload loaded, overwritng self\n",
      "r2.odoo.rmv_filters.png\n",
      "    Payload loaded, overwritng self\n",
      "r3.odoo.group_by_2_product.png\n"
     ]
    }
   ],
   "source": [
    "file_list = \"\"\"step1 = xx.step(img=\"010.odoo.lot_serial.png\")\n",
    "step2 = xx.step(img=\"020.odoo.open_lot_serial.png\")\n",
    "step3 = xx.step(img=\"030.odoo.copy_brws_addr.png\")\n",
    "step4 = xx.step(img=\"040.odoo.copy_brws_addr.png\")\n",
    "\n",
    "# Import DrawIo\n",
    "######################\n",
    "label1 = xx.step(img=\"label1.drawio.lotqr.png\")\n",
    "label2 = xx.step(img=\"label2.drawio.edit_image.png\")\n",
    "label3 = xx.step(img=\"label3.drawio.open.png\")\n",
    "label4 = xx.step(img=\"label4.drawio.product_id_qr.png\")\n",
    "label5 = xx.step(img=\"label5.drawio.lot_serial_qr.png\")\n",
    "label6 = xx.step(img=\"label6.drawio.insert_txt.png\")\n",
    "label7 = xx.step(img=\"label7.drawio.count.png\")\n",
    "label8 = xx.step(img=\"label8.drawio.print.png\")\n",
    "label9 = xx.step(img=\"label9.drawio.print2.png\")\n",
    "label10 = xx.step(img=\"label10.png\")\n",
    "label11 = xx.step(img=\"label11.png\")\n",
    "label12 = xx.step(img=\"label12.png\")\n",
    "label13 = xx.step(img=\"label13.png\")\n",
    "\n",
    "# delte package if no data\n",
    "del1 = xx.step(img=\"del1.png\")\n",
    "del2 = xx.step(img=\"del2.png\")\n",
    "del3 = xx.step(img=\"del3.png\")\n",
    "\n",
    "#print\n",
    "print1 = xx.step(img=\"print1.png\")\n",
    "print2 = xx.step(img=\"print2.png\")\n",
    "print3 = xx.step(img=\"print3.png\")\n",
    "\n",
    "r1 = xx.step(img=\"r1.odoo.lot_reset.png\")\n",
    "r1x = xx.step(img=\"r1x.drawio.got_2_lot_serial_label.png\")\n",
    "r2 = xx.step(img=\"r2.odoo.rmv_filters.png\")\n",
    "r3 = xx.step(img=\"r3.odoo.group_by_2_product.png\")\n",
    "\"\"\"\n",
    "\n",
    "lines = file_list.split('\\n')\n",
    "new_list = []\n",
    "for l in lines:\n",
    "    if l.find('img')>0:\n",
    "        new_list.append(l[l.find('img')+5:-2])\n",
    "        \n",
    "for file in new_list:\n",
    "    newstep = xx.step(img=file)\n",
    "    update_markers(newstep._markers)\n",
    "    update_sprops(newstep)\n",
    "    newstep.savePNG(file)\n",
    "    print(file)"
   ]
  },
  {
   "cell_type": "code",
   "execution_count": null,
   "id": "a8685446-0c90-46a9-8e53-782997ed6cc3",
   "metadata": {},
   "outputs": [],
   "source": [
    "import time\n",
    "time.time()"
   ]
  },
  {
   "cell_type": "code",
   "execution_count": null,
   "id": "0e3394ea-b422-455a-86e5-73c0f3627330",
   "metadata": {},
   "outputs": [],
   "source": [
    "time.ctime(1666963730.96295)"
   ]
  },
  {
   "cell_type": "code",
   "execution_count": null,
   "id": "8ba0c770-7c29-47a5-9b7b-dcb1d2822ce7",
   "metadata": {},
   "outputs": [],
   "source": [
    "update_marker(print2._markers[0])"
   ]
  },
  {
   "cell_type": "code",
   "execution_count": null,
   "id": "097fbf01-992e-4a3d-8847-8e59a9236e86",
   "metadata": {},
   "outputs": [],
   "source": [
    "type(print3._markers[0][0]['mouse'].value())"
   ]
  },
  {
   "cell_type": "code",
   "execution_count": null,
   "id": "f3186d7c-3268-4f73-b92e-0ae43a088b03",
   "metadata": {},
   "outputs": [],
   "source": []
  }
 ],
 "metadata": {
  "kernelspec": {
   "display_name": "Python 3 (ipykernel)",
   "language": "python",
   "name": "python3"
  },
  "language_info": {
   "codemirror_mode": {
    "name": "ipython",
    "version": 3
   },
   "file_extension": ".py",
   "mimetype": "text/x-python",
   "name": "python",
   "nbconvert_exporter": "python",
   "pygments_lexer": "ipython3",
   "version": "3.10.1"
  }
 },
 "nbformat": 4,
 "nbformat_minor": 5
}
