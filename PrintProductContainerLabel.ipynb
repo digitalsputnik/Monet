{
 "cells": [
  {
   "cell_type": "code",
   "execution_count": null,
   "id": "6a99d1cd-bab3-42ad-bfaa-4f3e286e4b43",
   "metadata": {
    "tags": []
   },
   "outputs": [],
   "source": [
    "%pip install qrcode"
   ]
  },
  {
   "cell_type": "markdown",
   "id": "d7255048-007b-4086-bb29-ec05e764e09e",
   "metadata": {
    "jp-MarkdownHeadingCollapsed": true,
    "tags": []
   },
   "source": [
    "## Phone acess\n",
    "\n",
    "copy from terminal the following the similar line below once started the script\n",
    "\n",
    "http://192.168.2.102:8888/lab?token=acff58dcc6e63f48748cb008d2066a7290185befb997b27e"
   ]
  },
  {
   "cell_type": "code",
   "execution_count": null,
   "id": "29428c05-cc04-4b5d-b87c-495a344dc936",
   "metadata": {},
   "outputs": [],
   "source": [
    "inpx = input()\n",
    "qrcode.make(inpx)\n"
   ]
  },
  {
   "cell_type": "markdown",
   "id": "15485193-96d5-49ea-9d1d-6ea70e6088f6",
   "metadata": {
    "tags": []
   },
   "source": [
    "## Setup\n",
    "\n",
    "Before You start make sure to open one chrome window and make sure it is higher and to left from the jupyter window\n",
    "\n",
    "setup needs to be done once"
   ]
  },
  {
   "cell_type": "code",
   "execution_count": 1,
   "id": "b76cef93-ad75-4e8d-bc8d-3e02fc5ff266",
   "metadata": {
    "tags": []
   },
   "outputs": [
    {
     "name": "stdout",
     "output_type": "stream",
     "text": [
      "    Payload loaded, overwritng self\n",
      "    Payload loaded, overwritng self\n",
      "    Payload loaded, overwritng self\n",
      "    Payload loaded, overwritng self\n",
      "    Payload loaded, overwritng self\n",
      "    Payload loaded, overwritng self\n",
      "    Payload loaded, overwritng self\n",
      "    Payload loaded, overwritng self\n",
      "    Payload loaded, overwritng self\n",
      "    Payload loaded, overwritng self\n",
      "    Payload loaded, overwritng self\n",
      "    Payload loaded, overwritng self\n",
      "    Payload loaded, overwritng self\n",
      "    Payload loaded, overwritng self\n",
      "    Payload loaded, overwritng self\n",
      "    Payload loaded, overwritng self\n",
      "    Payload loaded, overwritng self\n",
      "    Payload loaded, overwritng self\n",
      "    Payload loaded, overwritng self\n",
      "    Payload loaded, overwritng self\n",
      "    Payload loaded, overwritng self\n",
      "    Payload loaded, overwritng self\n",
      "    Payload loaded, overwritng self\n",
      "    Payload loaded, overwritng self\n",
      "    Payload loaded, overwritng self\n",
      "    Payload loaded, overwritng self\n",
      "    Payload loaded, overwritng self\n"
     ]
    }
   ],
   "source": [
    "import xx\n",
    "import os\n",
    "os.environ['ui_scale'] = '1.3333'\n",
    "os.environ['ui_px2screen'] = '2.0'\n",
    "from PIL import Image, ImageDraw\n",
    "\n",
    "#https://gist.github.com/komasaru/ed07018ae246d128370a1693f5dd1849\n",
    "#with slight modifications by Kaspar Kallas\n",
    "import requests\n",
    "import sys\n",
    "import traceback\n",
    "import urllib\n",
    "import copy\n",
    "import random\n",
    "\n",
    "def shorten(url_long):\n",
    "    URL = \"http://tinyurl.com/api-create.php\"\n",
    "    try:\n",
    "        url = URL + \"?\" \\\n",
    "            + urllib.parse.urlencode({\"url\": url_long})\n",
    "        res = requests.get(url)\n",
    "        print(\"STATUS CODE:\", res.status_code)\n",
    "        print(\"   LONG URL:\", url_long)\n",
    "        print(\"  SHORT URL:\", res.text)\n",
    "        return res.text\n",
    "    except Exception as e:\n",
    "        raise\n",
    "        \n",
    "import xx\n",
    "# Import Odoo steps\n",
    "######################\n",
    "step1 = xx.step(img=\"010.odoo.lot_serial.png\")\n",
    "step2 = xx.step(img=\"020.odoo.open_lot_serial.png\")\n",
    "step3 = xx.step(img=\"030.odoo.copy_brws_addr.png\")\n",
    "step4 = xx.step(img=\"040.odoo.copy_brws_addr.png\")\n",
    "\n",
    "# Import DrawIo\n",
    "######################\n",
    "label1 = xx.step(img=\"label1.drawio.lotqr.png\")\n",
    "label2 = xx.step(img=\"label2.drawio.edit_image.png\")\n",
    "label3 = xx.step(img=\"label3.drawio.open.png\")\n",
    "label4 = xx.step(img=\"label4.drawio.product_id_qr.png\")\n",
    "label5 = xx.step(img=\"label5.drawio.lot_serial_qr.png\")\n",
    "label6 = xx.step(img=\"label6.drawio.insert_txt.png\")\n",
    "label7 = xx.step(img=\"label7.drawio.count.png\")\n",
    "label8 = xx.step(img=\"label8.drawio.print.png\")\n",
    "label9 = xx.step(img=\"label9.drawio.print2.png\")\n",
    "label10 = xx.step(img=\"label10.png\")\n",
    "label11 = xx.step(img=\"label11.png\")\n",
    "label12 = xx.step(img=\"label12.png\")\n",
    "label13 = xx.step(img=\"label13.png\")\n",
    "\n",
    "# delte package if no data\n",
    "del1 = xx.step(img=\"del1.png\")\n",
    "del2 = xx.step(img=\"del2.png\")\n",
    "del3 = xx.step(img=\"del3.png\")\n",
    "\n",
    "#print\n",
    "print1 = xx.step(img=\"print1.png\")\n",
    "print2 = xx.step(img=\"print2.png\")\n",
    "print3 = xx.step(img=\"print3.png\")\n",
    "\n",
    "r1 = xx.step(img=\"r1.odoo.lot_reset.png\")\n",
    "r1x = xx.step(img=\"r1x.drawio.got_2_lot_serial_label.png\")\n",
    "r2 = xx.step(img=\"r2.odoo.rmv_filters.png\")\n",
    "r3 = xx.step(img=\"r3.odoo.group_by_2_product.png\")"
   ]
  },
  {
   "cell_type": "markdown",
   "id": "1bd25871-7448-44b4-8fcf-a7326e11d840",
   "metadata": {
    "tags": []
   },
   "source": [
    "## Run\n",
    "Copy the inventory adjustment line into input and wait for the print"
   ]
  },
  {
   "cell_type": "code",
   "execution_count": 16,
   "id": "8e5ffac5-9c50-4dd1-9c3c-5c0aa5fda6f1",
   "metadata": {},
   "outputs": [
    {
     "name": "stdout",
     "output_type": "stream",
     "text": [
      "copy and paste a single line from odoo inventory adjustmen (in progress state):\n"
     ]
    },
    {
     "name": "stdin",
     "output_type": "stream",
     "text": [
      " \t[4910801003] Boost choke ETD34 140uH 9A\t22/10/20\tX.19B7.E176\t0.00\t\t14.00\t14.00\tUnits ​ [4910801003] Boost choke ETD34 140uH 9A\t22/10/20\tX.0EF6.D8BB\t0.00\t\t35.00\t35.00\tUnits\n"
     ]
    },
    {
     "name": "stdout",
     "output_type": "stream",
     "text": [
      "{'name': 'value', 'old': '2162777310', 'new': '4910801003', 'owner': Text(value='4910801003', description='text'), 'type': 'change'}\n",
      "{'name': 'value', 'old': 'El. Cap. 220uF 100V 105C 1A 100mohm D12', 'new': 'Boost choke ETD34 140uH 9A', 'owner': Text(value='Boost choke ETD34 140uH 9A', description='text'), 'type': 'change'}\n",
      "{'name': 'value', 'old': '28/10/2022 : 387.00Units \\u200b ', 'new': '28/10/2022 : 14.00Units \\u200b ', 'owner': Text(value='28/10/2022 : 14.00Units \\u200b ', description='text'), 'type': 'change'}\n",
      "{'name': 'value', 'old': 'testraisk', 'new': 'X.19B7.E176', 'owner': Text(value='X.19B7.E176', description='text'), 'type': 'change'}\n",
      "Product code:\n"
     ]
    },
    {
     "data": {
      "application/vnd.jupyter.widget-view+json": {
       "model_id": "e97f9e65da2243ac99daead4fd87ed4e",
       "version_major": 2,
       "version_minor": 0
      },
      "text/plain": [
       "Text(value='4910801003', description='text')"
      ]
     },
     "metadata": {},
     "output_type": "display_data"
    },
    {
     "name": "stdout",
     "output_type": "stream",
     "text": [
      "Product name:\n"
     ]
    },
    {
     "data": {
      "application/vnd.jupyter.widget-view+json": {
       "model_id": "da3eb1fa2a2a410e9bd1ea169b36e9bc",
       "version_major": 2,
       "version_minor": 0
      },
      "text/plain": [
       "Text(value='Boost choke ETD34 140uH 9A', description='text')"
      ]
     },
     "metadata": {},
     "output_type": "display_data"
    },
    {
     "name": "stdout",
     "output_type": "stream",
     "text": [
      "Product qty:\n"
     ]
    },
    {
     "data": {
      "application/vnd.jupyter.widget-view+json": {
       "model_id": "d258e5c21b2641519743a7f26541977f",
       "version_major": 2,
       "version_minor": 0
      },
      "text/plain": [
       "Text(value='28/10/2022 : 14.00Units \\u200b ', description='text')"
      ]
     },
     "metadata": {},
     "output_type": "display_data"
    },
    {
     "name": "stdout",
     "output_type": "stream",
     "text": [
      "Lot/Serial:\n"
     ]
    },
    {
     "data": {
      "application/vnd.jupyter.widget-view+json": {
       "model_id": "0eb5f74d922a430388f9ff12620c5418",
       "version_major": 2,
       "version_minor": 0
      },
      "text/plain": [
       "Text(value='22/10/20', description='text')"
      ]
     },
     "metadata": {},
     "output_type": "display_data"
    },
    {
     "name": "stdout",
     "output_type": "stream",
     "text": [
      "Package:\n"
     ]
    },
    {
     "data": {
      "application/vnd.jupyter.widget-view+json": {
       "model_id": "5de465b6272441d1a091b2de1eb3a5f7",
       "version_major": 2,
       "version_minor": 0
      },
      "text/plain": [
       "Text(value='X.19B7.E176', description='text')"
      ]
     },
     "metadata": {},
     "output_type": "display_data"
    }
   ],
   "source": [
    "setup_job()"
   ]
  },
  {
   "cell_type": "code",
   "execution_count": 17,
   "id": "4c37e2ed-4db0-4891-a8ec-f6eeb1cd9ff8",
   "metadata": {},
   "outputs": [
    {
     "name": "stdout",
     "output_type": "stream",
     "text": [
      "scale multplier = 1.0\n",
      "locating (0/10): \n"
     ]
    },
    {
     "data": {
      "image/png": "[encoded data removed]"
     },
     "metadata": {},
     "output_type": "display_data"
    },
    {
     "name": "stdout",
     "output_type": "stream",
     "text": [
      "found @: [2, 71, 100, 25]\n",
      "    -> clicked @: [218,91]\n",
      "    -> Keystroke: [ctrl]+[a]\n",
      "    -> Pasted : https://www.digitalsputnik.com/web#action=412&model=stock.production.lot&view_type=list&cids=1&menu_id=255\n",
      "    -> Keystroke: [enter]\n",
      "scale multplier = 1.0\n",
      "locating (0/1): \n"
     ]
    },
    {
     "data": {
      "image/png": "[encoded data removed]"
     },
     "metadata": {},
     "output_type": "display_data"
    },
    {
     "name": "stdout",
     "output_type": "stream",
     "text": [
      "-> Image Not Found\n",
      "False\n",
      "scale multplier = 1.0\n",
      "locating (0/10): \n"
     ]
    },
    {
     "data": {
      "image/png": "[encoded data removed]"
     },
     "metadata": {},
     "output_type": "display_data"
    },
    {
     "name": "stdout",
     "output_type": "stream",
     "text": [
      "found @: [615, 160, 95, 28]\n",
      "    -> clicked @: [697,175]\n",
      "    -> Pasted : 4910801003\n",
      "scale multplier = 1.0\n",
      "locating (0/10): \n"
     ]
    },
    {
     "data": {
      "image/png": "[encoded data removed]"
     },
     "metadata": {},
     "output_type": "display_data"
    },
    {
     "name": "stdout",
     "output_type": "stream",
     "text": [
      "found @: [11, 248, 145, 22]\n",
      "    -> clicked @: [62,298]\n",
      "scale multplier = 1.0\n",
      "locating (0/10): \n"
     ]
    },
    {
     "data": {
      "image/png": "[encoded data removed]"
     },
     "metadata": {},
     "output_type": "display_data"
    },
    {
     "name": "stdout",
     "output_type": "stream",
     "text": [
      "found @: [2, 71, 100, 25]\n",
      "    -> clicked @: [218,91]\n",
      "    -> Keystroke: [ctrl]+[a]\n",
      "scale multplier = 1.0\n",
      "locating (0/10): \n"
     ]
    },
    {
     "data": {
      "image/png": "[encoded data removed]"
     },
     "metadata": {},
     "output_type": "display_data"
    },
    {
     "name": "stdout",
     "output_type": "stream",
     "text": [
      "found @: [11, 158, 172, 24]\n",
      "\n",
      "--- GENERATING QR ---\n",
      "STATUS CODE: 200\n",
      "   LONG URL: https://www.digitalsputnik.com/web#id=3200&action=412&model=stock.production.lot&view_type=form&cids=1&menu_id=255\n",
      "  SHORT URL: https://tinyurl.com/266umqmm\n",
      "-> https://tinyurl.com/266umqmm\n"
     ]
    },
    {
     "data": {
      "image/png": "[encoded data removed]"
     },
     "metadata": {},
     "output_type": "display_data"
    },
    {
     "name": "stdout",
     "output_type": "stream",
     "text": [
      "-> 4910801003\n"
     ]
    },
    {
     "data": {
      "image/png": "[encoded data removed]"
     },
     "metadata": {},
     "output_type": "display_data"
    },
    {
     "name": "stdout",
     "output_type": "stream",
     "text": [
      "-> 22/10/20\n"
     ]
    },
    {
     "data": {
      "image/png": "[encoded data removed]"
     },
     "metadata": {},
     "output_type": "display_data"
    },
    {
     "name": "stdout",
     "output_type": "stream",
     "text": [
      "-> 28/10/2022 : 14.00Units ​ \n"
     ]
    },
    {
     "data": {
      "image/png": "[encoded data removed]"
     },
     "metadata": {},
     "output_type": "display_data"
    },
    {
     "name": "stdout",
     "output_type": "stream",
     "text": [
      "-> X.19B7.E176\n",
      "scale multplier = 1.0\n",
      "locating (0/10): \n"
     ]
    },
    {
     "data": {
      "image/png": "[encoded data removed]"
     },
     "metadata": {},
     "output_type": "display_data"
    },
    {
     "name": "stdout",
     "output_type": "stream",
     "text": [
      "locating (1/10): \n",
      "found @: [2, 71, 100, 25]\n",
      "    -> clicked @: [218,91]\n",
      "    -> Keystroke: [ctrl]+[a]\n",
      "    -> Pasted : https://app.diagrams.net/#G1R_Jx9MtyA-KDkEajqmnClda4pq-Y42Ur\n",
      "    -> Keystroke: [enter]\n",
      "scale multplier = 1.0\n",
      "locating (0/10): \n"
     ]
    },
    {
     "data": {
      "image/png": "[encoded data removed]"
     },
     "metadata": {},
     "output_type": "display_data"
    },
    {
     "name": "stdout",
     "output_type": "stream",
     "text": [
      "locating (1/10): \n",
      "locating (2/10): \n",
      "found @: [451, 266, 68, 42]\n",
      "    -> double-clicked @: [682,242]\n",
      "    -> Pasted : 4910801003\n",
      "    -> double-clicked @: [496,429]\n",
      "    -> Pasted : Boost choke ETD34 140uH 9A\n",
      "    -> clicked @: [548,510]\n",
      "    -> Pasted : 28/10/2022 : 14.00Units ​ \n",
      "    -> clicked @: [542,559]\n",
      "    -> Pasted : 22/10/20\n",
      "    -> clicked @: [548,601]\n",
      "    -> Pasted : X.19B7.E176\n",
      "scale multplier = 1.0\n",
      "locating (0/10): \n"
     ]
    },
    {
     "data": {
      "image/png": "[encoded data removed]"
     },
     "metadata": {},
     "output_type": "display_data"
    },
    {
     "name": "stdout",
     "output_type": "stream",
     "text": [
      "found @: [446, 258, 73, 49]\n",
      "    -> right-clicked @: [550,334]\n",
      "scale multplier = 1.0\n",
      "locating (0/10): \n"
     ]
    },
    {
     "data": {
      "image/png": "[encoded data removed]"
     },
     "metadata": {},
     "output_type": "display_data"
    },
    {
     "name": "stdout",
     "output_type": "stream",
     "text": [
      "found @: [577, 768, 104, 21]\n",
      "    -> clicked @: [597,780]\n",
      "scale multplier = 1.0\n",
      "locating (0/10): \n"
     ]
    },
    {
     "data": {
      "image/png": "[encoded data removed]"
     },
     "metadata": {},
     "output_type": "display_data"
    },
    {
     "name": "stdout",
     "output_type": "stream",
     "text": [
      "found @: [537, 499, 85, 46]\n",
      "    -> clicked @: [585,525]\n",
      "scale multplier = 1.0\n",
      "locating (0/10): \n"
     ]
    },
    {
     "data": {
      "image/png": "[encoded data removed]"
     },
     "metadata": {},
     "output_type": "display_data"
    },
    {
     "name": "stdout",
     "output_type": "stream",
     "text": [
      "locating (1/10): \n",
      "found @: [404, 244, 52, 18]\n",
      "    -> clicked @: [394,256]\n",
      "scale multplier = 1.0\n",
      "locating (0/10): \n"
     ]
    },
    {
     "data": {
      "image/png": "[encoded data removed]"
     },
     "metadata": {},
     "output_type": "display_data"
    },
    {
     "name": "stdout",
     "output_type": "stream",
     "text": [
      "found @: [800, 774, 181, 30]\n",
      "    -> clicked @: [950,793]\n",
      "scale multplier = 1.0\n",
      "locating (0/10): \n"
     ]
    },
    {
     "data": {
      "image/png": "[encoded data removed]"
     },
     "metadata": {},
     "output_type": "display_data"
    },
    {
     "name": "stdout",
     "output_type": "stream",
     "text": [
      "locating (1/10): \n",
      "found @: [447, 259, 73, 48]\n",
      "    -> right-clicked @: [691,305]\n",
      "scale multplier = 1.0\n",
      "locating (0/10): \n"
     ]
    },
    {
     "data": {
      "image/png": "[encoded data removed]"
     },
     "metadata": {},
     "output_type": "display_data"
    },
    {
     "name": "stdout",
     "output_type": "stream",
     "text": [
      "found @: [718, 739, 104, 21]\n",
      "    -> clicked @: [738,751]\n",
      "scale multplier = 1.0\n",
      "locating (0/10): \n"
     ]
    },
    {
     "data": {
      "image/png": "[encoded data removed]"
     },
     "metadata": {},
     "output_type": "display_data"
    },
    {
     "name": "stdout",
     "output_type": "stream",
     "text": [
      "found @: [537, 499, 85, 46]\n",
      "    -> clicked @: [585,525]\n",
      "scale multplier = 1.0\n",
      "locating (0/10): \n"
     ]
    },
    {
     "data": {
      "image/png": "[encoded data removed]"
     },
     "metadata": {},
     "output_type": "display_data"
    },
    {
     "name": "stdout",
     "output_type": "stream",
     "text": [
      "locating (1/10): \n",
      "found @: [404, 244, 52, 18]\n",
      "    -> clicked @: [394,256]\n",
      "scale multplier = 1.0\n",
      "locating (0/10): \n"
     ]
    },
    {
     "data": {
      "image/png": "[encoded data removed]"
     },
     "metadata": {},
     "output_type": "display_data"
    },
    {
     "name": "stdout",
     "output_type": "stream",
     "text": [
      "found @: [800, 774, 181, 30]\n",
      "    -> clicked @: [950,793]\n",
      "scale multplier = 1.0\n",
      "locating (0/10): \n"
     ]
    },
    {
     "data": {
      "image/png": "[encoded data removed]"
     },
     "metadata": {},
     "output_type": "display_data"
    },
    {
     "name": "stdout",
     "output_type": "stream",
     "text": [
      "locating (1/10): \n",
      "found @: [450, 265, 68, 42]\n",
      "    -> right-clicked @: [505,500]\n",
      "scale multplier = 1.0\n",
      "locating (0/10): \n"
     ]
    },
    {
     "data": {
      "image/png": "[encoded data removed]"
     },
     "metadata": {},
     "output_type": "display_data"
    },
    {
     "name": "stdout",
     "output_type": "stream",
     "text": [
      "found @: [532, 853, 104, 21]\n",
      "    -> clicked @: [552,865]\n",
      "scale multplier = 1.0\n",
      "locating (0/10): \n"
     ]
    },
    {
     "data": {
      "image/png": "[encoded data removed]"
     },
     "metadata": {},
     "output_type": "display_data"
    },
    {
     "name": "stdout",
     "output_type": "stream",
     "text": [
      "found @: [537, 499, 85, 46]\n",
      "    -> clicked @: [585,525]\n",
      "scale multplier = 1.0\n",
      "locating (0/10): \n"
     ]
    },
    {
     "data": {
      "image/png": "[encoded data removed]"
     },
     "metadata": {},
     "output_type": "display_data"
    },
    {
     "name": "stdout",
     "output_type": "stream",
     "text": [
      "locating (1/10): \n",
      "found @: [404, 244, 52, 18]\n",
      "    -> clicked @: [394,256]\n",
      "scale multplier = 1.0\n",
      "locating (0/10): \n"
     ]
    },
    {
     "data": {
      "image/png": "[encoded data removed]"
     },
     "metadata": {},
     "output_type": "display_data"
    },
    {
     "name": "stdout",
     "output_type": "stream",
     "text": [
      "found @: [800, 774, 181, 30]\n",
      "    -> clicked @: [950,793]\n",
      "scale multplier = 1.0\n",
      "locating (0/10): \n"
     ]
    },
    {
     "data": {
      "image/png": "[encoded data removed]"
     },
     "metadata": {},
     "output_type": "display_data"
    },
    {
     "name": "stdout",
     "output_type": "stream",
     "text": [
      "locating (1/10): \n",
      "found @: [450, 263, 69, 44]\n",
      "    -> right-clicked @: [506,548]\n",
      "scale multplier = 1.0\n",
      "locating (0/10): \n"
     ]
    },
    {
     "data": {
      "image/png": "[encoded data removed]"
     },
     "metadata": {},
     "output_type": "display_data"
    },
    {
     "name": "stdout",
     "output_type": "stream",
     "text": [
      "found @: [533, 853, 104, 21]\n",
      "    -> clicked @: [553,865]\n",
      "scale multplier = 1.0\n",
      "locating (0/10): \n"
     ]
    },
    {
     "data": {
      "image/png": "[encoded data removed]"
     },
     "metadata": {},
     "output_type": "display_data"
    },
    {
     "name": "stdout",
     "output_type": "stream",
     "text": [
      "found @: [537, 499, 85, 46]\n",
      "    -> clicked @: [585,525]\n",
      "scale multplier = 1.0\n",
      "locating (0/10): \n"
     ]
    },
    {
     "data": {
      "image/png": "[encoded data removed]"
     },
     "metadata": {},
     "output_type": "display_data"
    },
    {
     "name": "stdout",
     "output_type": "stream",
     "text": [
      "locating (1/10): \n",
      "found @: [404, 244, 52, 18]\n",
      "    -> clicked @: [394,256]\n",
      "scale multplier = 1.0\n",
      "locating (0/10): \n"
     ]
    },
    {
     "data": {
      "image/png": "[encoded data removed]"
     },
     "metadata": {},
     "output_type": "display_data"
    },
    {
     "name": "stdout",
     "output_type": "stream",
     "text": [
      "found @: [800, 774, 181, 30]\n",
      "    -> clicked @: [950,793]\n",
      "scale multplier = 1.0\n",
      "locating (0/10): \n"
     ]
    },
    {
     "data": {
      "image/png": "[encoded data removed]"
     },
     "metadata": {},
     "output_type": "display_data"
    },
    {
     "name": "stdout",
     "output_type": "stream",
     "text": [
      "locating (1/10): \n",
      "found @: [442, 261, 78, 47]\n",
      "    -> right-clicked @: [505,591]\n",
      "scale multplier = 1.0\n",
      "locating (0/10): \n"
     ]
    },
    {
     "data": {
      "image/png": "[encoded data removed]"
     },
     "metadata": {},
     "output_type": "display_data"
    },
    {
     "name": "stdout",
     "output_type": "stream",
     "text": [
      "found @: [532, 853, 104, 21]\n",
      "    -> clicked @: [552,865]\n",
      "scale multplier = 1.0\n",
      "locating (0/10): \n"
     ]
    },
    {
     "data": {
      "image/png": "[encoded data removed]"
     },
     "metadata": {},
     "output_type": "display_data"
    },
    {
     "name": "stdout",
     "output_type": "stream",
     "text": [
      "found @: [537, 499, 85, 46]\n",
      "    -> clicked @: [585,525]\n",
      "scale multplier = 1.0\n",
      "locating (0/10): \n"
     ]
    },
    {
     "data": {
      "image/png": "[encoded data removed]"
     },
     "metadata": {},
     "output_type": "display_data"
    },
    {
     "name": "stdout",
     "output_type": "stream",
     "text": [
      "locating (1/10): \n",
      "found @: [404, 244, 52, 18]\n",
      "    -> clicked @: [394,256]\n",
      "scale multplier = 1.0\n",
      "locating (0/10): \n"
     ]
    },
    {
     "data": {
      "image/png": "[encoded data removed]"
     },
     "metadata": {},
     "output_type": "display_data"
    },
    {
     "name": "stdout",
     "output_type": "stream",
     "text": [
      "found @: [800, 774, 181, 30]\n",
      "    -> clicked @: [950,793]\n",
      "scale multplier = 1.0\n",
      "locating (0/10): \n"
     ]
    },
    {
     "data": {
      "image/png": "[encoded data removed]"
     },
     "metadata": {},
     "output_type": "display_data"
    },
    {
     "name": "stdout",
     "output_type": "stream",
     "text": [
      "locating (1/10): \n",
      "found @: [444, 263, 74, 44]\n",
      "    -> clicked @: [466,610]\n",
      "scale multplier = 1.0\n",
      "locating (0/10): \n"
     ]
    },
    {
     "data": {
      "image/png": "[encoded data removed]"
     },
     "metadata": {},
     "output_type": "display_data"
    },
    {
     "name": "stdout",
     "output_type": "stream",
     "text": [
      "found @: [471, 605, 335, 44]\n",
      "    -> clicked @: [769,631]\n",
      "scale multplier = 1.0\n",
      "locating (0/10): \n"
     ]
    },
    {
     "data": {
      "image/png": "[encoded data removed]"
     },
     "metadata": {},
     "output_type": "display_data"
    },
    {
     "name": "stdout",
     "output_type": "stream",
     "text": [
      "locating (1/10): \n",
      "found @: [929, 697, 181, 52]\n",
      "    -> clicked @: [1072,729]\n",
      "scale multplier = 1.0\n",
      "locating (0/10): \n"
     ]
    },
    {
     "data": {
      "image/png": "[encoded data removed]"
     },
     "metadata": {},
     "output_type": "display_data"
    },
    {
     "name": "stdout",
     "output_type": "stream",
     "text": [
      "locating (1/10): \n",
      "found @: [444, 263, 74, 44]\n",
      "    -> clicked @: [466,610]\n"
     ]
    }
   ],
   "source": [
    "run_job()"
   ]
  },
  {
   "cell_type": "code",
   "execution_count": 15,
   "id": "f3e56e68-4c7d-4810-9a1b-940df58d6993",
   "metadata": {
    "tags": []
   },
   "outputs": [],
   "source": [
    "def setup_job():\n",
    "    #inp=\"[4910801104] LLC trafo ETD39 75kHz 59V\t22/10/20\tX.2C8F.64C4\t0.00\t\t50.00\t50.00\tUnits\"\n",
    "    print(\"copy and paste a single line from odoo inventory adjustmen (in progress state):\")\n",
    "    inp=input()\n",
    "    from datetime import datetime\n",
    "    import time\n",
    "\n",
    "    now = datetime.now()\n",
    "    date = now.strftime(\"%d/%m/%Y\")\n",
    "\n",
    "    #filter out single line\n",
    "    if not(inp[0]=='['):\n",
    "        inp=inp[inp.find('['):]\n",
    "    \n",
    "    if inp[1:].find('['):\n",
    "        inp = inp[:inp[1:].find('[')+1]\n",
    "\n",
    "    cols = inp.split('\\t')\n",
    "    product_code=inp[1:inp.find(']')]\n",
    "    lot_serial = cols[1]\n",
    "    product_name = inp[inp.find(']')+2:inp.find('\\t')]\n",
    "    package = cols[2]\n",
    "    if package==\"\":\n",
    "        parta = \"%04x\" % random.randint(0,65535)\n",
    "        partb = \"%04x\" % random.randint(0,65535)\n",
    "        package = \"X.\"+parta.upper()+\".\"+partb.upper()\n",
    "    if cols[7]==\"Units\":\n",
    "        product_qty = date+\" : \"+cols[5][:-3]+\" \"+cols[7]\n",
    "    else:\n",
    "        product_qty = date+\" : \"+cols[5]+cols[7]\n",
    "\n",
    "    step1._markers[0][0]['text'].value(val = product_code)\n",
    "    label1._markers[0][0]['text'].value(val = product_code)\n",
    "    label1._markers[1][0]['text'].value(val = product_name)\n",
    "    label1._markers[2][0]['text'].value(val = product_qty)\n",
    "    label1._markers[3][0]['text'].value(val = lot_serial)\n",
    "    label1._markers[4][0]['text'].value(val = package)\n",
    "\n",
    "    print(\"Product code:\")\n",
    "    step1._markers[0][0]['text'].draw()\n",
    "    print(\"Product name:\")\n",
    "    label1._markers[1][0]['text'].draw()\n",
    "    print(\"Product qty:\")\n",
    "    label1._markers[2][0]['text'].draw()\n",
    "    print(\"Lot/Serial:\")\n",
    "    label1._markers[3][0]['text'].draw()\n",
    "    print(\"Package:\")\n",
    "    label1._markers[4][0]['text'].draw()\n",
    "\n",
    "\n",
    "\n",
    "def run_job():\n",
    "    product_code = step1._markers[0][0]['text'].value()\n",
    "    product_name = label1._markers[1][0]['text'].value()\n",
    "    product_qty = label1._markers[2][0]['text'].value()\n",
    "    lot_serial = label1._markers[3][0]['text'].value()\n",
    "    package = label1._markers[4][0]['text'].value()  \n",
    "        \n",
    "    import pyautogui as gui\n",
    "    import pyperclip\n",
    "    import qrcode\n",
    "    from IPython import display\n",
    "\n",
    "    #gui.hotkey(xx.os_ctrl(),'t')\n",
    "\n",
    "    r1.run()\n",
    "    if r2.run():\n",
    "        gui.hotkey('backspace')\n",
    "        gui.hotkey('backspace')\n",
    "        r3.run()\n",
    "\n",
    "    step1.run()\n",
    "    gui.press('down')\n",
    "    gui.press('enter')\n",
    "    gui.typewrite(lot_serial)\n",
    "    gui.press('enter')\n",
    "    step2.run()\n",
    "    step3.run()\n",
    "    step4.run()\n",
    "    gui.hotkey(xx.os_ctrl(),'c')\n",
    "    addr = pyperclip.paste()\n",
    "    #gui.hotkey(xx.os_ctrl(),'w')\n",
    "\n",
    "    print(\"\")\n",
    "    print(\"--- GENERATING QR ---\")\n",
    "\n",
    "    short_url = shorten(addr)\n",
    "    weblink_qr = qrcode.make(short_url)\n",
    "    print(\"-> \"+short_url)\n",
    "    display.display_png(weblink_qr)\n",
    "    weblink_qr.save(\"qr/qr1.png\",\"png\")\n",
    "\n",
    "    productid_qr = qrcode.make(product_code)\n",
    "    print(\"-> \"+product_code)\n",
    "    display.display_png(productid_qr)\n",
    "    productid_qr.save(\"qr/qr2.png\",\"png\")\n",
    "\n",
    "    lotserial_qr = qrcode.make(lot_serial)\n",
    "    print(\"-> \"+lot_serial)\n",
    "    display.display_png(lotserial_qr)\n",
    "    lotserial_qr.save(\"qr/qr3.png\",\"png\")\n",
    "\n",
    "    # redo formating\n",
    "    ldate = product_qty[:product_qty.find(' :')]\n",
    "    lqty = product_qty[product_qty.find(': ')+2:]\n",
    "    lqty = lqty[:lqty.find(' ')]\n",
    "    lqty = lqty.replace(',','.')\n",
    "    lqrdata = \"x\"+ldate+','+lqty\n",
    "\n",
    "    count_qr = qrcode.make(lqrdata)\n",
    "    print(\"-> \"+product_qty)\n",
    "    display.display_png(count_qr)\n",
    "    count_qr.save(\"qr/qr4.png\",\"png\")\n",
    "\n",
    "    if not(package==''):\n",
    "        package_qr = qrcode.make(package)\n",
    "        print(\"-> \"+package)\n",
    "        display.display_png(package)\n",
    "        package_qr.save(\"qr/qr5.png\",\"png\")\n",
    "\n",
    "\n",
    "    # need to make change page\n",
    "    gui.hotkey(xx.os_ctrl(),'t')\n",
    "    r1x.run()\n",
    "    label1.run()\n",
    "\n",
    "    label2.run()  # right click*\n",
    "    label3.run()  # replace image\n",
    "    label4.run()  # open\n",
    "    label5.run()  # select correct file*\n",
    "    label6.run()  # ok\n",
    "\n",
    "    label7.run()  # right click*\n",
    "    label3.run()  # replace image\n",
    "    label4.run()  # open\n",
    "    label5.run()  # select correct file* 8\n",
    "    gui.press('down')\n",
    "    label6.run()  # ok\n",
    "\n",
    "    label9.run()  # right click*\n",
    "    label3.run()  # replace image\n",
    "    label4.run()  # open\n",
    "    label5.run() # select correct file* 10\n",
    "    gui.press('down')\n",
    "    gui.press('down')\n",
    "    gui.press('down')\n",
    "    label6.run()  # ok\n",
    "\n",
    "    label11.run() # right click*\n",
    "    label3.run()  # replace image\n",
    "    label4.run()  # open\n",
    "    label5.run()  # select correct file* 8\n",
    "    gui.press('down')\n",
    "    gui.press('down')\n",
    "    label6.run()  # ok\n",
    "\n",
    "    label12.run() # right click*\n",
    "    label3.run()  # replace image\n",
    "    label4.run()  # open\n",
    "    label5.run() # select correct file* 13\n",
    "    gui.press('down')\n",
    "    gui.press('down')\n",
    "    gui.press('down')\n",
    "    gui.press('down')\n",
    "    label6.run()  # ok\n",
    "\n",
    "    print3.run()\n",
    "\n",
    "    if package=='':\n",
    "        del1.run()\n",
    "        gui.press('del')\n",
    "        del2.run()\n",
    "        gui.press('del')\n",
    "        del3.run()\n",
    "        gui.press('del')\n",
    "\n",
    "    gui.hotkey(xx.os_ctrl(),'p')\n",
    "\n",
    "    print1.run()\n",
    "    print2.run()\n",
    "    print3.run()\n",
    "\n",
    "    #gui.hotkey(xx.os_ctrl(),'z')\n",
    "    #gui.hotkey(xx.os_ctrl(),'z')\n",
    "    #gui.hotkey(xx.os_ctrl(),'z')\n",
    "    #gui.hotkey(xx.os_ctrl(),'s')\n",
    "    #time.sleep(10)\n",
    "    #gui.hotkey(xx.os_ctrl(),'w')\n",
    "\n",
    "    # remove package line if not applicable\n",
    "    # print\n",
    "\n",
    "    #gui.hotkey(xx.os_ctrl(),'w')\n",
    "\n",
    "    \"\"\"\n",
    "    gui.typewrite(\"qr2.png\")\n",
    "    gui.hotkey('enter')\n",
    "    label5.run()\n",
    "    label2.run()\n",
    "    label3.run()\n",
    "    gui.typewrite(\"qr3.png\")\n",
    "    gui.hotkey('enter')\n",
    "    label6.run()\n",
    "    label7.run()\n",
    "    gui.hotkey('esc')\n",
    "    gui.hotkey(xx.os_ctrl(),'p')\n",
    "    label8.run()\n",
    "    label9.run()\n",
    "\n",
    "    \"\"\""
   ]
  },
  {
   "cell_type": "code",
   "execution_count": null,
   "id": "0a71a132-40b9-47c3-8fab-8cbd7d10d3ea",
   "metadata": {
    "tags": []
   },
   "outputs": [],
   "source": [
    "#### Create Step"
   ]
  },
  {
   "cell_type": "code",
   "execution_count": null,
   "id": "39b96cc3-a999-49b0-b005-4bb6854b82a5",
   "metadata": {},
   "outputs": [],
   "source": [
    "step1 = xx.step()\n",
    "step1.capture()"
   ]
  },
  {
   "cell_type": "code",
   "execution_count": null,
   "id": "b3fcbefa-ced8-4066-9e75-903150a308f8",
   "metadata": {},
   "outputs": [],
   "source": [
    "step1.savePNG(\"010.odoo.lot_serial.png\")"
   ]
  },
  {
   "cell_type": "markdown",
   "id": "c0b33bbd-04cc-4d11-af98-8c7686296b4c",
   "metadata": {
    "tags": []
   },
   "source": [
    "#### Load The step"
   ]
  },
  {
   "cell_type": "code",
   "execution_count": null,
   "id": "e59ea7f5-7fe8-43ef-9074-f312730444c5",
   "metadata": {},
   "outputs": [],
   "source": [
    "step1 = xx.step()\n",
    "step1.loadPNG(\"010.odoo.lot_serial.png\")\n",
    "\n",
    "# add custom logic\n",
    "step1._markers[1][0]['text'].draw()\n",
    "step1._markers[1][0]['text'].value(val = product_code)"
   ]
  },
  {
   "cell_type": "markdown",
   "id": "c1329324-dabf-463d-910f-2a5e549139d6",
   "metadata": {
    "tags": []
   },
   "source": [
    "#### Create Step"
   ]
  },
  {
   "cell_type": "code",
   "execution_count": null,
   "id": "344d5e49-4527-4622-9fbb-5e4acf66d6d5",
   "metadata": {},
   "outputs": [],
   "source": [
    "step2 = xx.step()\n",
    "step2.capture()"
   ]
  },
  {
   "cell_type": "code",
   "execution_count": null,
   "id": "b0e6a6b3-97df-4ba0-9d08-d83144189780",
   "metadata": {},
   "outputs": [],
   "source": [
    "step2.savePNG(\"020.odoo.open_lot_serial.png\")"
   ]
  },
  {
   "cell_type": "markdown",
   "id": "059faa26-d774-4c79-9df1-6f7320767357",
   "metadata": {},
   "source": [
    "#### Load Step"
   ]
  },
  {
   "cell_type": "code",
   "execution_count": null,
   "id": "d6c6e9c7-e129-4857-b5bc-590943eaab55",
   "metadata": {
    "tags": []
   },
   "outputs": [],
   "source": [
    "step2 = xx.step()\n",
    "step2.loadPNG(\"020.odoo.open_lot_serial.png\")"
   ]
  },
  {
   "cell_type": "code",
   "execution_count": null,
   "id": "2a6813bc-b723-4cb6-b3ce-a97a28068bae",
   "metadata": {},
   "outputs": [],
   "source": [
    "step2._img"
   ]
  },
  {
   "cell_type": "code",
   "execution_count": null,
   "id": "700177c5-9649-4590-86b4-958eef4853d7",
   "metadata": {},
   "outputs": [],
   "source": [
    "step3 = xx.step()\n",
    "step3.loadPNG(\"030.odoo.copy_brws_addr.png\")"
   ]
  },
  {
   "cell_type": "code",
   "execution_count": null,
   "id": "f2d9c8e6-c3ff-4c78-9ce7-aac0d697f718",
   "metadata": {},
   "outputs": [],
   "source": [
    "import platform\n",
    "platform.system()"
   ]
  },
  {
   "cell_type": "code",
   "execution_count": null,
   "id": "90ea86a6-b135-43e7-b4c6-f44cb35abc2b",
   "metadata": {},
   "outputs": [],
   "source": [
    "step3.savePNG(\"030.odoo.copy_brws_addr.png\")"
   ]
  },
  {
   "cell_type": "code",
   "execution_count": null,
   "id": "c23987fb-8fbc-46a7-b3df-2473f591db46",
   "metadata": {},
   "outputs": [],
   "source": [
    "step1.savePNG(\"010.odoo.lot_serial.png\")"
   ]
  },
  {
   "cell_type": "code",
   "execution_count": null,
   "id": "3df0e2e0-1b52-4d60-98f6-867aa9bdbf3b",
   "metadata": {},
   "outputs": [],
   "source": [
    "step3._img"
   ]
  },
  {
   "cell_type": "code",
   "execution_count": null,
   "id": "3a24abd0-f5a8-4e23-80e0-cf27c0936b7b",
   "metadata": {},
   "outputs": [],
   "source": [
    "test=xx.step()\n",
    "test.capture()"
   ]
  },
  {
   "cell_type": "code",
   "execution_count": null,
   "id": "7b4c2d75-a917-4f67-8a8f-2be1dfe3bec1",
   "metadata": {},
   "outputs": [],
   "source": [
    "test._img_scale = 1.3333"
   ]
  },
  {
   "cell_type": "code",
   "execution_count": null,
   "id": "ff9a6a8e-724f-4c9d-bc6b-f71fb36cc197",
   "metadata": {},
   "outputs": [],
   "source": [
    "for i in step1.props:\n",
    "    i.draw()"
   ]
  },
  {
   "cell_type": "code",
   "execution_count": null,
   "id": "7f0edb84-3055-41f8-8503-0363002774b7",
   "metadata": {},
   "outputs": [],
   "source": [
    "test.savePNG(\"020.odoo.open_lot_serial.png\")"
   ]
  },
  {
   "cell_type": "markdown",
   "id": "dbb42f3b-63a3-479e-9725-a84e1282a8d2",
   "metadata": {
    "tags": []
   },
   "source": [
    "## Below here is just doodeling board"
   ]
  },
  {
   "cell_type": "code",
   "execution_count": null,
   "id": "ad326cc2-f974-4138-bb17-ca0b50c303aa",
   "metadata": {},
   "outputs": [],
   "source": [
    "import pyautogui as gui\n",
    "import pyperclip\n",
    "import qrcode\n",
    "from IPython import display\n",
    "\n",
    "step1.run()\n",
    "gui.press('down')\n",
    "gui.press('enter')\n",
    "gui.typewrite(lot_serial)\n",
    "gui.press('enter')\n",
    "step2.run()\n",
    "step3.run()\n",
    "gui.hotkey(xx.os_ctrl(),'c')\n",
    "addr = pyperclip.paste()\n",
    "\n",
    "print(\"\")\n",
    "print(\"--- GENERATING QR ---\")\n",
    "\n",
    "short_url = shorten(addr)\n",
    "weblink_qr = qrcode.make(short_url)\n",
    "print(\"-> \"+short_url)\n",
    "display.display_png(weblink_qr)\n",
    "productid_qr = qrcode.make(product_code)\n",
    "print(\"-> \"+product_code)\n",
    "display.display_png(productid_qr)\n",
    "lotserial_qr = qrcode.make(lot_serial)\n",
    "print(\"-> \"+lot_serial)\n",
    "display.display_png(lotserial_qr)\n",
    "\n",
    "weblink_qr.save(\"qr1.png\",\"png\")\n",
    "productid_qr.save(\"qr2.png\",\"png\")\n",
    "lotserial_qr.save(\"qr3.png\",\"png\")"
   ]
  },
  {
   "cell_type": "markdown",
   "id": "f2dbc569-3ec9-412c-b0ee-6a5258ab1ab7",
   "metadata": {
    "tags": []
   },
   "source": [
    "## DrawIO"
   ]
  },
  {
   "cell_type": "code",
   "execution_count": null,
   "id": "1f3261e3-a688-4d1f-ba2c-0291b80cde47",
   "metadata": {},
   "outputs": [],
   "source": [
    "22/10/20\n",
    "import pyautogui as gui\n",
    "label1.run()\n",
    "label2.run()\n",
    "label3.run()\n",
    "gui.typewrite(\"qr1.png\")\n",
    "gui.hotkey('enter')\n",
    "label4.run()\n",
    "label2.run()\n",
    "label3.run()\n",
    "gui.typewrite(\"qr2.png\")\n",
    "gui.hotkey('enter')\n",
    "label5.run()\n",
    "label2.run()\n",
    "label3.run()\n",
    "gui.typewrite(\"qr3.png\")\n",
    "gui.hotkey('enter')\n",
    "label6.run()\n",
    "label7.run()\n",
    "gui.hotkey('esc')\n",
    "gui.hotkey(xx.os_ctrl(),'p')\n",
    "label8.run()\n",
    "label9.run()"
   ]
  },
  {
   "cell_type": "code",
   "execution_count": null,
   "id": "e48b97ca-ded3-4acd-8a7e-435bdca944da",
   "metadata": {},
   "outputs": [],
   "source": [
    "label1 = xx.step()\n",
    "label1.loadPNG(\"label1.drawio.lotqr.png\")"
   ]
  },
  {
   "cell_type": "code",
   "execution_count": null,
   "id": "46d57c0a-362a-42d9-85ec-416b98124b63",
   "metadata": {},
   "outputs": [],
   "source": [
    "label1._img"
   ]
  },
  {
   "cell_type": "code",
   "execution_count": null,
   "id": "ee4badc4-8fe1-44ba-99fd-14211707de1f",
   "metadata": {},
   "outputs": [],
   "source": [
    "label9.savePNG(\"label9.drawio.print2.png\")"
   ]
  },
  {
   "cell_type": "markdown",
   "id": "3145b3ff-2fde-4980-9525-ee25541a76b6",
   "metadata": {
    "tags": []
   },
   "source": [
    "## Reset"
   ]
  },
  {
   "cell_type": "code",
   "execution_count": null,
   "id": "4e7ecb44-8724-4467-a1b9-afa6e1e72f9e",
   "metadata": {},
   "outputs": [],
   "source": [
    "r1 = xx.step()\n",
    "r1.loadPNG(\"r1.odoo.lot_reset.png\")\n",
    "\n",
    "r2 = xx.step()\n",
    "r2.loadPNG(\"r2.odoo.rmv_filters.png\")\n",
    "\n",
    "r3 = xx.step()\n",
    "r3.loadPNG(\"r3.odoo.group_by_2_product.png\")"
   ]
  },
  {
   "cell_type": "code",
   "execution_count": null,
   "id": "7d9ac1ef-290e-4335-aee4-b9c57662ac5b",
   "metadata": {},
   "outputs": [],
   "source": [
    "r3._markers[1][0]['mouse'] = xx.prop(\"mouse\",'click',draw=draw_dropdown_str,on_edit=edit_str)"
   ]
  },
  {
   "cell_type": "code",
   "execution_count": null,
   "id": "0a3cb155-1c59-4211-b6f3-a2214b7314ef",
   "metadata": {},
   "outputs": [],
   "source": [
    "r3.savePNG(\"r3.odoo.group_by_2_product.png\")"
   ]
  },
  {
   "cell_type": "raw",
   "id": "cabd9bf3-6e6d-4be4-8c86-61bd4ccb85be",
   "metadata": {},
   "source": []
  },
  {
   "cell_type": "code",
   "execution_count": null,
   "id": "920bff65-ad38-4261-a733-70a32652abad",
   "metadata": {},
   "outputs": [],
   "source": [
    "import pyautogui as gui\n",
    "gui.mouseInfo()"
   ]
  },
  {
   "cell_type": "code",
   "execution_count": null,
   "id": "126a16d3-d06b-47d0-91a8-a83b8bc78392",
   "metadata": {},
   "outputs": [],
   "source": [
    "r2.run()"
   ]
  },
  {
   "cell_type": "code",
   "execution_count": null,
   "id": "df7d068d-5e02-4f98-b684-128614c23e66",
   "metadata": {},
   "outputs": [],
   "source": [
    "r1._img_scale=1.33"
   ]
  },
  {
   "cell_type": "code",
   "execution_count": null,
   "id": "a57d7983-ca62-46a4-a799-ff7202fd03d6",
   "metadata": {},
   "outputs": [],
   "source": [
    "import pyautogui as gui\n",
    "r1.run()\n",
    "if r2.run():\n",
    "    gui.hotkey('backspace')\n",
    "    gui.hotkey('backspace')\n",
    "    r3.run()"
   ]
  },
  {
   "cell_type": "code",
   "execution_count": null,
   "id": "2e33d42b-b0b0-49f3-a02c-84794e5a5082",
   "metadata": {},
   "outputs": [],
   "source": [
    "for p in r1.props:\n",
    "    p.draw()"
   ]
  },
  {
   "cell_type": "code",
   "execution_count": null,
   "id": "5c409958-3175-42ad-85d3-86fe5d137c13",
   "metadata": {},
   "outputs": [],
   "source": [
    "r1._img_scale"
   ]
  },
  {
   "cell_type": "code",
   "execution_count": null,
   "id": "ea010241-8e4e-4fcc-a256-5bd25bbb38c7",
   "metadata": {
    "tags": []
   },
   "outputs": [],
   "source": [
    "r1.run()"
   ]
  },
  {
   "cell_type": "code",
   "execution_count": null,
   "id": "5f080af8-2285-4b97-a8fd-416996721965",
   "metadata": {},
   "outputs": [],
   "source": [
    "a = qrcode.make(\"http://192.168.2.177:8888/lab?token=bbaa9f700311f37de104b5e13ffeb84f440015f30401dbd6\")\n",
    "a"
   ]
  },
  {
   "cell_type": "code",
   "execution_count": null,
   "id": "5560b9ff-962d-429d-ba10-389b44125bee",
   "metadata": {},
   "outputs": [],
   "source": [
    "test = xx.step()"
   ]
  },
  {
   "cell_type": "code",
   "execution_count": null,
   "id": "cd3ce29c-d346-4258-8b44-e8ba1792e46d",
   "metadata": {},
   "outputs": [],
   "source": [
    "test.capture()"
   ]
  },
  {
   "cell_type": "code",
   "execution_count": null,
   "id": "c151ccec-aeaf-4847-88e6-2b05ffa8dcab",
   "metadata": {},
   "outputs": [],
   "source": [
    "ui_scale"
   ]
  },
  {
   "cell_type": "code",
   "execution_count": null,
   "id": "8f1ff4a3-cda9-4113-8569-5917829ce933",
   "metadata": {},
   "outputs": [],
   "source": [
    "xx.find_in_window(test._img)"
   ]
  },
  {
   "cell_type": "code",
   "execution_count": null,
   "id": "59b73e5f-76f7-4e38-84a9-6de14b863fda",
   "metadata": {},
   "outputs": [],
   "source": [
    "tt = r1._img.resize((int(r1._img.width*1.33),int(r1._img.height*1.33)),Image.BILINEAR)"
   ]
  },
  {
   "cell_type": "code",
   "execution_count": null,
   "id": "ddb54218-7bf4-4655-a2d7-1f3105cb9fcf",
   "metadata": {},
   "outputs": [],
   "source": [
    "r1.savePNG(\"r1.odoo.lot_reset.png\")"
   ]
  },
  {
   "cell_type": "code",
   "execution_count": null,
   "id": "f591a38d-f4d0-4fac-88e6-244a6fb5739a",
   "metadata": {},
   "outputs": [],
   "source": [
    "for i in r1.props:\n",
    "    i.draw()"
   ]
  },
  {
   "cell_type": "code",
   "execution_count": null,
   "id": "45a763dc-6d6f-4219-94c5-c62fd59ffdba",
   "metadata": {},
   "outputs": [],
   "source": [
    "r1.scale=2.0"
   ]
  },
  {
   "cell_type": "code",
   "execution_count": null,
   "id": "1853093e-f49f-4a66-b09e-0ab37c53f01e",
   "metadata": {},
   "outputs": [],
   "source": [
    "r1.run()"
   ]
  },
  {
   "cell_type": "code",
   "execution_count": null,
   "id": "87980cd5-dd4d-4658-b109-2ca028b502ae",
   "metadata": {},
   "outputs": [],
   "source": []
  },
  {
   "cell_type": "code",
   "execution_count": null,
   "id": "6a6ef959-dcd1-4e4f-b96f-f78eec59aeef",
   "metadata": {},
   "outputs": [],
   "source": [
    "os.environ.get(\"ui_scale\")"
   ]
  },
  {
   "cell_type": "code",
   "execution_count": null,
   "id": "7998cf5a-8d7c-4f75-8ed1-705ceb5019e5",
   "metadata": {},
   "outputs": [],
   "source": [
    "import platform\n",
    "platform.system()"
   ]
  },
  {
   "cell_type": "code",
   "execution_count": null,
   "id": "f0d5b15d-c8e2-4123-8adf-175dead33096",
   "metadata": {},
   "outputs": [],
   "source": []
  }
 ],
 "metadata": {
  "kernelspec": {
   "display_name": "Python 3 (ipykernel)",
   "language": "python",
   "name": "python3"
  },
  "language_info": {
   "codemirror_mode": {
    "name": "ipython",
    "version": 3
   },
   "file_extension": ".py",
   "mimetype": "text/x-python",
   "name": "python",
   "nbconvert_exporter": "python",
   "pygments_lexer": "ipython3",
   "version": "3.10.1"
  },
  "toc-autonumbering": false,
  "toc-showcode": false,
  "toc-showmarkdowntxt": false,
  "toc-showtags": false
 },
 "nbformat": 4,
 "nbformat_minor": 5
}
