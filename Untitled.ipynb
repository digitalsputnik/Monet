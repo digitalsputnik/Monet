{
 "cells": [
  {
   "cell_type": "code",
   "execution_count": null,
   "id": "8bab9e35-7fdc-4401-a616-a377961d6ab1",
   "metadata": {},
   "outputs": [],
   "source": [
    "#import xx\n",
    "import dill"
   ]
  },
  {
   "cell_type": "code",
   "execution_count": null,
   "id": "03ee5cfb-d376-4211-baee-aefc929237c7",
   "metadata": {},
   "outputs": [],
   "source": [
    "ifile = open(\"testobj\", \"rb\")\n",
    "newdata = dill.load(ifile)\n",
    "ifile.close()"
   ]
  },
  {
   "cell_type": "code",
   "execution_count": null,
   "id": "a405f6bf-b420-413b-ad73-90aa3df9e86f",
   "metadata": {},
   "outputs": [],
   "source": [
    "xx.test = newdata"
   ]
  },
  {
   "cell_type": "markdown",
   "id": "3146e8f4-008d-4100-9d3b-b96c2626bbf3",
   "metadata": {
    "tags": []
   },
   "source": [
    "## Markers"
   ]
  },
  {
   "cell_type": "code",
   "execution_count": null,
   "id": "e13d48b2-70df-44f9-bfe1-ba822e5c89b9",
   "metadata": {},
   "outputs": [],
   "source": [
    "xx.test.display_marker()"
   ]
  },
  {
   "cell_type": "code",
   "execution_count": null,
   "id": "b8baa96b-8e3d-4c96-9ea0-4ed79ec58361",
   "metadata": {},
   "outputs": [],
   "source": [
    "xx.test.display_marker(marker=1)"
   ]
  },
  {
   "cell_type": "code",
   "execution_count": null,
   "id": "c12799f8-c0c0-4fa3-8ada-0116eb191296",
   "metadata": {},
   "outputs": [],
   "source": [
    "xx.test._markers[1]"
   ]
  },
  {
   "cell_type": "code",
   "execution_count": null,
   "id": "9fce583a-8f0c-4d18-b20c-c0aa18195666",
   "metadata": {},
   "outputs": [],
   "source": [
    "ifile = open(\"testobj\", \"rb\")\n",
    "newdata = dill.load(ifile)\n",
    "ifile.close()"
   ]
  },
  {
   "cell_type": "code",
   "execution_count": null,
   "id": "cce7aa15-34e2-4938-a6f8-b29150d8582f",
   "metadata": {},
   "outputs": [],
   "source": [
    "newdata.__doc__"
   ]
  },
  {
   "cell_type": "code",
   "execution_count": null,
   "id": "d25a019b-f81c-4c05-adfe-29d0e500d5a7",
   "metadata": {},
   "outputs": [],
   "source": [
    "newdata"
   ]
  },
  {
   "cell_type": "code",
   "execution_count": null,
   "id": "7dc04a92-68e1-4bfd-bc09-e91df181e9de",
   "metadata": {},
   "outputs": [],
   "source": [
    "from jupyter_bbox_widget import BBoxWidget\n",
    "widget = BBoxWidget(\n",
    "    image='fruit.jpg',\n",
    "    classes=['apple', 'orange', 'pear'],\n",
    ")\n",
    "widget"
   ]
  },
  {
   "cell_type": "code",
   "execution_count": null,
   "id": "dba9ad9d-9b2d-4d04-ae64-56160e52d667",
   "metadata": {},
   "outputs": [],
   "source": [
    "import xx"
   ]
  },
  {
   "cell_type": "code",
   "execution_count": null,
   "id": "adf558f1-99ed-4e5d-893d-ca3b83ae9695",
   "metadata": {},
   "outputs": [],
   "source": [
    "%pip install opencv-python"
   ]
  },
  {
   "cell_type": "code",
   "execution_count": null,
   "id": "9a1b5169-9de2-4c99-b0fe-515203c089d3",
   "metadata": {},
   "outputs": [],
   "source": [
    "xx.test.capture()"
   ]
  },
  {
   "cell_type": "code",
   "execution_count": null,
   "id": "21906123-125b-4faf-943f-2897a999f581",
   "metadata": {},
   "outputs": [],
   "source": [
    "import pyautogui as gui"
   ]
  },
  {
   "cell_type": "code",
   "execution_count": null,
   "id": "97af487c-a4fb-4cb7-a670-18c31fe81af8",
   "metadata": {},
   "outputs": [],
   "source": [
    "screen = [[0,150],[1680,150],[1680,1200],[0,1200]]"
   ]
  },
  {
   "cell_type": "code",
   "execution_count": null,
   "id": "a5261d0c-1443-4cf1-9f66-e241d3086c32",
   "metadata": {},
   "outputs": [],
   "source": [
    "1680/a.width"
   ]
  },
  {
   "cell_type": "code",
   "execution_count": null,
   "id": "132935c4-93e9-4cf6-8cee-72c98d5fe7f7",
   "metadata": {},
   "outputs": [],
   "source": [
    "(1200-150)/a.height"
   ]
  },
  {
   "cell_type": "code",
   "execution_count": null,
   "id": "51625aab-f8ac-4a8b-9e07-a10dda1e30a9",
   "metadata": {},
   "outputs": [],
   "source": [
    "import time\n",
    "for x in range(40):\n",
    "    print(gui.position())\n",
    "    time.sleep(0.5)"
   ]
  },
  {
   "cell_type": "code",
   "execution_count": null,
   "id": "cc48d7be-cd00-42e5-8e3d-f486671e7d1c",
   "metadata": {},
   "outputs": [],
   "source": [
    "gui.screenshot(region=(160,222,52,30))"
   ]
  },
  {
   "cell_type": "code",
   "execution_count": null,
   "id": "6a5c5c45-77e2-4a21-9456-a20cb02c2293",
   "metadata": {},
   "outputs": [],
   "source": [
    "xx.test._img = gui.screenshot(region=(160,222,52,30))"
   ]
  },
  {
   "cell_type": "code",
   "execution_count": null,
   "id": "a92a17f1-2980-474a-81b1-a7875493a06f",
   "metadata": {},
   "outputs": [],
   "source": [
    "xx.test.run()"
   ]
  },
  {
   "cell_type": "code",
   "execution_count": null,
   "id": "5c51ad24-e9ee-4959-9d55-47ae07811a8c",
   "metadata": {},
   "outputs": [],
   "source": [
    "import dill\n",
    "import codecs\n",
    "a = dill.loads(codecs.decode(payload.encode(), \"base64\"))"
   ]
  },
  {
   "cell_type": "code",
   "execution_count": null,
   "id": "c5fd4eb9-0c07-42c8-a74b-f420fbb65811",
   "metadata": {},
   "outputs": [],
   "source": [
    "xx.test.copy(a)"
   ]
  },
  {
   "cell_type": "code",
   "execution_count": null,
   "id": "8a762172-401a-4475-9e12-17727389b5ce",
   "metadata": {},
   "outputs": [],
   "source": [
    "xx.test._markers[0][3] = ['no_ctrA','no_text','no_enter']"
   ]
  },
  {
   "cell_type": "code",
   "execution_count": null,
   "id": "8c3885c8-6103-4466-9927-0d5f55283b3f",
   "metadata": {},
   "outputs": [],
   "source": [
    "xx.test.run()"
   ]
  },
  {
   "cell_type": "code",
   "execution_count": 1,
   "id": "ddf0be6b-3691-4481-8fb4-82d5e89ae897",
   "metadata": {},
   "outputs": [],
   "source": [
    "import xx"
   ]
  },
  {
   "cell_type": "code",
   "execution_count": 2,
   "id": "65317314-65d5-484a-964d-8c6f5169ec15",
   "metadata": {},
   "outputs": [],
   "source": [
    "xx.test= xx.step(scale=2.0)"
   ]
  },
  {
   "cell_type": "code",
   "execution_count": 3,
   "id": "e2d0732d-2322-4e77-83f8-ef4a40deefbf",
   "metadata": {},
   "outputs": [
    {
     "name": "stdout",
     "output_type": "stream",
     "text": [
      "Capture images and (input) positions for step construction\n",
      "[command]  - mark image corner (top left to right bottom)\n",
      "[r]    - recapture image with previous location, ie no mouse highlight\n",
      "[m]    - add click or input marker, print variable as string\n",
      "[q]    - stop capture\n",
      "-> gui.screenshot(region=(152,220,72,40))\n"
     ]
    },
    {
     "data": {
      "image/png": "[encoded data removed]"
     },
     "metadata": {},
     "output_type": "display_data"
    },
    {
     "name": "stdout",
     "output_type": "stream",
     "text": [
      "Step properties:\n"
     ]
    },
    {
     "data": {
      "application/vnd.jupyter.widget-view+json": {
       "model_id": "61e703bc7e5e472dabad5074afcb4ef7",
       "version_major": 2,
       "version_minor": 0
      },
      "text/plain": [
       "Text(value='152', description='x')"
      ]
     },
     "metadata": {},
     "output_type": "display_data"
    },
    {
     "data": {
      "application/vnd.jupyter.widget-view+json": {
       "model_id": "d2ad8b872136496699c2e1db2c434573",
       "version_major": 2,
       "version_minor": 0
      },
      "text/plain": [
       "Text(value='220', description='y')"
      ]
     },
     "metadata": {},
     "output_type": "display_data"
    },
    {
     "data": {
      "application/vnd.jupyter.widget-view+json": {
       "model_id": "bea9fb1937154388b59ad03c0aa97b57",
       "version_major": 2,
       "version_minor": 0
      },
      "text/plain": [
       "Text(value='72', description='width')"
      ]
     },
     "metadata": {},
     "output_type": "display_data"
    },
    {
     "data": {
      "application/vnd.jupyter.widget-view+json": {
       "model_id": "e0c8a34cc4e74785bc64700f01846106",
       "version_major": 2,
       "version_minor": 0
      },
      "text/plain": [
       "Text(value='40', description='height')"
      ]
     },
     "metadata": {},
     "output_type": "display_data"
    },
    {
     "name": "stdout",
     "output_type": "stream",
     "text": [
      "-> gui.screenshot(region=(152,220,72,40))\n"
     ]
    },
    {
     "data": {
      "image/png": "[encoded data removed]"
     },
     "metadata": {},
     "output_type": "display_data"
    },
    {
     "data": {
      "image/png": "[encoded data removed]"
     },
     "metadata": {},
     "output_type": "display_data"
    },
    {
     "name": "stdout",
     "output_type": "stream",
     "text": [
      "[1] Step: \n"
     ]
    },
    {
     "data": {
      "application/vnd.jupyter.widget-view+json": {
       "model_id": "e7298ff7e1194f1a8d3e4155ef456503",
       "version_major": 2,
       "version_minor": 0
      },
      "text/plain": [
       "Text(value='38', description='x')"
      ]
     },
     "metadata": {},
     "output_type": "display_data"
    },
    {
     "data": {
      "application/vnd.jupyter.widget-view+json": {
       "model_id": "3373003dd7b143b78e8856a4a177228c",
       "version_major": 2,
       "version_minor": 0
      },
      "text/plain": [
       "Text(value='12', description='y')"
      ]
     },
     "metadata": {},
     "output_type": "display_data"
    },
    {
     "data": {
      "application/vnd.jupyter.widget-view+json": {
       "model_id": "8b0e4fa363a14156bef17838a2d31b48",
       "version_major": 2,
       "version_minor": 0
      },
      "text/plain": [
       "Checkbox(value=True, description='[ctr]+[a]')"
      ]
     },
     "metadata": {},
     "output_type": "display_data"
    },
    {
     "data": {
      "application/vnd.jupyter.widget-view+json": {
       "model_id": "cd57c1be7d464a8ca127d31fa605ea6f",
       "version_major": 2,
       "version_minor": 0
      },
      "text/plain": [
       "Checkbox(value=True, description='[mouse click]')"
      ]
     },
     "metadata": {},
     "output_type": "display_data"
    },
    {
     "data": {
      "application/vnd.jupyter.widget-view+json": {
       "model_id": "2afb0b519b9c47e58c4526ad4406a184",
       "version_major": 2,
       "version_minor": 0
      },
      "text/plain": [
       "Text(value='', description='text')"
      ]
     },
     "metadata": {},
     "output_type": "display_data"
    },
    {
     "data": {
      "application/vnd.jupyter.widget-view+json": {
       "model_id": "082e7126630d4588a2339757135db0c2",
       "version_major": 2,
       "version_minor": 0
      },
      "text/plain": [
       "Checkbox(value=True, description='[enter]')"
      ]
     },
     "metadata": {},
     "output_type": "display_data"
    },
    {
     "data": {
      "image/png": "[encoded data removed]"
     },
     "metadata": {},
     "output_type": "display_data"
    },
    {
     "name": "stdout",
     "output_type": "stream",
     "text": [
      "[2] Step: \n"
     ]
    },
    {
     "data": {
      "application/vnd.jupyter.widget-view+json": {
       "model_id": "7bc45ce63a3748c08fdcaea8b1e51298",
       "version_major": 2,
       "version_minor": 0
      },
      "text/plain": [
       "Text(value='320', description='x')"
      ]
     },
     "metadata": {},
     "output_type": "display_data"
    },
    {
     "data": {
      "application/vnd.jupyter.widget-view+json": {
       "model_id": "49000b873dec41c9918c5de524d6940c",
       "version_major": 2,
       "version_minor": 0
      },
      "text/plain": [
       "Text(value='12', description='y')"
      ]
     },
     "metadata": {},
     "output_type": "display_data"
    },
    {
     "data": {
      "application/vnd.jupyter.widget-view+json": {
       "model_id": "171f1d0606604a23846fd4e3d3b6134c",
       "version_major": 2,
       "version_minor": 0
      },
      "text/plain": [
       "Checkbox(value=True, description='[ctr]+[a]')"
      ]
     },
     "metadata": {},
     "output_type": "display_data"
    },
    {
     "data": {
      "application/vnd.jupyter.widget-view+json": {
       "model_id": "7752716d748b4b9092523874d841426f",
       "version_major": 2,
       "version_minor": 0
      },
      "text/plain": [
       "Checkbox(value=True, description='[mouse click]')"
      ]
     },
     "metadata": {},
     "output_type": "display_data"
    },
    {
     "data": {
      "application/vnd.jupyter.widget-view+json": {
       "model_id": "dbbfeccf47f44df9b8efe32d8aca7aae",
       "version_major": 2,
       "version_minor": 0
      },
      "text/plain": [
       "Text(value='', description='text')"
      ]
     },
     "metadata": {},
     "output_type": "display_data"
    },
    {
     "data": {
      "application/vnd.jupyter.widget-view+json": {
       "model_id": "ab07cbf5ab8f44e088ea88cd919db1c3",
       "version_major": 2,
       "version_minor": 0
      },
      "text/plain": [
       "Checkbox(value=True, description='[enter]')"
      ]
     },
     "metadata": {},
     "output_type": "display_data"
    }
   ],
   "source": [
    "xx.test.capture()"
   ]
  },
  {
   "cell_type": "code",
   "execution_count": 4,
   "id": "73e3765c-6f92-4538-92f1-3b5e717135c6",
   "metadata": {},
   "outputs": [
    {
     "name": "stdout",
     "output_type": "stream",
     "text": [
      "locating (0/10): \n"
     ]
    },
    {
     "data": {
      "image/png": "[encoded data removed]"
     },
     "metadata": {},
     "output_type": "display_data"
    },
    {
     "name": "stdout",
     "output_type": "stream",
     "text": [
      "locating (1/10): \n",
      "    -> clicked @: [1910,3262]\n",
      "    -> clicked @: [2192,3262]\n"
     ]
    }
   ],
   "source": [
    "xx.test.run()"
   ]
  },
  {
   "cell_type": "code",
   "execution_count": 7,
   "id": "3ff623c2-ceba-4ae2-a447-ea3471c83e35",
   "metadata": {},
   "outputs": [
    {
     "data": {
      "image/png": "[encoded data removed]",
      "text/plain": [
       "<PIL.Image.Image image mode=RGBA size=72x40 at 0x11E1240D0>"
      ]
     },
     "execution_count": 7,
     "metadata": {},
     "output_type": "execute_result"
    }
   ],
   "source": [
    "gui.screenshot(region=(1910/2,3262/2,72,40))"
   ]
  },
  {
   "cell_type": "code",
   "execution_count": null,
   "id": "63b0a31b-c121-4382-8acf-43f8b4a0744f",
   "metadata": {},
   "outputs": [],
   "source": [
    "xx.test.ui_chkb1.observe(testcb,names='value')"
   ]
  },
  {
   "cell_type": "code",
   "execution_count": null,
   "id": "52815811-ab28-4038-b56c-7cd9e92c6d60",
   "metadata": {},
   "outputs": [],
   "source": [
    "xx.test._markers[0][3]"
   ]
  },
  {
   "cell_type": "code",
   "execution_count": null,
   "id": "cb84397e-fabe-44b0-87a5-b7614a6e4691",
   "metadata": {},
   "outputs": [],
   "source": [
    "from IPython import display\n",
    "import ipywidgets as widgets\n",
    "import xx\n",
    "\n"
   ]
  },
  {
   "cell_type": "code",
   "execution_count": null,
   "id": "a6bb6b39-41f2-4da0-998d-0871272566f1",
   "metadata": {},
   "outputs": [],
   "source": [
    "test = []\n",
    "draw_txt_str = \"self.w=widgets.Text(value=str(self._val),description=self.name)\\ndisplay.display(self.w)\\nself.w.observe(self.setval,names='value')\"\n",
    "draw_checkbox_str = \"self.w=widgets.Checkbox(value=self._val,description=self.name)\\ndisplay.display(self.w)\\nself.w.observe(self.setval,names='value')\"\n",
    "edit_str = \"self.w.value = self._val\"\n",
    "test.append(xx.prop(\"x: \",\"100\",draw=draw_txt_str,on_edit=edit_str))\n",
    "test.append(xx.prop(\"y: \",\"200\",draw=draw_txt_str,on_edit=edit_str))\n",
    "test.append(xx.prop(\"[ctr]+[a]\",False,draw=draw_checkbox_str,on_edit=edit_str))\n",
    "\n"
   ]
  },
  {
   "cell_type": "code",
   "execution_count": null,
   "id": "47f44dab-ac3f-4fed-b4e4-f9c857c614bc",
   "metadata": {},
   "outputs": [],
   "source": [
    "for i in test:\n",
    "    i.draw()"
   ]
  },
  {
   "cell_type": "code",
   "execution_count": null,
   "id": "d2bac655-f6be-48b4-bc37-df6c31b28598",
   "metadata": {},
   "outputs": [],
   "source": [
    "for i in test:\n",
    "    print(i.value)"
   ]
  },
  {
   "cell_type": "code",
   "execution_count": null,
   "id": "81b935b4-9e56-4690-96fe-7713546e1484",
   "metadata": {},
   "outputs": [],
   "source": [
    "test[2].value"
   ]
  },
  {
   "cell_type": "code",
   "execution_count": null,
   "id": "dc869a06-2b98-4900-a004-c18e621c0d16",
   "metadata": {},
   "outputs": [],
   "source": [
    "import xx\n",
    "xx.test.capture()"
   ]
  },
  {
   "cell_type": "code",
   "execution_count": null,
   "id": "c82c12ae-dfc2-4213-b226-0800e6c6ca1f",
   "metadata": {},
   "outputs": [],
   "source": [
    "xx.test.run()"
   ]
  },
  {
   "cell_type": "code",
   "execution_count": null,
   "id": "6d2397a3-43db-4c0a-9afd-cbc634d1fefd",
   "metadata": {},
   "outputs": [],
   "source": [
    "xx.test._markers[0]"
   ]
  },
  {
   "cell_type": "code",
   "execution_count": null,
   "id": "de3dbf66-18d1-481d-b721-f71f1d141203",
   "metadata": {},
   "outputs": [],
   "source": [
    "xx.test.savePNG(\"test2.png\")"
   ]
  },
  {
   "cell_type": "code",
   "execution_count": null,
   "id": "56d341a6-9f1b-4297-bac6-91c89b15be94",
   "metadata": {},
   "outputs": [],
   "source": [
    "not(xx.test._markers[0][0]['text'].value == \"\")"
   ]
  },
  {
   "cell_type": "code",
   "execution_count": null,
   "id": "172f531a-f387-4d8a-bcf5-12d2982d79d6",
   "metadata": {},
   "outputs": [],
   "source": [
    "for x in xx.test._markers:\n",
    "    print(x[0]['x'])"
   ]
  },
  {
   "cell_type": "code",
   "execution_count": null,
   "id": "c0e09786-a9be-4b96-8a56-ea5dd502bb72",
   "metadata": {},
   "outputs": [],
   "source": [
    "xx.test._markers[0][0]['ctrla'].value"
   ]
  },
  {
   "cell_type": "code",
   "execution_count": null,
   "id": "75a125f0-5e10-48b2-8d3a-c4810d7b1bcc",
   "metadata": {},
   "outputs": [],
   "source": [
    "b = {'x': 1,\n",
    " 'y': 2,\n",
    " 'ctrla': 3,\n",
    " 'click': 4,\n",
    " 'text': 5,\n",
    " 'enter': 6}"
   ]
  },
  {
   "cell_type": "code",
   "execution_count": null,
   "id": "58b705f9-6518-44fc-a06c-12433ed05f20",
   "metadata": {},
   "outputs": [],
   "source": [
    "for x in b:\n",
    "    print(b[x])"
   ]
  },
  {
   "cell_type": "code",
   "execution_count": null,
   "id": "644611bb-c0e5-4f40-b58f-3badf258b9ce",
   "metadata": {},
   "outputs": [],
   "source": [
    "xx.test.__hash__()"
   ]
  },
  {
   "cell_type": "code",
   "execution_count": null,
   "id": "27c7fc4c-4d17-4a56-8eaa-4666f01545cf",
   "metadata": {},
   "outputs": [],
   "source": [
    "import dill"
   ]
  },
  {
   "cell_type": "code",
   "execution_count": null,
   "id": "317fdf43-d9c5-48e4-8031-533d4f4aab49",
   "metadata": {},
   "outputs": [],
   "source": [
    "dill.dumps(xx.test, recurse=True)"
   ]
  },
  {
   "cell_type": "code",
   "execution_count": null,
   "id": "b4969b6b-24b6-4579-9c52-39d6ff8d377d",
   "metadata": {},
   "outputs": [],
   "source": []
  }
 ],
 "metadata": {
  "kernelspec": {
   "display_name": "Python 3 (ipykernel)",
   "language": "python",
   "name": "python3"
  },
  "language_info": {
   "codemirror_mode": {
    "name": "ipython",
    "version": 3
   },
   "file_extension": ".py",
   "mimetype": "text/x-python",
   "name": "python",
   "nbconvert_exporter": "python",
   "pygments_lexer": "ipython3",
   "version": "3.10.1"
  }
 },
 "nbformat": 4,
 "nbformat_minor": 5
}
