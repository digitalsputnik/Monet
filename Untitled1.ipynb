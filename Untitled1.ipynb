{
 "cells": [
  {
   "cell_type": "code",
   "execution_count": 1,
   "id": "040ac8f0-4acb-43d3-93a3-ceacb753a203",
   "metadata": {},
   "outputs": [],
   "source": [
    "import pyautogui as gui"
   ]
  },
  {
   "cell_type": "code",
   "execution_count": 3,
   "id": "fe9158a4-15d5-4407-af57-06397c9ef2a7",
   "metadata": {},
   "outputs": [],
   "source": [
    "a = gui.screenshot()"
   ]
  },
  {
   "cell_type": "code",
   "execution_count": 4,
   "id": "b3c8193a-4500-4ac6-a25e-e9c7e76dd396",
   "metadata": {},
   "outputs": [
    {
     "data": {
      "text/plain": [
       "3360"
      ]
     },
     "execution_count": 4,
     "metadata": {},
     "output_type": "execute_result"
    }
   ],
   "source": [
    "a.width"
   ]
  },
  {
   "cell_type": "code",
   "execution_count": 5,
   "id": "befd6176-8e74-4c6c-99a5-ccfd6fefd14f",
   "metadata": {},
   "outputs": [],
   "source": [
    "gui.moveTo(-1000,-1000)"
   ]
  },
  {
   "cell_type": "code",
   "execution_count": 7,
   "id": "c4629f2b-ed8a-44b2-8e65-bf2fead58935",
   "metadata": {},
   "outputs": [],
   "source": [
    "gui.mouseInfo()"
   ]
  },
  {
   "cell_type": "code",
   "execution_count": null,
   "id": "38fe6cc8-a8b9-438b-b57d-813028ebb4a8",
   "metadata": {},
   "outputs": [],
   "source": []
  }
 ],
 "metadata": {
  "kernelspec": {
   "display_name": "Python 3 (ipykernel)",
   "language": "python",
   "name": "python3"
  },
  "language_info": {
   "codemirror_mode": {
    "name": "ipython",
    "version": 3
   },
   "file_extension": ".py",
   "mimetype": "text/x-python",
   "name": "python",
   "nbconvert_exporter": "python",
   "pygments_lexer": "ipython3",
   "version": "3.10.1"
  }
 },
 "nbformat": 4,
 "nbformat_minor": 5
}
