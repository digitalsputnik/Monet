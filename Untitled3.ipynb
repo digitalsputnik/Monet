{
 "cells": [
  {
   "cell_type": "code",
   "execution_count": 1,
   "id": "68fac4d9-f265-4adf-b062-37541fec03d1",
   "metadata": {},
   "outputs": [
    {
     "name": "stderr",
     "output_type": "stream",
     "text": [
      "/Library/Frameworks/Python.framework/Versions/3.11/lib/python3.11/site-packages/rubicon/objc/ctypes_patch.py:21: UserWarning: rubicon.objc.ctypes_patch has only been tested with Python 3.4 through 3.10. You are using Python 3.11.0. Most likely things will work properly, but you may experience crashes if Python's internals have changed significantly.\n",
      "  warnings.warn(\n"
     ]
    }
   ],
   "source": [
    "import xx"
   ]
  },
  {
   "cell_type": "code",
   "execution_count": 5,
   "id": "4df7af37-b4d1-42e8-8c56-8a5cf0cb6309",
   "metadata": {},
   "outputs": [
    {
     "name": "stdout",
     "output_type": "stream",
     "text": [
      "    Payload loaded, overwritng self\n"
     ]
    }
   ],
   "source": [
    "xx.test.loadPNG('testxx.png')"
   ]
  },
  {
   "cell_type": "code",
   "execution_count": 6,
   "id": "3015cb8e-5d1c-4444-94ab-5070faaeaac1",
   "metadata": {},
   "outputs": [
    {
     "data": {
      "text/plain": [
       "{'_scroll': False,\n",
       " '_pre_script': None,\n",
       " '_flags': [False, False, False, False],\n",
       " '_markers': [[{'x': 'x':'20',\n",
       "    'y': 'y':'9',\n",
       "    'ctrla': '[ctr]+[a]':'False',\n",
       "    'mouse': 'mouse':'click',\n",
       "    'text': 'text':'',\n",
       "    'enter': '[enter]':'False'},\n",
       "   'ui',\n",
       "   '',\n",
       "   <PIL.Image.Image image mode=RGBA size=50x50>],\n",
       "  [{'x': 'x':'154',\n",
       "    'y': 'y':'8',\n",
       "    'ctrla': '[ctr]+[a]':'False',\n",
       "    'mouse': 'mouse':'click',\n",
       "    'text': 'text':'',\n",
       "    'enter': '[enter]':'False'},\n",
       "   'ui',\n",
       "   '',\n",
       "   <PIL.Image.Image image mode=RGBA size=50x50>]],\n",
       " 'ui_delay': 0.2,\n",
       " 'found_loc': None,\n",
       " 'timeout': 10,\n",
       " 'match_q': 0.8,\n",
       " 'break_flow': False,\n",
       " 'payload': None,\n",
       " 'scale': 1.0,\n",
       " 'img_scale': 1.0,\n",
       " 'ui': [],\n",
       " '_script': None,\n",
       " '_img': <PIL.Image.Image image mode=RGBA size=74x36>,\n",
       " 'img_region': (0, 0, 0, 0),\n",
       " '_img_scale': 1.3333,\n",
       " 'props': ['x':'1296', 'y':'252', 'width':'74', 'height':'36']}"
      ]
     },
     "execution_count": 6,
     "metadata": {},
     "output_type": "execute_result"
    }
   ],
   "source": [
    "xx.test.__dict__"
   ]
  },
  {
   "cell_type": "code",
   "execution_count": null,
   "id": "23bc414c-d512-4fb2-97e9-cdab65a9eba3",
   "metadata": {},
   "outputs": [],
   "source": []
  }
 ],
 "metadata": {
  "kernelspec": {
   "display_name": "Python 3 (ipykernel)",
   "language": "python",
   "name": "python3"
  },
  "language_info": {
   "codemirror_mode": {
    "name": "ipython",
    "version": 3
   },
   "file_extension": ".py",
   "mimetype": "text/x-python",
   "name": "python",
   "nbconvert_exporter": "python",
   "pygments_lexer": "ipython3",
   "version": "3.11.0"
  }
 },
 "nbformat": 4,
 "nbformat_minor": 5
}
