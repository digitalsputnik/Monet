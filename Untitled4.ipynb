{
 "cells": [
  {
   "cell_type": "code",
   "execution_count": null,
   "id": "249b0713-9805-48c8-9e1c-7677e2160762",
   "metadata": {},
   "outputs": [],
   "source": [
    "import xx2"
   ]
  },
  {
   "cell_type": "code",
   "execution_count": null,
   "id": "d581e319-ba46-461f-ba53-89214e43956f",
   "metadata": {},
   "outputs": [],
   "source": [
    "w = xx2.workflow(\"odoo_test\")"
   ]
  },
  {
   "cell_type": "code",
   "execution_count": null,
   "id": "7dd06ad8-2e1e-406f-b3f5-5e48207a3279",
   "metadata": {},
   "outputs": [],
   "source": [
    "w.add_step()"
   ]
  },
  {
   "cell_type": "code",
   "execution_count": null,
   "id": "56379154-0145-4854-be5c-457bf0cce408",
   "metadata": {},
   "outputs": [],
   "source": [
    "w.steps[-1].capture_action_marker()"
   ]
  },
  {
   "cell_type": "code",
   "execution_count": null,
   "id": "99e06c1d-3706-4413-a4cf-cf4d2c815e16",
   "metadata": {},
   "outputs": [],
   "source": [
    "w.steps[0].edit()"
   ]
  },
  {
   "cell_type": "code",
   "execution_count": null,
   "id": "7fc3f8bd-ffad-479c-9f8b-21c7be293989",
   "metadata": {},
   "outputs": [],
   "source": [
    "w.run()"
   ]
  },
  {
   "cell_type": "code",
   "execution_count": null,
   "id": "9eeb21fa-8c5a-431f-8ff7-037bf89f37f8",
   "metadata": {},
   "outputs": [],
   "source": [
    "w.add_step()"
   ]
  },
  {
   "cell_type": "code",
   "execution_count": null,
   "id": "6549ccd0-e839-4a34-8519-ddc04596751c",
   "metadata": {},
   "outputs": [],
   "source": [
    "w.steps[-1].capture_action_marker()"
   ]
  },
  {
   "cell_type": "code",
   "execution_count": null,
   "id": "66435965-7102-4762-ad6f-5a82982df5e5",
   "metadata": {},
   "outputs": [],
   "source": [
    "w.steps[0].timeout = 1"
   ]
  },
  {
   "cell_type": "code",
   "execution_count": null,
   "id": "f6a7bc25-ea06-4351-b236-5f4b7754aff8",
   "metadata": {},
   "outputs": [],
   "source": [
    "w.steps[1].edit()"
   ]
  },
  {
   "cell_type": "code",
   "execution_count": null,
   "id": "9f05bfe4-4654-40ec-82b1-44d3db729fc9",
   "metadata": {},
   "outputs": [],
   "source": [
    "w.run()"
   ]
  },
  {
   "cell_type": "code",
   "execution_count": null,
   "id": "671dc137-34bb-4039-bb2f-061631dc4064",
   "metadata": {},
   "outputs": [],
   "source": []
  }
 ],
 "metadata": {
  "kernelspec": {
   "display_name": "Python 3 (ipykernel)",
   "language": "python",
   "name": "python3"
  },
  "language_info": {
   "codemirror_mode": {
    "name": "ipython",
    "version": 3
   },
   "file_extension": ".py",
   "mimetype": "text/x-python",
   "name": "python",
   "nbconvert_exporter": "python",
   "pygments_lexer": "ipython3",
   "version": "3.11.0"
  }
 },
 "nbformat": 4,
 "nbformat_minor": 5
}
