{
 "cells": [
  {
   "cell_type": "code",
   "execution_count": 1,
   "id": "22fcdb35-612b-499b-a6a9-56e9323a3346",
   "metadata": {},
   "outputs": [
    {
     "name": "stderr",
     "output_type": "stream",
     "text": [
      "/Library/Frameworks/Python.framework/Versions/3.11/lib/python3.11/site-packages/rubicon/objc/ctypes_patch.py:21: UserWarning: rubicon.objc.ctypes_patch has only been tested with Python 3.4 through 3.10. You are using Python 3.11.0. Most likely things will work properly, but you may experience crashes if Python's internals have changed significantly.\n",
      "  warnings.warn(\n"
     ]
    }
   ],
   "source": [
    "import xx2"
   ]
  },
  {
   "cell_type": "code",
   "execution_count": 2,
   "id": "bb61f506-ea8a-4fd2-acf9-922af32241b3",
   "metadata": {},
   "outputs": [],
   "source": [
    "w = xx2.workflow(\"steps without image\")"
   ]
  },
  {
   "cell_type": "code",
   "execution_count": 3,
   "id": "9a125ce3-cf67-4a8d-bd38-6a8e694c9893",
   "metadata": {},
   "outputs": [],
   "source": [
    "w.add_step()"
   ]
  },
  {
   "cell_type": "code",
   "execution_count": 4,
   "id": "86343ba8-5618-43bc-8f4b-8985e9e5695f",
   "metadata": {},
   "outputs": [],
   "source": [
    "w.steps[0].pre_script_str='print(\"test\")'"
   ]
  },
  {
   "cell_type": "code",
   "execution_count": 11,
   "id": "456c37a9-3473-4cf6-b68b-f65867395a6e",
   "metadata": {},
   "outputs": [
    {
     "name": "stdout",
     "output_type": "stream",
     "text": [
      "[!] clear output before sving the step\n"
     ]
    }
   ],
   "source": [
    "w.steps[0].edit()"
   ]
  },
  {
   "cell_type": "code",
   "execution_count": 10,
   "id": "cc73a8ab-8f82-4b03-81a1-ca343561bda2",
   "metadata": {},
   "outputs": [
    {
     "name": "stdout",
     "output_type": "stream",
     "text": [
      "test\n",
      " -> No image in step, skipping the rest of the logic...\n",
      "test2\n",
      " -> No image in step, skipping the rest of the logic...\n"
     ]
    }
   ],
   "source": [
    "w.run()"
   ]
  },
  {
   "cell_type": "code",
   "execution_count": 9,
   "id": "b76be394-972d-43c2-a8b8-83470015f62a",
   "metadata": {},
   "outputs": [],
   "source": [
    "w.steps[-1].pre_script_str='print(\"test2\")'"
   ]
  },
  {
   "cell_type": "code",
   "execution_count": null,
   "id": "8642b985-47da-439c-ab3b-eb11a02a0c77",
   "metadata": {},
   "outputs": [],
   "source": []
  }
 ],
 "metadata": {
  "kernelspec": {
   "display_name": "Python 3 (ipykernel)",
   "language": "python",
   "name": "python3"
  },
  "language_info": {
   "codemirror_mode": {
    "name": "ipython",
    "version": 3
   },
   "file_extension": ".py",
   "mimetype": "text/x-python",
   "name": "python",
   "nbconvert_exporter": "python",
   "pygments_lexer": "ipython3",
   "version": "3.11.0"
  }
 },
 "nbformat": 4,
 "nbformat_minor": 5
}
