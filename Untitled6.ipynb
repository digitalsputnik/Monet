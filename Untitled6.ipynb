{
 "cells": [
  {
   "cell_type": "code",
   "execution_count": 1,
   "id": "616909d1-7ecb-4576-86cc-932ea667f9d6",
   "metadata": {},
   "outputs": [
    {
     "name": "stderr",
     "output_type": "stream",
     "text": [
      "/Library/Frameworks/Python.framework/Versions/3.11/lib/python3.11/site-packages/rubicon/objc/ctypes_patch.py:21: UserWarning: rubicon.objc.ctypes_patch has only been tested with Python 3.4 through 3.10. You are using Python 3.11.0. Most likely things will work properly, but you may experience crashes if Python's internals have changed significantly.\n",
      "  warnings.warn(\n"
     ]
    }
   ],
   "source": [
    "import xx2"
   ]
  },
  {
   "cell_type": "code",
   "execution_count": 11,
   "id": "baef9248-624d-4f03-8123-9bf49ac63b7f",
   "metadata": {},
   "outputs": [
    {
     "name": "stdout",
     "output_type": "stream",
     "text": [
      " -> Payload loaded, overwritng self\n",
      " -> Payload loaded, overwritng self\n",
      " -> Payload loaded, overwritng self\n",
      " -> Payload loaded, overwritng self\n",
      " -> Payload loaded, overwritng self\n",
      " -> Payload loaded, overwritng self\n",
      " -> Payload loaded, overwritng self\n"
     ]
    }
   ],
   "source": [
    "assets_w = xx2.workflow(\"Epic_Library_add_asset\",doc_data={'asset':'skybox bundle II','ue_project':'atest'})\n",
    "assets_w.load()"
   ]
  },
  {
   "cell_type": "code",
   "execution_count": null,
   "id": "5e8a9d02-415b-408d-8963-5c98ec5359d8",
   "metadata": {},
   "outputs": [],
   "source": [
    "assets_w.run()\n",
    "assets_w.doc_data['asset'] = 'military style'\n",
    "assets_w.run()\n",
    "assets_w.doc_data['asset'] = 'UCreate'\n",
    "assets_w.run()"
   ]
  },
  {
   "cell_type": "code",
   "execution_count": 26,
   "id": "2ea64801-b496-478a-87a0-9880bc23b79a",
   "metadata": {},
   "outputs": [],
   "source": [
    "scene_str = \"\"\"Begin Map\n",
    "   Begin Level\n",
    "      Begin Actor Class=/Script/Engine.StaticMeshActor Name=StaticMeshActor_8 Archetype=/Script/Engine.StaticMeshActor'/Script/Engine.Default__StaticMeshActor'\n",
    "         Begin Object Class=/Script/Engine.StaticMeshComponent Name=\"StaticMeshComponent0\" Archetype=StaticMeshComponent'/Script/Engine.Default__StaticMeshActor:StaticMeshComponent0'\n",
    "         End Object\n",
    "         Begin Object Name=\"StaticMeshComponent0\"\n",
    "            StaticMesh=StaticMesh'\"/Game/Fractals/Meshes/frac_18.frac_18\"'\n",
    "            StaticMeshImportVersion=1\n",
    "            StaticMeshDerivedDataKey=\"STATICMESH_A8F10585DE67499EA913B652DC4A955E_228332BAE0224DD294E232B87D83948FQuadricMeshReduction_V2$2e1_AC88CFBD$2dDA61$2d4A9C$2d8488$2dF64D2DAF699D_CONSTRAINED_90000000000000080000000000000803F000000000000803F0000803F76E333F3367D3B0E805822CE7227FDB800000000010000000100000001000000010000000100000000000000000000000100000000000000400000000000000001000000000000000000F03F000000000000F03F000000000000F03F0000803F00000000050000004E6F6E65000C00000030000000803F0000803F0000000000000041000000000000A042030303000000000000000017567DCEC833357391B08933681FF50D00000000010000000100000001000000010000000100000000000000000000000100000000000000400000000000000001000000000000000000F03F000000000000F03F000000000000F03F0000803F00000000050000004E6F6E65000C0000003000C2F5283F0000803F0000000000000041000000000000A0420303030100000000000000B403F8E09EDF3D57A869F2249FCF324400000000010000000100000001000000010000000100000000000000000000000100000000000000400000000000000001000000000000000000F03F000000000000F03F000000000000F03F0000803F00000000050000004E6F6E65000C0000003000C2F5A83E0000803F0000000000000041000000000000A042030303020000000000000042393DFABEDB3DEBB66FA024AE7AA84700000000010000000100000001000000010000000100000000000000000000000100000000000000400000000000000001000000000000000000F03F000000000000F03F000000000000F03F0000803F00000000050000004E6F6E65000C0000003000CCCCCC3D0000803F0000000000000041000000000000A042030303030000000000000012B3540925CD34E0A36F22D0DCF7613100000000010000000100000001000000010000000100000000000000000000000100000000000000400000000000000001000000000000000000F03F000000000000F03F000000000000F03F0000803F00000000050000004E6F6E65000C0000003000CCCC4C3D0000803F0000000000000041000000000000A0420303030400000000000000_LS0MNSzzzzzzzz0_SWLZ\"\n",
    "            RelativeLocation=(X=59870.000000,Y=87340.000000,Z=-16700.000000)\n",
    "            RelativeRotation=(Pitch=0.000000,Yaw=-119.999999,Roll=0.000000)\n",
    "            RelativeScale3D=(X=30.000000,Y=30.000000,Z=30.000000)\n",
    "         End Object\n",
    "         StaticMeshComponent=\"StaticMeshComponent0\"\n",
    "         RootComponent=\"StaticMeshComponent0\"\n",
    "         ActorLabel=\"frac_18\"\n",
    "      End Actor\n",
    "      Begin Actor Class=/Script/Engine.SpotLight Name=SpotLight_0 Archetype=/Script/Engine.SpotLight'/Script/Engine.Default__SpotLight'\n",
    "         Begin Object Class=/Script/Engine.SpotLightComponent Name=\"LightComponent0\" Archetype=SpotLightComponent'/Script/Engine.Default__SpotLight:LightComponent0'\n",
    "         End Object\n",
    "         Begin Object Class=/Script/Engine.ArrowComponent Name=\"ArrowComponent0\" Archetype=ArrowComponent'/Script/Engine.Default__SpotLight:ArrowComponent0'\n",
    "         End Object\n",
    "         Begin Object Name=\"LightComponent0\"\n",
    "            OuterConeAngle=10.836000\n",
    "            IntensityUnits=Candelas\n",
    "            AttenuationRadius=100000.000000\n",
    "            Intensity=800000.000000\n",
    "            RelativeLocation=(X=61310.000000,Y=85995.000000,Z=-15700.000000)\n",
    "            RelativeRotation=(Pitch=327.682231,Yaw=124.967487,Roll=205.348651)\n",
    "            Mobility=Movable\n",
    "         End Object\n",
    "         Begin Object Name=\"ArrowComponent0\"\n",
    "            AttachParent=\"LightComponent0\"\n",
    "         End Object\n",
    "         SpotLightComponent=\"LightComponent0\"\n",
    "         LightComponent=\"LightComponent0\"\n",
    "         RootComponent=\"LightComponent0\"\n",
    "         ActorLabel=\"SpotLight\"\n",
    "      End Actor\n",
    "      Begin Actor Class=/Script/Engine.SkeletalMeshActor Name=SkeletalMeshActor_1 Archetype=/Script/Engine.SkeletalMeshActor'/Script/Engine.Default__SkeletalMeshActor'\n",
    "         Begin Object Class=/Script/Engine.SkeletalMeshComponent Name=\"SkeletalMeshComponent0\" Archetype=SkeletalMeshComponent'/Script/Engine.Default__SkeletalMeshActor:SkeletalMeshComponent0'\n",
    "            Begin Object Class=/Script/Engine.AnimSingleNodeInstance Name=\"AnimSingleNodeInstance_0\"\n",
    "            End Object\n",
    "         End Object\n",
    "         Begin Object Name=\"SkeletalMeshComponent0\"\n",
    "            Begin Object Name=\"AnimSingleNodeInstance_0\"\n",
    "            End Object\n",
    "            AnimationData=(AnimToPlay=AnimSequence'\"/Game/ODSMannequin/FemaleMannequin/Animations/A_Female_Idle.A_Female_Idle\"')\n",
    "            AnimationMode=AnimationSingleNode\n",
    "            SkeletalMesh=SkeletalMesh'\"/Game/ODSMannequin/FemaleMannequin/Character/Mesh/SK_FemaleMannequin.SK_FemaleMannequin\"'\n",
    "            RelativeLocation=(X=55425.934068,Y=97010.000000,Z=-21106.091875)\n",
    "            PrimaryComponentTick=(EndTickGroup=TG_PostPhysics)\n",
    "         End Object\n",
    "         SkeletalMeshComponent=\"SkeletalMeshComponent0\"\n",
    "         RootComponent=\"SkeletalMeshComponent0\"\n",
    "         ActorLabel=\"A_Female_Idle\"\n",
    "      End Actor\n",
    "      Begin Actor Class=/Script/CinematicCamera.CineCameraActor Name=CineCameraActor_0 Archetype=/Script/CinematicCamera.CineCameraActor'/Script/CinematicCamera.Default__CineCameraActor'\n",
    "         Begin Object Class=/Script/Engine.SceneComponent Name=\"SceneComponent\" Archetype=SceneComponent'/Script/CinematicCamera.Default__CineCameraActor:SceneComponent'\n",
    "         End Object\n",
    "         Begin Object Class=/Script/CinematicCamera.CineCameraComponent Name=\"CameraComponent\" Archetype=CineCameraComponent'/Script/CinematicCamera.Default__CineCameraActor:CameraComponent'\n",
    "         End Object\n",
    "         Begin Object Name=\"SceneComponent\"\n",
    "            RelativeLocation=(X=55232.433284,Y=97512.861805,Z=-20924.826948)\n",
    "            RelativeRotation=(Pitch=14.977401,Yaw=-64.716375,Roll=0.000000)\n",
    "         End Object\n",
    "         Begin Object Name=\"CameraComponent\"\n",
    "            Filmback=(SensorWidth=70.410004,SensorHeight=30.422997,SensorAspectRatio=2.314368)\n",
    "            LensSettings=(MinFStop=0.800000)\n",
    "            FocusSettings=(ManualFocusDistance=1148.466187)\n",
    "            CurrentFocalLength=19.420982\n",
    "            CurrentAperture=0.800000\n",
    "            CurrentFocusDistance=1148.466187\n",
    "            CurrentHorizontalFOV=122.232994\n",
    "            FieldOfView=122.232994\n",
    "            AspectRatio=2.314368\n",
    "            AttachParent=\"SceneComponent\"\n",
    "         End Object\n",
    "         CameraComponent=\"CameraComponent\"\n",
    "         SceneComponent=\"SceneComponent\"\n",
    "         RootComponent=\"SceneComponent\"\n",
    "         ActorLabel=\"CineCameraActor\"\n",
    "      End Actor\n",
    "   End Level\n",
    "Begin Surface\n",
    "End Surface\n",
    "End Map\n",
    "\"\"\""
   ]
  },
  {
   "cell_type": "code",
   "execution_count": 48,
   "id": "7f8d3635-6adb-4d4f-bbd4-833072f97256",
   "metadata": {},
   "outputs": [
    {
     "name": "stdout",
     "output_type": "stream",
     "text": [
      " -> Payload loaded, overwritng self\n",
      " -> Payload loaded, overwritng self\n",
      " -> Payload loaded, overwritng self\n"
     ]
    }
   ],
   "source": [
    "w = xx2.workflow(\"Epic_open_project\",doc_data={'ue_scene_data':scene_str})\n",
    "w.load()"
   ]
  },
  {
   "cell_type": "code",
   "execution_count": 33,
   "id": "18303ee1-0429-4193-be60-31b0dc4d383b",
   "metadata": {},
   "outputs": [],
   "source": [
    "w.add_step()"
   ]
  },
  {
   "cell_type": "code",
   "execution_count": 34,
   "id": "e544ba4c-87d0-4e9d-8be4-3215842958f6",
   "metadata": {},
   "outputs": [
    {
     "name": "stdout",
     "output_type": "stream",
     "text": [
      "[!] Capture image 1st before assiging a marker\n",
      "Capture images and (input) positions for step construction\n",
      "[command]  - mark image corner (top left to right bottom)\n",
      "[esc]  - stop capture\n",
      "\n",
      " -> saved location on screen: 1015 , 145\n",
      " -> saved location on screen: 1109 , 124\n",
      " -> captured: \n"
     ]
    },
    {
     "data": {
      "image/png": "[encoded data removed]"
     },
     "metadata": {},
     "output_type": "display_data"
    },
    {
     "name": "stdout",
     "output_type": "stream",
     "text": [
      "locating (0/10): \n"
     ]
    },
    {
     "data": {
      "image/png": "[encoded data removed]"
     },
     "metadata": {},
     "output_type": "display_data"
    },
    {
     "name": "stdout",
     "output_type": "stream",
     "text": [
      "found @: [1015, 124, 94, 21]\n",
      "Image found @: 1015, 124\n",
      "[command]  - mark action location\n",
      "[esc]  - stop capture\n",
      "\n",
      " -> saved location on screen: 1096 , 133\n",
      " -> captured action marker @: 81, 9\n",
      " -> overwriting break if not found\n"
     ]
    }
   ],
   "source": [
    "w.steps[-1].capture_action_marker()"
   ]
  },
  {
   "cell_type": "code",
   "execution_count": 44,
   "id": "16808636-807e-4818-b421-28e3161c255e",
   "metadata": {},
   "outputs": [],
   "source": [
    "w.steps[-1].pre_script_str = \"pyperclip.copy(self.workflow.doc_data['ue_scene_data'])\\ngui.hotkey(os_ctrl(),'v')\""
   ]
  },
  {
   "cell_type": "code",
   "execution_count": 45,
   "id": "78bf7af6-34b0-4b23-b4a4-1b0df7453863",
   "metadata": {},
   "outputs": [
    {
     "data": {
      "application/vnd.jupyter.widget-view+json": {
       "model_id": "",
       "version_major": 2,
       "version_minor": 0
      },
      "text/plain": [
       "Text(value='1015', description='x')"
      ]
     },
     "metadata": {},
     "output_type": "display_data"
    },
    {
     "data": {
      "application/vnd.jupyter.widget-view+json": {
       "model_id": "",
       "version_major": 2,
       "version_minor": 0
      },
      "text/plain": [
       "Text(value='124', description='y')"
      ]
     },
     "metadata": {},
     "output_type": "display_data"
    },
    {
     "data": {
      "application/vnd.jupyter.widget-view+json": {
       "model_id": "",
       "version_major": 2,
       "version_minor": 0
      },
      "text/plain": [
       "Text(value='94', description='width')"
      ]
     },
     "metadata": {},
     "output_type": "display_data"
    },
    {
     "data": {
      "application/vnd.jupyter.widget-view+json": {
       "model_id": "",
       "version_major": 2,
       "version_minor": 0
      },
      "text/plain": [
       "Text(value='21', description='height')"
      ]
     },
     "metadata": {},
     "output_type": "display_data"
    },
    {
     "data": {
      "application/vnd.jupyter.widget-view+json": {
       "model_id": "",
       "version_major": 2,
       "version_minor": 0
      },
      "text/plain": [
       "Checkbox(value=False, description='break if not found')"
      ]
     },
     "metadata": {},
     "output_type": "display_data"
    },
    {
     "data": {
      "application/vnd.jupyter.widget-view+json": {
       "model_id": "",
       "version_major": 2,
       "version_minor": 0
      },
      "text/plain": [
       "Text(value='81', description='offset_x')"
      ]
     },
     "metadata": {},
     "output_type": "display_data"
    },
    {
     "data": {
      "application/vnd.jupyter.widget-view+json": {
       "model_id": "",
       "version_major": 2,
       "version_minor": 0
      },
      "text/plain": [
       "Text(value='9', description='offset_y')"
      ]
     },
     "metadata": {},
     "output_type": "display_data"
    },
    {
     "data": {
      "application/vnd.jupyter.widget-view+json": {
       "model_id": "",
       "version_major": 2,
       "version_minor": 0
      },
      "text/plain": [
       "Dropdown(description='mouse', index=1, options=('move', 'click', 'right-click', 'double-click'), value='click'…"
      ]
     },
     "metadata": {},
     "output_type": "display_data"
    },
    {
     "data": {
      "application/vnd.jupyter.widget-view+json": {
       "model_id": "",
       "version_major": 2,
       "version_minor": 0
      },
      "text/plain": [
       "Checkbox(value=False, description='ctrla')"
      ]
     },
     "metadata": {},
     "output_type": "display_data"
    },
    {
     "data": {
      "application/vnd.jupyter.widget-view+json": {
       "model_id": "",
       "version_major": 2,
       "version_minor": 0
      },
      "text/plain": [
       "Text(value='', description='text')"
      ]
     },
     "metadata": {},
     "output_type": "display_data"
    },
    {
     "data": {
      "application/vnd.jupyter.widget-view+json": {
       "model_id": "",
       "version_major": 2,
       "version_minor": 0
      },
      "text/plain": [
       "Checkbox(value=False, description='enter')"
      ]
     },
     "metadata": {},
     "output_type": "display_data"
    },
    {
     "data": {
      "application/vnd.jupyter.widget-view+json": {
       "model_id": "",
       "version_major": 2,
       "version_minor": 0
      },
      "text/plain": [
       "Checkbox(value=False, description='allfound')"
      ]
     },
     "metadata": {},
     "output_type": "display_data"
    },
    {
     "name": "stdout",
     "output_type": "stream",
     "text": [
      "[!] clear output before sving the step\n"
     ]
    }
   ],
   "source": [
    "w.steps[-1].edit()"
   ]
  },
  {
   "cell_type": "code",
   "execution_count": 49,
   "id": "e4467946-ad87-429f-b9c6-0b60055b3a64",
   "metadata": {},
   "outputs": [
    {
     "name": "stdout",
     "output_type": "stream",
     "text": [
      "locating (0/30): \n"
     ]
    },
    {
     "data": {
      "image/png": "[encoded data removed]"
     },
     "metadata": {},
     "output_type": "display_data"
    },
    {
     "name": "stdout",
     "output_type": "stream",
     "text": [
      "found @: [89, 1294, 238, 28]\n"
     ]
    },
    {
     "data": {
      "image/png": "[encoded data removed]"
     },
     "metadata": {},
     "output_type": "display_data"
    },
    {
     "name": "stdout",
     "output_type": "stream",
     "text": [
      " -> clicked @: [726,1317]\n",
      " ### step over, current step: 1 ### \n",
      "locating (0/30): \n"
     ]
    },
    {
     "data": {
      "image/png": "[encoded data removed]"
     },
     "metadata": {},
     "output_type": "display_data"
    },
    {
     "name": "stdout",
     "output_type": "stream",
     "text": [
      "found @: [1013, 121, 102, 27]\n"
     ]
    },
    {
     "data": {
      "image/png": "[encoded data removed]"
     },
     "metadata": {},
     "output_type": "display_data"
    },
    {
     "name": "stdout",
     "output_type": "stream",
     "text": [
      " -> clicked @: [1099,131]\n",
      " ### step over, current step: 2 ### \n",
      "locating (0/30): \n"
     ]
    },
    {
     "data": {
      "image/png": "[encoded data removed]"
     },
     "metadata": {},
     "output_type": "display_data"
    },
    {
     "name": "stdout",
     "output_type": "stream",
     "text": [
      "found @: [1015, 124, 94, 21]\n"
     ]
    },
    {
     "data": {
      "image/png": "[encoded data removed]"
     },
     "metadata": {},
     "output_type": "display_data"
    },
    {
     "name": "stdout",
     "output_type": "stream",
     "text": [
      " -> clicked @: [1096,133]\n",
      " ### step over, current step: 3 ### \n"
     ]
    }
   ],
   "source": [
    "w.run()"
   ]
  },
  {
   "cell_type": "code",
   "execution_count": 47,
   "id": "9a6d2e88-3ac8-43bb-9a6e-fb6afb0ad6fe",
   "metadata": {},
   "outputs": [
    {
     "name": "stdout",
     "output_type": "stream",
     "text": [
      "load step: step = xx2.step(name=\"Epic_open_project/96d36484-b601-4bdf-8ff3-b0a39986b83c\")\n",
      "load step: step = xx2.step(name=\"Epic_open_project/4ee24cf7-567e-432d-bc72-10d22b167f3c\")\n",
      "load step: step = xx2.step(name=\"Epic_open_project/573871d7-c309-415d-8645-cc4b33602fa7\")\n"
     ]
    }
   ],
   "source": [
    "w.save()"
   ]
  },
  {
   "cell_type": "code",
   "execution_count": null,
   "id": "0ab49933-8c25-433e-a110-7b3d16bbedc8",
   "metadata": {},
   "outputs": [],
   "source": []
  }
 ],
 "metadata": {
  "kernelspec": {
   "display_name": "Python 3 (ipykernel)",
   "language": "python",
   "name": "python3"
  },
  "language_info": {
   "codemirror_mode": {
    "name": "ipython",
    "version": 3
   },
   "file_extension": ".py",
   "mimetype": "text/x-python",
   "name": "python",
   "nbconvert_exporter": "python",
   "pygments_lexer": "ipython3",
   "version": "3.11.0"
  }
 },
 "nbformat": 4,
 "nbformat_minor": 5
}
