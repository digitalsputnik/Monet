{
 "cells": [
  {
   "cell_type": "code",
   "execution_count": 1,
   "id": "d4978f78-2fc7-4ee1-bcf8-fa2bf9236c5b",
   "metadata": {},
   "outputs": [],
   "source": [
    "import xx2"
   ]
  },
  {
   "cell_type": "code",
   "execution_count": 27,
   "id": "8af2e81a-cff9-461c-a9f6-0c2de680c95f",
   "metadata": {},
   "outputs": [],
   "source": [
    "def setup_job():\n",
    "    #inp=\"[4910801104] LLC trafo ETD39 75kHz 59V\t22/10/20\tX.2C8F.64C4\t0.00\t\t50.00\t50.00\tUnits\"\n",
    "    print(\"copy and paste a single line from odoo inventory adjustmen (in progress state):\")\n",
    "    inp=input()\n",
    "    from datetime import datetime\n",
    "    import time\n",
    "\n",
    "    now = datetime.now()\n",
    "    date = now.strftime(\"%d/%m/%Y\")\n",
    "\n",
    "    #filter out single line\n",
    "    if not(inp[0]=='['):\n",
    "        inp=inp[inp.find('['):]\n",
    "    \n",
    "    if inp[1:].find('['):\n",
    "        inp = inp[:inp[1:].find('[')+1]\n",
    "\n",
    "    cols = inp.split('\\t')\n",
    "    product_code=inp[1:inp.find(']')]\n",
    "    print(str(cols))\n",
    "    lot_serial = cols[1]\n",
    "    product_name = inp[inp.find(']')+2:inp.find('\\t')]\n",
    "    package = cols[2]\n",
    "    if package==\"\":\n",
    "        parta = \"%04x\" % random.randint(0,65535)\n",
    "        partb = \"%04x\" % random.randint(0,65535)\n",
    "        package = \"X.\"+parta.upper()+\".\"+partb.upper()\n",
    "    if cols[7]==\"Units\":\n",
    "        product_qty = date+\" : \"+cols[5][:-3]+\" \"+cols[7]\n",
    "    else:\n",
    "        product_qty = date+\" : \"+cols[5]+cols[7]"
   ]
  },
  {
   "cell_type": "code",
   "execution_count": 28,
   "id": "85e315e9-f792-4a49-b23d-4f045f4b79f0",
   "metadata": {},
   "outputs": [
    {
     "name": "stdout",
     "output_type": "stream",
     "text": [
      "copy and paste a single line from odoo inventory adjustmen (in progress state):\n"
     ]
    },
    {
     "name": "stdin",
     "output_type": "stream",
     "text": [
      " [1210815601] DS3 Spacelight\t21/01/06\t\t0.00\t\t33.00\t33.00\tUnits\n"
     ]
    },
    {
     "name": "stdout",
     "output_type": "stream",
     "text": [
      "['']\n"
     ]
    },
    {
     "ename": "IndexError",
     "evalue": "list index out of range",
     "output_type": "error",
     "traceback": [
      "\u001b[0;31m---------------------------------------------------------------------------\u001b[0m",
      "\u001b[0;31mIndexError\u001b[0m                                Traceback (most recent call last)",
      "Input \u001b[0;32mIn [28]\u001b[0m, in \u001b[0;36m<module>\u001b[0;34m\u001b[0m\n\u001b[0;32m----> 1\u001b[0m \u001b[43msetup_job\u001b[49m\u001b[43m(\u001b[49m\u001b[43m)\u001b[49m\n",
      "Input \u001b[0;32mIn [27]\u001b[0m, in \u001b[0;36msetup_job\u001b[0;34m()\u001b[0m\n\u001b[1;32m     19\u001b[0m product_code\u001b[38;5;241m=\u001b[39minp[\u001b[38;5;241m1\u001b[39m:inp\u001b[38;5;241m.\u001b[39mfind(\u001b[38;5;124m'\u001b[39m\u001b[38;5;124m]\u001b[39m\u001b[38;5;124m'\u001b[39m)]\n\u001b[1;32m     20\u001b[0m \u001b[38;5;28mprint\u001b[39m(\u001b[38;5;28mstr\u001b[39m(cols))\n\u001b[0;32m---> 21\u001b[0m lot_serial \u001b[38;5;241m=\u001b[39m \u001b[43mcols\u001b[49m\u001b[43m[\u001b[49m\u001b[38;5;241;43m1\u001b[39;49m\u001b[43m]\u001b[49m\n\u001b[1;32m     22\u001b[0m product_name \u001b[38;5;241m=\u001b[39m inp[inp\u001b[38;5;241m.\u001b[39mfind(\u001b[38;5;124m'\u001b[39m\u001b[38;5;124m]\u001b[39m\u001b[38;5;124m'\u001b[39m)\u001b[38;5;241m+\u001b[39m\u001b[38;5;241m2\u001b[39m:inp\u001b[38;5;241m.\u001b[39mfind(\u001b[38;5;124m'\u001b[39m\u001b[38;5;130;01m\\t\u001b[39;00m\u001b[38;5;124m'\u001b[39m)]\n\u001b[1;32m     23\u001b[0m package \u001b[38;5;241m=\u001b[39m cols[\u001b[38;5;241m2\u001b[39m]\n",
      "\u001b[0;31mIndexError\u001b[0m: list index out of range"
     ]
    }
   ],
   "source": [
    "setup_job()"
   ]
  },
  {
   "cell_type": "code",
   "execution_count": 23,
   "id": "73b8f5e4-e8cc-4fae-ab44-50f3c516546c",
   "metadata": {},
   "outputs": [],
   "source": [
    "cols = test.split('\\t')"
   ]
  },
  {
   "cell_type": "code",
   "execution_count": 25,
   "id": "f1d71d21-f7d3-4641-9f77-d783dd51da35",
   "metadata": {},
   "outputs": [
    {
     "data": {
      "text/plain": [
       "'21/01/06'"
      ]
     },
     "execution_count": 25,
     "metadata": {},
     "output_type": "execute_result"
    }
   ],
   "source": [
    "cols[1]"
   ]
  },
  {
   "cell_type": "code",
   "execution_count": 2,
   "id": "95e08f69-af7a-4fc8-a067-e913ea40a96e",
   "metadata": {},
   "outputs": [],
   "source": [
    "w = xx2.workflow('odoo_get_lot')"
   ]
  },
  {
   "cell_type": "code",
   "execution_count": 12,
   "id": "764d8889-c20c-41ec-8df5-2a74a22d8962",
   "metadata": {},
   "outputs": [],
   "source": [
    "w.add_step()"
   ]
  },
  {
   "cell_type": "code",
   "execution_count": 13,
   "id": "c0d436b5-3c68-4406-9e9b-0794f7c4c7be",
   "metadata": {},
   "outputs": [
    {
     "name": "stdout",
     "output_type": "stream",
     "text": [
      "[!] Capture image 1st before assiging a marker\n",
      "Capture images and (input) positions for step construction\n",
      "[command]  - mark image corner (top left to right bottom)\n",
      "[esc]  - stop capture\n",
      "\n",
      " -> saved location on screen: 472 , 158\n",
      " -> saved location on screen: 583 , 188\n",
      " -> captured: \n"
     ]
    },
    {
     "data": {
      "image/png": "[encoded data removed]"
     },
     "metadata": {},
     "output_type": "display_data"
    },
    {
     "name": "stdout",
     "output_type": "stream",
     "text": [
      "locating (0/10): \n"
     ]
    },
    {
     "data": {
      "image/png": "[encoded data removed]"
     },
     "metadata": {},
     "output_type": "display_data"
    },
    {
     "name": "stdout",
     "output_type": "stream",
     "text": [
      "found @: [471, 158, 111, 30]\n",
      "Image found @: 471, 158\n",
      "[command]  - mark action location\n",
      "[esc]  - stop capture\n",
      "\n",
      " -> saved location on screen: 490 , 171\n",
      " -> captured action marker @: 19, 13\n",
      " -> overwriting break if not found\n"
     ]
    }
   ],
   "source": [
    "w.steps[-1].capture_action_marker()"
   ]
  },
  {
   "cell_type": "code",
   "execution_count": 14,
   "id": "ae4a2913-5d7c-4484-8c1b-162b60c03656",
   "metadata": {},
   "outputs": [
    {
     "data": {
      "application/vnd.jupyter.widget-view+json": {
       "model_id": "d50008a0e8e74b62a2b0c6730c83a6dd",
       "version_major": 2,
       "version_minor": 0
      },
      "text/plain": [
       "Text(value='472', description='x')"
      ]
     },
     "metadata": {},
     "output_type": "display_data"
    },
    {
     "data": {
      "application/vnd.jupyter.widget-view+json": {
       "model_id": "b94378092d1d43b883a3fbb1db73cf60",
       "version_major": 2,
       "version_minor": 0
      },
      "text/plain": [
       "Text(value='158', description='y')"
      ]
     },
     "metadata": {},
     "output_type": "display_data"
    },
    {
     "data": {
      "application/vnd.jupyter.widget-view+json": {
       "model_id": "c9d2ce93ebae48aa9b19a90c2d2b7c65",
       "version_major": 2,
       "version_minor": 0
      },
      "text/plain": [
       "Text(value='111', description='width')"
      ]
     },
     "metadata": {},
     "output_type": "display_data"
    },
    {
     "data": {
      "application/vnd.jupyter.widget-view+json": {
       "model_id": "c277e49db8ff475781652bc24f967d8f",
       "version_major": 2,
       "version_minor": 0
      },
      "text/plain": [
       "Text(value='30', description='height')"
      ]
     },
     "metadata": {},
     "output_type": "display_data"
    },
    {
     "data": {
      "application/vnd.jupyter.widget-view+json": {
       "model_id": "4ca5e843ddc24d6a885542cef3bd3406",
       "version_major": 2,
       "version_minor": 0
      },
      "text/plain": [
       "Checkbox(value=False, description='break if not found')"
      ]
     },
     "metadata": {},
     "output_type": "display_data"
    },
    {
     "data": {
      "application/vnd.jupyter.widget-view+json": {
       "model_id": "2ceea720c75a4b948626fc6e6ac543c4",
       "version_major": 2,
       "version_minor": 0
      },
      "text/plain": [
       "Text(value='19', description='offset_x')"
      ]
     },
     "metadata": {},
     "output_type": "display_data"
    },
    {
     "data": {
      "application/vnd.jupyter.widget-view+json": {
       "model_id": "5aa8c180d7af4d06ade09c302e950496",
       "version_major": 2,
       "version_minor": 0
      },
      "text/plain": [
       "Text(value='13', description='offset_y')"
      ]
     },
     "metadata": {},
     "output_type": "display_data"
    },
    {
     "data": {
      "application/vnd.jupyter.widget-view+json": {
       "model_id": "4f8c3415718540fd82342f1cacad3102",
       "version_major": 2,
       "version_minor": 0
      },
      "text/plain": [
       "Dropdown(description='mouse', index=1, options=('move', 'click', 'right-click', 'double-click'), value='click'…"
      ]
     },
     "metadata": {},
     "output_type": "display_data"
    },
    {
     "data": {
      "application/vnd.jupyter.widget-view+json": {
       "model_id": "248a931b02324305bebdb35285451cae",
       "version_major": 2,
       "version_minor": 0
      },
      "text/plain": [
       "Checkbox(value=False, description='ctrla')"
      ]
     },
     "metadata": {},
     "output_type": "display_data"
    },
    {
     "data": {
      "application/vnd.jupyter.widget-view+json": {
       "model_id": "12218f251adf4ac89cd5a0b06f8123c0",
       "version_major": 2,
       "version_minor": 0
      },
      "text/plain": [
       "Text(value='', description='text')"
      ]
     },
     "metadata": {},
     "output_type": "display_data"
    },
    {
     "data": {
      "application/vnd.jupyter.widget-view+json": {
       "model_id": "4aceea2568c745cabc442213b3f25987",
       "version_major": 2,
       "version_minor": 0
      },
      "text/plain": [
       "Checkbox(value=False, description='enter')"
      ]
     },
     "metadata": {},
     "output_type": "display_data"
    },
    {
     "data": {
      "application/vnd.jupyter.widget-view+json": {
       "model_id": "b26c09b66a894a32a34dff2a6711726e",
       "version_major": 2,
       "version_minor": 0
      },
      "text/plain": [
       "Checkbox(value=False, description='allfound')"
      ]
     },
     "metadata": {},
     "output_type": "display_data"
    },
    {
     "name": "stdout",
     "output_type": "stream",
     "text": [
      "[!] clear output before sving the step\n"
     ]
    }
   ],
   "source": [
    "w.steps[-1].edit()"
   ]
  },
  {
   "cell_type": "code",
   "execution_count": 16,
   "id": "1dcb57c5-9a42-44fe-9629-4d337e721de8",
   "metadata": {},
   "outputs": [],
   "source": [
    "w.steps[1].timeout = 2"
   ]
  },
  {
   "cell_type": "code",
   "execution_count": 17,
   "id": "010b6662-fbb1-4a29-afeb-dfa8a7a0a595",
   "metadata": {},
   "outputs": [
    {
     "name": "stdout",
     "output_type": "stream",
     "text": [
      "locating (0/30): \n"
     ]
    },
    {
     "data": {
      "image/png": "[encoded data removed]"
     },
     "metadata": {},
     "output_type": "display_data"
    },
    {
     "name": "stdout",
     "output_type": "stream",
     "text": [
      "found @: [5, 73, 100, 27]\n"
     ]
    },
    {
     "data": {
      "image/png": "[encoded data removed]"
     },
     "metadata": {},
     "output_type": "display_data"
    },
    {
     "name": "stdout",
     "output_type": "stream",
     "text": [
      " -> clicked @: [144,86]\n",
      " -> Keystroke: [ctrl]+[a]\n",
      " -> Pasted : https://www.digitalsputnik.com/web#action=412&model=stock.production.lot&view_type=list&cids=1&menu_id=255\n",
      " -> Keystroke: [enter]\n",
      "step over, current step: 1\n",
      "locating (0/2): \n"
     ]
    },
    {
     "data": {
      "image/png": "[encoded data removed]"
     },
     "metadata": {},
     "output_type": "display_data"
    },
    {
     "name": "stdout",
     "output_type": "stream",
     "text": [
      "locating (1/2): \n",
      "found @: [554, 162, 18, 21]\n"
     ]
    },
    {
     "data": {
      "image/png": "[encoded data removed]"
     },
     "metadata": {},
     "output_type": "display_data"
    },
    {
     "name": "stdout",
     "output_type": "stream",
     "text": [
      " -> clicked @: [562,174]\n",
      "step over, current step: 1\n",
      "locating (0/2): \n"
     ]
    },
    {
     "data": {
      "image/png": "[encoded data removed]"
     },
     "metadata": {},
     "output_type": "display_data"
    },
    {
     "name": "stdout",
     "output_type": "stream",
     "text": [
      "locating (1/2): \n",
      " -> Image not found\n",
      "step over, current step: 2\n",
      "locating (0/30): \n"
     ]
    },
    {
     "data": {
      "image/png": "[encoded data removed]"
     },
     "metadata": {},
     "output_type": "display_data"
    },
    {
     "name": "stdout",
     "output_type": "stream",
     "text": [
      "found @: [471, 158, 111, 30]\n"
     ]
    },
    {
     "data": {
      "image/png": "[encoded data removed]"
     },
     "metadata": {},
     "output_type": "display_data"
    },
    {
     "name": "stdout",
     "output_type": "stream",
     "text": [
      " -> clicked @: [490,171]\n",
      " -> Pasted : test\n",
      "step over, current step: 3\n"
     ]
    }
   ],
   "source": [
    "w.run()"
   ]
  },
  {
   "cell_type": "code",
   "execution_count": null,
   "id": "f8a9a7de-f540-44f3-85b3-2d57709298b6",
   "metadata": {},
   "outputs": [],
   "source": []
  }
 ],
 "metadata": {
  "kernelspec": {
   "display_name": "Python 3 (ipykernel)",
   "language": "python",
   "name": "python3"
  },
  "language_info": {
   "codemirror_mode": {
    "name": "ipython",
    "version": 3
   },
   "file_extension": ".py",
   "mimetype": "text/x-python",
   "name": "python",
   "nbconvert_exporter": "python",
   "pygments_lexer": "ipython3",
   "version": "3.10.1"
  }
 },
 "nbformat": 4,
 "nbformat_minor": 5
}
