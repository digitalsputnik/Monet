{
 "cells": [
  {
   "cell_type": "code",
   "execution_count": 99,
   "id": "ea77e7a7-f0bb-45cf-813f-07fd733c8189",
   "metadata": {},
   "outputs": [],
   "source": [
    "import xx\n",
    "import time\n",
    "import pyautogui as gui\n",
    "import copy"
   ]
  },
  {
   "cell_type": "code",
   "execution_count": 18,
   "id": "187d1558-cafa-406c-93b6-3ab3a48b27a1",
   "metadata": {},
   "outputs": [],
   "source": [
    "myApp = gui.getWindowsWithTitle(\"Unreal\")[0]\n",
    "myApp.restore()\n",
    "time.sleep(1)\n",
    "myApp.topleft = gui.Point(0,0)\n",
    "myApp.width = 1920\n",
    "myApp.height = 1200"
   ]
  },
  {
   "cell_type": "code",
   "execution_count": 6,
   "id": "5f933695-bba7-4ee2-bc5e-ba80d30b20ff",
   "metadata": {},
   "outputs": [],
   "source": [
    "apps = gui.getWindowsWithTitle(\"Unreal\")"
   ]
  },
  {
   "cell_type": "code",
   "execution_count": 12,
   "id": "b114dd3d-6c97-4895-8593-024986d99a52",
   "metadata": {},
   "outputs": [
    {
     "data": {
      "text/plain": [
       "'TestAutom - Unreal Editor'"
      ]
     },
     "execution_count": 12,
     "metadata": {},
     "output_type": "execute_result"
    }
   ],
   "source": [
    "apps[0].title"
   ]
  },
  {
   "cell_type": "code",
   "execution_count": 1,
   "id": "50b722ed-1120-49b1-96aa-8e62c5fedc55",
   "metadata": {},
   "outputs": [],
   "source": [
    "import xx"
   ]
  },
  {
   "cell_type": "code",
   "execution_count": 2,
   "id": "861228f7-2fda-4fc2-999e-11b92a8d21eb",
   "metadata": {},
   "outputs": [],
   "source": [
    "step1 = xx.step()"
   ]
  },
  {
   "cell_type": "code",
   "execution_count": 3,
   "id": "0a0a5742-c524-41c2-9b98-e49b105f4672",
   "metadata": {},
   "outputs": [
    {
     "name": "stdout",
     "output_type": "stream",
     "text": [
      "Capture images and (input) positions for step construction\n",
      "[alt]  - mark image corner (top left to right bottom)\n",
      "[w]    - show captured image\n",
      "[m]    - add click or input marker, print variable as string\n",
      "[q]    - stop capture\n",
      " -> pos: 12,1152\n",
      " -> pos: 204,1189\n",
      "loc=[[101,17]]\n"
     ]
    }
   ],
   "source": [
    "step1.capture()"
   ]
  },
  {
   "cell_type": "code",
   "execution_count": 4,
   "id": "74c7095b-2b6c-4fef-93e2-c92516616cdf",
   "metadata": {},
   "outputs": [],
   "source": [
    "step1._img.show()"
   ]
  },
  {
   "cell_type": "code",
   "execution_count": 5,
   "id": "9d23481c-bb17-45d6-8183-ccf4ad18cd8c",
   "metadata": {},
   "outputs": [
    {
     "data": {
      "text/plain": [
       "'#pre script\\r\\n\\r\\n#script\\r\\nloc=[[101,17]]\\r\\nif self.found_loc==None:\\r\\n    print(\"  Image Not Found\")\\r\\nelse:\\r\\n    print(\"  Image Found @: \"+str(self.found_loc))'"
      ]
     },
     "execution_count": 5,
     "metadata": {},
     "output_type": "execute_result"
    }
   ],
   "source": [
    "step1.step2string()"
   ]
  },
  {
   "cell_type": "code",
   "execution_count": 6,
   "id": "9a7cbc60-b6aa-4d76-b1e2-4fb145cbec41",
   "metadata": {},
   "outputs": [
    {
     "name": "stdout",
     "output_type": "stream",
     "text": [
      "    Scripts copied\n"
     ]
    }
   ],
   "source": [
    "step1.copy()"
   ]
  },
  {
   "cell_type": "code",
   "execution_count": 7,
   "id": "9dee64e6-f1bd-4bc1-99cd-822f57b407dc",
   "metadata": {},
   "outputs": [
    {
     "name": "stdout",
     "output_type": "stream",
     "text": [
      "Pre script:\n",
      "myApp = gui.getWindowsWithTitle(\"Unreal\")[0]\n",
      "myApp.restore()\n",
      "time.sleep(1)\n",
      "myApp.topleft = gui.Point(0,0)\n",
      "myApp.width = 1920\n",
      "myApp.height = 1200\n",
      "loc=[[101,17]]\n",
      "if self.found_loc==None:\n",
      "    print(\"  Image Not Found\")\n",
      "else:\n",
      "    found = [self.found_loc.left,self.found_loc.top]\n",
      "    abs_loc = [found[0]+loc[0][0], found[1]+loc[0][1]]\n",
      "    gui.click(abs_loc[0], abs_loc[1])\n",
      "--------------------------- Update scripts? ---------------------------\n",
      "0 [0] Keep\n",
      "1 [1] Cancel\n",
      "---------------------------------- -- ----------------------------------\n"
     ]
    },
    {
     "name": "stdin",
     "output_type": "stream",
     "text": [
      "1(Cancel):  0\n"
     ]
    },
    {
     "name": "stdout",
     "output_type": "stream",
     "text": [
      "    Scripts updated\n"
     ]
    }
   ],
   "source": [
    "step1.paste()"
   ]
  },
  {
   "cell_type": "code",
   "execution_count": 8,
   "id": "e1a7a8a2-d23f-4e2c-967d-18d07dad8925",
   "metadata": {},
   "outputs": [],
   "source": [
    "step1.savePNG(\"1.unreal.content_drawer.png\")"
   ]
  },
  {
   "cell_type": "code",
   "execution_count": 10,
   "id": "bcba9501-4da8-4c8c-a53e-2903775ddf0e",
   "metadata": {},
   "outputs": [
    {
     "name": "stdout",
     "output_type": "stream",
     "text": [
      "trying to locate img: <PIL.Image.Image image mode=RGB size=192x37 at 0x1E74CADFC70> try 0\n"
     ]
    }
   ],
   "source": [
    "step1.run()"
   ]
  },
  {
   "cell_type": "code",
   "execution_count": 11,
   "id": "332ea9bb-45ac-47d2-90ed-ddb653e12ef5",
   "metadata": {},
   "outputs": [],
   "source": [
    "step2 = xx.step()"
   ]
  },
  {
   "cell_type": "code",
   "execution_count": 49,
   "id": "1ac43e37-a70b-4b8c-8bd4-855d7d261df8",
   "metadata": {},
   "outputs": [
    {
     "name": "stdout",
     "output_type": "stream",
     "text": [
      "Capture images and (input) positions for step construction\n",
      "[alt]  - mark image corner (top left to right bottom)\n",
      "[w]    - show captured image\n",
      "[m]    - add click or input marker, print variable as string\n",
      "[q]    - stop capture\n",
      " -> pos: 42,758\n",
      " -> pos: 400,792\n",
      "loc=[[58,22],[61,18]]\n"
     ]
    }
   ],
   "source": [
    "step2.capture()"
   ]
  },
  {
   "cell_type": "code",
   "execution_count": 14,
   "id": "7e1ede5a-9970-432e-8df2-92d217b248e7",
   "metadata": {},
   "outputs": [
    {
     "name": "stdout",
     "output_type": "stream",
     "text": [
      "    Scripts copied\n"
     ]
    }
   ],
   "source": [
    "step2.copy()"
   ]
  },
  {
   "cell_type": "code",
   "execution_count": 168,
   "id": "267abc1d-2cbf-409b-bfe5-d69079f3e932",
   "metadata": {},
   "outputs": [
    {
     "name": "stdout",
     "output_type": "stream",
     "text": [
      "No pre script....\n",
      "loc=[[58,22]]\n",
      "if self.found_loc==None:\n",
      "    print(\"  Image Not Found\")\n",
      "else:\n",
      "    found = [self.found_loc.left,self.found_loc.top]\n",
      "    abs_loc = [found[0]+loc[0][0], found[1]+loc[0][1]]\n",
      "    time.sleep(0.2)\n",
      "    gui.click(abs_loc[0], abs_loc[1])\n",
      "    time.sleep(0.2)\n",
      "    gui.hotkey('space')\n",
      "    time.sleep(0.2)\n",
      "    gui.typewrite('interface')\n",
      "--------------------------- Update scripts? ---------------------------\n",
      "0 [0] Keep\n",
      "1 [1] Cancel\n",
      "---------------------------------- -- ----------------------------------\n"
     ]
    },
    {
     "name": "stdin",
     "output_type": "stream",
     "text": [
      "1(Cancel):  0\n"
     ]
    },
    {
     "name": "stdout",
     "output_type": "stream",
     "text": [
      "    Scripts updated\n"
     ]
    }
   ],
   "source": [
    "step2.paste()\n",
    "step2.savePNG(\"2.unreal.add_content.png\")"
   ]
  },
  {
   "cell_type": "code",
   "execution_count": 167,
   "id": "4eb7c2ab-bed8-4095-887c-535cfaa20094",
   "metadata": {},
   "outputs": [
    {
     "name": "stdout",
     "output_type": "stream",
     "text": [
      "trying to locate img: <PIL.Image.Image image mode=RGB size=358x34 at 0x1E74D122E00> try 0\n"
     ]
    }
   ],
   "source": [
    "step2.run()"
   ]
  },
  {
   "cell_type": "code",
   "execution_count": 23,
   "id": "57b86604-1b36-4576-8aa2-99c4bd2b78c5",
   "metadata": {},
   "outputs": [],
   "source": [
    "step3 = xx.step()"
   ]
  },
  {
   "cell_type": "code",
   "execution_count": 33,
   "id": "bb5b7cee-3243-4ec1-96d8-a64c08aba19b",
   "metadata": {},
   "outputs": [
    {
     "name": "stdout",
     "output_type": "stream",
     "text": [
      "trying to locate img: <PIL.Image.Image image mode=RGB size=116x40 at 0x1E74CD2AE30> try 0\n",
      "Capture images and (input) positions for step construction\n",
      "[alt]  - mark image corner (top left to right bottom)\n",
      "[w]    - show captured image\n",
      "[m]    - add click or input marker, print variable as string\n",
      "[q]    - stop capture\n",
      " -> pos: 83,982\n",
      " -> pos: 401,1047\n",
      "loc=[[118,30],[83,31]]\n"
     ]
    }
   ],
   "source": [
    "step2.run()\n",
    "step3.capture()"
   ]
  },
  {
   "cell_type": "code",
   "execution_count": 26,
   "id": "23c9517d-b267-4ebc-85b8-a7b00a02bc43",
   "metadata": {},
   "outputs": [
    {
     "name": "stdout",
     "output_type": "stream",
     "text": [
      "    Scripts copied\n"
     ]
    }
   ],
   "source": [
    "step3.copy()"
   ]
  },
  {
   "cell_type": "code",
   "execution_count": 164,
   "id": "8fbdd573-3355-4b08-87f2-b2b07513b7e9",
   "metadata": {},
   "outputs": [
    {
     "name": "stdout",
     "output_type": "stream",
     "text": [
      "No pre script....\n",
      "loc=[[118,30]]\n",
      "if self.found_loc==None:\n",
      "    print(\"  Image Not Found\")\n",
      "else:\n",
      "    found = [self.found_loc.left,self.found_loc.top]\n",
      "    abs_loc = [found[0]+loc[0][0], found[1]+loc[0][1]]\n",
      "    time.sleep(0.2)\n",
      "    gui.click(abs_loc[0], abs_loc[1])\n",
      "    time.sleep(0.2)\n",
      "    gui.typewrite('BPI_EditorTick')\n",
      "    time.sleep(0.2)\n",
      "    gui.press('enter')\n",
      "--------------------------- Update scripts? ---------------------------\n",
      "0 [0] Keep\n",
      "1 [1] Cancel\n",
      "---------------------------------- -- ----------------------------------\n"
     ]
    },
    {
     "name": "stdin",
     "output_type": "stream",
     "text": [
      "1(Cancel):  0\n"
     ]
    },
    {
     "name": "stdout",
     "output_type": "stream",
     "text": [
      "    Scripts updated\n"
     ]
    }
   ],
   "source": [
    "step3.paste()\n",
    "step3.savePNG(\"3.unreal.editor_utility_blueprint.png\")"
   ]
  },
  {
   "cell_type": "code",
   "execution_count": 35,
   "id": "f42f0f47-89b3-42ec-b4c5-5bfaedf15379",
   "metadata": {},
   "outputs": [
    {
     "name": "stdout",
     "output_type": "stream",
     "text": [
      "trying to locate img: <PIL.Image.Image image mode=RGB size=116x40 at 0x1E74CD2AE30> try 0\n",
      "trying to locate img: <PIL.Image.Image image mode=RGB size=318x65 at 0x1E74CBA6440> try 0\n",
      "trying to locate img: <PIL.Image.Image image mode=RGB size=318x65 at 0x1E74CBA6440> try 1\n"
     ]
    }
   ],
   "source": [
    "step2.run()\n",
    "step3.run()"
   ]
  },
  {
   "cell_type": "code",
   "execution_count": 36,
   "id": "96669b71-1540-4e22-9263-4ad923d2da17",
   "metadata": {},
   "outputs": [],
   "source": [
    "step4 = xx.step()"
   ]
  },
  {
   "cell_type": "code",
   "execution_count": 37,
   "id": "627df7f1-b2cb-4b82-a6c3-29dc7a44834e",
   "metadata": {},
   "outputs": [
    {
     "name": "stdout",
     "output_type": "stream",
     "text": [
      "Capture images and (input) positions for step construction\n",
      "[alt]  - mark image corner (top left to right bottom)\n",
      "[w]    - show captured image\n",
      "[m]    - add click or input marker, print variable as string\n",
      "[q]    - stop capture\n",
      " -> pos: 1176,930\n",
      " -> pos: 1303,1052\n",
      "loc=[[54,57]]\n"
     ]
    }
   ],
   "source": [
    "step4.capture()"
   ]
  },
  {
   "cell_type": "code",
   "execution_count": 72,
   "id": "d23d5888-1c0f-4cd1-8f5d-feb80b59b679",
   "metadata": {},
   "outputs": [
    {
     "name": "stdout",
     "output_type": "stream",
     "text": [
      "    Scripts copied\n"
     ]
    }
   ],
   "source": [
    "step4.copy()"
   ]
  },
  {
   "cell_type": "code",
   "execution_count": 165,
   "id": "de0fde50-5f7f-4dbe-9a43-dd7d10e2b349",
   "metadata": {},
   "outputs": [
    {
     "name": "stdout",
     "output_type": "stream",
     "text": [
      "No pre script....\n",
      "loc=[[54,57]]\n",
      "if self.found_loc==None:\n",
      "    print(\"  Image Not Found\")\n",
      "else:\n",
      "    found = [self.found_loc.left,self.found_loc.top]\n",
      "    abs_loc = [found[0]+loc[0][0], found[1]+loc[0][1]]\n",
      "    time.sleep(0.2)\n",
      "    gui.doubleClick(abs_loc[0], abs_loc[1])\n",
      "    time.sleep(0.2)\n",
      "    gui.typewrite('EditorTick')\n",
      "    gui.press('enter')\n",
      "--------------------------- Update scripts? ---------------------------\n",
      "0 [0] Keep\n",
      "1 [1] Cancel\n",
      "---------------------------------- -- ----------------------------------\n"
     ]
    },
    {
     "name": "stdin",
     "output_type": "stream",
     "text": [
      "1(Cancel):  0\n"
     ]
    },
    {
     "name": "stdout",
     "output_type": "stream",
     "text": [
      "    Scripts updated\n"
     ]
    }
   ],
   "source": [
    "step4.paste()\n",
    "step4.savePNG(\"4.unreal.open_editor.png\")"
   ]
  },
  {
   "cell_type": "code",
   "execution_count": 43,
   "id": "5934909c-be1f-4893-8d3a-89a5e64ce612",
   "metadata": {},
   "outputs": [
    {
     "name": "stdout",
     "output_type": "stream",
     "text": [
      "trying to locate img: <PIL.Image.Image image mode=RGB size=127x122 at 0x1E74CBA6AD0> try 0\n"
     ]
    }
   ],
   "source": [
    "step4.run()"
   ]
  },
  {
   "cell_type": "code",
   "execution_count": 74,
   "id": "30c02019-d827-4ce0-99f9-681336ed27bc",
   "metadata": {},
   "outputs": [
    {
     "name": "stdout",
     "output_type": "stream",
     "text": [
      "trying to locate img: <PIL.Image.Image image mode=RGB size=127x122 at 0x1E74CBA6AD0> try 0\n"
     ]
    }
   ],
   "source": [
    "step4.run()"
   ]
  },
  {
   "cell_type": "code",
   "execution_count": 78,
   "id": "f3b3436a-5387-457e-acf4-3429d2ba11e6",
   "metadata": {},
   "outputs": [],
   "source": [
    "step5 = xx.step()"
   ]
  },
  {
   "cell_type": "code",
   "execution_count": 89,
   "id": "77217530-97e1-40c6-bca0-3316e8c7229e",
   "metadata": {},
   "outputs": [
    {
     "name": "stdout",
     "output_type": "stream",
     "text": [
      "Capture images and (input) positions for step construction\n",
      "[alt]  - mark image corner (top left to right bottom)\n",
      "[w]    - show captured image\n",
      "[m]    - add click or input marker, print variable as string\n",
      "[q]    - stop capture\n",
      " -> pos: 1595,951\n",
      " -> pos: 1792,993\n",
      "loc=[[262,19],[176,20]]\n"
     ]
    }
   ],
   "source": [
    "step5.capture()"
   ]
  },
  {
   "cell_type": "code",
   "execution_count": 80,
   "id": "fba7bcc5-6ac8-4022-9a83-4a3f0a2c6ae4",
   "metadata": {},
   "outputs": [
    {
     "name": "stdout",
     "output_type": "stream",
     "text": [
      "    Scripts copied\n"
     ]
    }
   ],
   "source": [
    "step5.copy()"
   ]
  },
  {
   "cell_type": "code",
   "execution_count": 173,
   "id": "6e31db1c-745c-40f2-a4cc-c5b8cd0a2b37",
   "metadata": {},
   "outputs": [
    {
     "name": "stdout",
     "output_type": "stream",
     "text": [
      "Pre script:\n",
      "myApp = gui.getWindowsWithTitle(\"BPI_EditorTick\")[0]\n",
      "myApp.restore()\n",
      "time.sleep(0.2)\n",
      "myApp.topleft = gui.Point(0,0)\n",
      "myApp.width = 1920\n",
      "myApp.height = 1200\n",
      "loc=[[176,20]]\n",
      "if self.found_loc==None:\n",
      "    print(\"  Image Not Found\")\n",
      "else:\n",
      "    found = [self.found_loc.left,self.found_loc.top]\n",
      "    abs_loc = [found[0]+loc[0][0], found[1]+loc[0][1]]\n",
      "    time.sleep(0.2)\n",
      "    gui.click(abs_loc[0], abs_loc[1])\n",
      "    time.sleep(0.2)\n",
      "    gui.hotkey('F7')\n",
      "    time.sleep(0.2)\n",
      "    gui.hotkey('alt','F4')\n",
      "--------------------------- Update scripts? ---------------------------\n",
      "0 [0] Keep\n",
      "1 [1] Cancel\n",
      "---------------------------------- -- ----------------------------------\n"
     ]
    },
    {
     "name": "stdin",
     "output_type": "stream",
     "text": [
      "1(Cancel):  0\n"
     ]
    },
    {
     "name": "stdout",
     "output_type": "stream",
     "text": [
      "    Scripts updated\n"
     ]
    }
   ],
   "source": [
    "step5.paste()\n",
    "step5.savePNG(\"5.unreal.call_in_editor.png\")"
   ]
  },
  {
   "cell_type": "code",
   "execution_count": 94,
   "id": "46f4dd4f-a7b9-4d00-b6a1-8b981736bc3d",
   "metadata": {},
   "outputs": [
    {
     "name": "stdout",
     "output_type": "stream",
     "text": [
      "trying to locate img: <PIL.Image.Image image mode=RGB size=197x42 at 0x1E74F1366B0> try 0\n"
     ]
    }
   ],
   "source": [
    "step5.run()"
   ]
  },
  {
   "cell_type": "code",
   "execution_count": 97,
   "id": "09354372-07b9-49b1-90f2-9bfd18cec6c1",
   "metadata": {},
   "outputs": [
    {
     "name": "stdout",
     "output_type": "stream",
     "text": [
      "trying to locate img: <PIL.Image.Image image mode=RGB size=192x37 at 0x1E74CADFC70> try 0\n",
      "trying to locate img: <PIL.Image.Image image mode=RGB size=358x34 at 0x1E74D122E00> try 0\n",
      "trying to locate img: <PIL.Image.Image image mode=RGB size=318x65 at 0x1E74CBA6440> try 0\n",
      "trying to locate img: <PIL.Image.Image image mode=RGB size=318x65 at 0x1E74CBA6440> try 1\n",
      "trying to locate img: <PIL.Image.Image image mode=RGB size=127x122 at 0x1E74CBA6AD0> try 0\n",
      "trying to locate img: <PIL.Image.Image image mode=RGB size=127x122 at 0x1E74CBA6AD0> try 1\n",
      "trying to locate img: <PIL.Image.Image image mode=RGB size=127x122 at 0x1E74CBA6AD0> try 2\n",
      "trying to locate img: <PIL.Image.Image image mode=RGB size=127x122 at 0x1E74CBA6AD0> try 3\n",
      "trying to locate img: <PIL.Image.Image image mode=RGB size=127x122 at 0x1E74CBA6AD0> try 4\n",
      "trying to locate img: <PIL.Image.Image image mode=RGB size=127x122 at 0x1E74CBA6AD0> try 5\n",
      "trying to locate img: <PIL.Image.Image image mode=RGB size=127x122 at 0x1E74CBA6AD0> try 6\n",
      "trying to locate img: <PIL.Image.Image image mode=RGB size=127x122 at 0x1E74CBA6AD0> try 7\n",
      "trying to locate img: <PIL.Image.Image image mode=RGB size=127x122 at 0x1E74CBA6AD0> try 8\n",
      "trying to locate img: <PIL.Image.Image image mode=RGB size=127x122 at 0x1E74CBA6AD0> try 9\n",
      "trying to locate img: <PIL.Image.Image image mode=RGB size=127x122 at 0x1E74CBA6AD0> try 10\n",
      "trying to locate img: <PIL.Image.Image image mode=RGB size=197x42 at 0x1E74F1366B0> try 0\n"
     ]
    }
   ],
   "source": [
    "# create editor tick\n",
    "step1.run()\n",
    "step2.run()\n",
    "step3.run()\n",
    "step4.run()\n",
    "step5.run()\n",
    "# create editor utilty\n",
    "step1.run()\n",
    "\n",
    "# create shaders\n",
    "\n",
    "# create objectrs"
   ]
  },
  {
   "cell_type": "code",
   "execution_count": 98,
   "id": "73646cc2-d634-4174-bc48-b2647cab3bf1",
   "metadata": {},
   "outputs": [
    {
     "name": "stdout",
     "output_type": "stream",
     "text": [
      "trying to locate img: <PIL.Image.Image image mode=RGB size=192x37 at 0x1E74CADFC70> try 0\n"
     ]
    }
   ],
   "source": [
    "step1.run()"
   ]
  },
  {
   "cell_type": "code",
   "execution_count": 116,
   "id": "d6d158cf-2270-41da-b909-7c2e7ff478ef",
   "metadata": {},
   "outputs": [],
   "source": [
    "step8 = copy.copy(step7)"
   ]
  },
  {
   "cell_type": "code",
   "execution_count": 102,
   "id": "c216f945-4d34-460b-937d-c94e2665b7f6",
   "metadata": {},
   "outputs": [
    {
     "name": "stdout",
     "output_type": "stream",
     "text": [
      "    Scripts copied\n"
     ]
    }
   ],
   "source": [
    "step6.copy()"
   ]
  },
  {
   "cell_type": "code",
   "execution_count": 109,
   "id": "c9817184-d43d-467f-9952-cc07c765cdef",
   "metadata": {},
   "outputs": [
    {
     "name": "stdout",
     "output_type": "stream",
     "text": [
      "No pre script....\n",
      "loc=[[58,17]]\n",
      "if self.found_loc==None:\n",
      "    print(\"  Image Not Found\")\n",
      "else:\n",
      "    found = [self.found_loc.left,self.found_loc.top]\n",
      "    abs_loc = [found[0]+loc[0][0], found[1]+loc[0][1]]\n",
      "    gui.click(abs_loc[0], abs_loc[1])\n",
      "    gui.hotkey('space')\n",
      "    gui.typewrite('utility')\n",
      "--------------------------- Update scripts? ---------------------------\n",
      "0 [0] Keep\n",
      "1 [1] Cancel\n",
      "---------------------------------- -- ----------------------------------\n"
     ]
    },
    {
     "name": "stdin",
     "output_type": "stream",
     "text": [
      "1(Cancel):  0\n"
     ]
    },
    {
     "name": "stdout",
     "output_type": "stream",
     "text": [
      "    Scripts updated\n"
     ]
    }
   ],
   "source": [
    "step6.paste()"
   ]
  },
  {
   "cell_type": "code",
   "execution_count": 110,
   "id": "3ef377fe-8074-403a-9548-c9c9b6bd37a2",
   "metadata": {},
   "outputs": [],
   "source": [
    "step6.savePNG(\"6.unreal.add_editor_iterface.png\")"
   ]
  },
  {
   "cell_type": "code",
   "execution_count": 113,
   "id": "b7153554-0a46-4a3c-ad7e-94caeb14bf27",
   "metadata": {},
   "outputs": [
    {
     "name": "stdout",
     "output_type": "stream",
     "text": [
      "Capture images and (input) positions for step construction\n",
      "[alt]  - mark image corner (top left to right bottom)\n",
      "[w]    - show captured image\n",
      "[m]    - add click or input marker, print variable as string\n",
      "[q]    - stop capture\n",
      " -> pos: 83,864\n",
      " -> pos: 390,928\n",
      "loc=[[118,30],[83,31],[35,28]]\n"
     ]
    }
   ],
   "source": [
    "step7.capture()"
   ]
  },
  {
   "cell_type": "code",
   "execution_count": 123,
   "id": "6c809261-098b-4053-b316-0e5894d8d463",
   "metadata": {},
   "outputs": [
    {
     "name": "stdout",
     "output_type": "stream",
     "text": [
      "No pre script....\n",
      "loc=[[35,28]]\n",
      "if self.found_loc==None:\n",
      "    print(\"  Image Not Found\")\n",
      "else:\n",
      "    found = [self.found_loc.left,self.found_loc.top]\n",
      "    abs_loc = [found[0]+loc[0][0], found[1]+loc[0][1]]\n",
      "    gui.click(abs_loc[0], abs_loc[1])\n",
      "    time.sleep(1)\n",
      "    gui.typewrite('editorutilityactor')\n",
      "    gui.press('down')\n",
      "    gui.press('down')\n",
      "    gui.press('enter')\n",
      "--------------------------- Update scripts? ---------------------------\n",
      "0 [0] Keep\n",
      "1 [1] Cancel\n",
      "---------------------------------- -- ----------------------------------\n"
     ]
    },
    {
     "name": "stdin",
     "output_type": "stream",
     "text": [
      "1(Cancel):  0\n"
     ]
    },
    {
     "name": "stdout",
     "output_type": "stream",
     "text": [
      "    Scripts updated\n"
     ]
    }
   ],
   "source": [
    "step7.paste()"
   ]
  },
  {
   "cell_type": "code",
   "execution_count": 124,
   "id": "3c6b21df-561a-4773-82d7-0ed37cab39de",
   "metadata": {},
   "outputs": [],
   "source": [
    "step7.savePNG(\"7.unreal.select_editor_iterface_class.png\")"
   ]
  },
  {
   "cell_type": "code",
   "execution_count": 126,
   "id": "495d9b4e-7a46-4112-8305-f54e94ff16fd",
   "metadata": {},
   "outputs": [
    {
     "name": "stdout",
     "output_type": "stream",
     "text": [
      "Capture images and (input) positions for step construction\n",
      "[alt]  - mark image corner (top left to right bottom)\n",
      "[w]    - show captured image\n",
      "[m]    - add click or input marker, print variable as string\n",
      "[q]    - stop capture\n",
      " -> pos: 2254,1148\n",
      " -> pos: 2504,1200\n",
      "loc=[[118,30],[83,31],[35,28],[67,34]]\n"
     ]
    }
   ],
   "source": [
    "step8.capture()"
   ]
  },
  {
   "cell_type": "code",
   "execution_count": 135,
   "id": "8257eb30-8edb-48c6-91b9-4617d3b1d09b",
   "metadata": {},
   "outputs": [
    {
     "name": "stdout",
     "output_type": "stream",
     "text": [
      "No pre script....\n",
      "loc=[[67,34]]\n",
      "if self.found_loc==None:\n",
      "    print(\"  Image Not Found\")\n",
      "else:\n",
      "    found = [self.found_loc.left,self.found_loc.top]\n",
      "    abs_loc = [found[0]+loc[0][0], found[1]+loc[0][1]]\n",
      "    gui.click(abs_loc[0], abs_loc[1])\n",
      "    gui.typewrite('BP_EditorTicker')\n",
      "    gui.press('enter')\n",
      "    gui.press('enter')\n",
      "--------------------------- Update scripts? ---------------------------\n",
      "0 [0] Keep\n",
      "1 [1] Cancel\n",
      "---------------------------------- -- ----------------------------------\n"
     ]
    },
    {
     "name": "stdin",
     "output_type": "stream",
     "text": [
      "1(Cancel):  0\n"
     ]
    },
    {
     "name": "stdout",
     "output_type": "stream",
     "text": [
      "    Scripts updated\n"
     ]
    }
   ],
   "source": [
    "step8.paste()"
   ]
  },
  {
   "cell_type": "code",
   "execution_count": 136,
   "id": "0dfd556b-fda3-4a38-aa66-e442a45230ff",
   "metadata": {},
   "outputs": [],
   "source": [
    "step8.savePNG(\"8.unreal.select.png\")"
   ]
  },
  {
   "cell_type": "code",
   "execution_count": 131,
   "id": "30350323-0fcc-400b-b907-eeeb76702f56",
   "metadata": {},
   "outputs": [
    {
     "name": "stdout",
     "output_type": "stream",
     "text": [
      "trying to locate img: <PIL.Image.Image image mode=RGB size=192x37 at 0x1E74CADFC70> try 0\n"
     ]
    }
   ],
   "source": [
    "step1.run()"
   ]
  },
  {
   "cell_type": "code",
   "execution_count": 139,
   "id": "eef87ed3-32a5-4e3d-9b83-d431c27c8e11",
   "metadata": {},
   "outputs": [],
   "source": [
    "step8 = xx.step()"
   ]
  },
  {
   "cell_type": "code",
   "execution_count": 140,
   "id": "83c9479e-f480-413f-96f0-5590f5aebdbf",
   "metadata": {},
   "outputs": [
    {
     "name": "stdout",
     "output_type": "stream",
     "text": [
      "Capture images and (input) positions for step construction\n",
      "[alt]  - mark image corner (top left to right bottom)\n",
      "[w]    - show captured image\n",
      "[m]    - add click or input marker, print variable as string\n",
      "[q]    - stop capture\n",
      " -> pos: 1447,254\n",
      " -> pos: 1542,489\n",
      "loc=[[12,180]]\n",
      "loc=[[12,180],[272,59]]\n",
      "loc=[[12,180],[272,59],[273,220]]\n"
     ]
    }
   ],
   "source": [
    "step8.capture()"
   ]
  },
  {
   "cell_type": "code",
   "execution_count": 143,
   "id": "7f74e909-e3f1-4b66-b4c5-d1490e05ebf9",
   "metadata": {},
   "outputs": [
    {
     "name": "stdout",
     "output_type": "stream",
     "text": [
      "#pre script\n",
      "\n",
      "#script\n",
      "loc=[[67,34]]\n",
      "if self.found_loc==None:\n",
      "    print(\"  Image Not Found\")\n",
      "else:\n",
      "    found = [self.found_loc.left,self.found_loc.top]\n",
      "    abs_loc = [found[0]+loc[0][0], found[1]+loc[0][1]]\n",
      "    gui.click(abs_loc[0], abs_loc[1])\n",
      "    gui.typewrite('BP_EditorTicker')\n",
      "    gui.press('enter')\n",
      "    gui.press('enter')\n",
      "Image sucessfully loaded\n"
     ]
    }
   ],
   "source": [
    "step8.loadPNG(\"8.unreal.select.png\")"
   ]
  },
  {
   "cell_type": "code",
   "execution_count": 142,
   "id": "15e9aecd-0450-4477-8401-acb5a0643b10",
   "metadata": {},
   "outputs": [],
   "source": [
    "step9 = copy.copy(step8)"
   ]
  },
  {
   "cell_type": "code",
   "execution_count": 152,
   "id": "f70d4e10-9fbb-4012-b113-d342d38b07fe",
   "metadata": {},
   "outputs": [
    {
     "name": "stdout",
     "output_type": "stream",
     "text": [
      "No pre script....\n",
      "loc=[[67,34]]\n",
      "if self.found_loc==None:\n",
      "    print(\"  Image Not Found\")\n",
      "else:\n",
      "    found = [self.found_loc.left,self.found_loc.top]\n",
      "    abs_loc = [found[0]+loc[0][0], found[1]+loc[0][1]]\n",
      "    gui.click(abs_loc[0], abs_loc[1])\n",
      "    gui.typewrite('BP_EditorTicker')\n",
      "    gui.press('enter')\n",
      "    gui.press('enter')\n",
      "    \n",
      "##Step9\n",
      "#pre script\n",
      "\n",
      "#script\n",
      "loc=[[12,180],[272,59],[273,220]]\n",
      "if self.found_loc==None:\n",
      "    print(\"  Image Not Found\")\n",
      "else:\n",
      "    found = [self.found_loc.left,self.found_loc.top]\n",
      "    abs_loc1 = [found[0]+loc[0][0], found[1]+loc[0][1]]\n",
      "    abs_loc2 = [found[0]+loc[1][0], found[1]+loc[1][1]]\n",
      "    abs_loc3 = [found[0]+loc[2][0], found[1]+loc[2][1]]\n",
      "    gui.click(abs_loc1[0], abs_loc1[1])\n",
      "    time.sleep(0.2)\n",
      "    gui.click(abs_loc2[0], abs_loc2[1])\n",
      "    time.sleep(0.2)\n",
      "    gui.click(abs_loc3[0], abs_loc3[1])\n",
      "--------------------------- Update scripts? ---------------------------\n",
      "0 [0] Keep\n",
      "1 [1] Cancel\n",
      "---------------------------------- -- ----------------------------------\n"
     ]
    },
    {
     "name": "stdin",
     "output_type": "stream",
     "text": [
      "1(Cancel):  0\n"
     ]
    },
    {
     "name": "stdout",
     "output_type": "stream",
     "text": [
      "    Scripts updated\n"
     ]
    }
   ],
   "source": []
  },
  {
   "cell_type": "code",
   "execution_count": 171,
   "id": "46d22c65-fcdc-440d-9ac9-e3511bb38e47",
   "metadata": {},
   "outputs": [
    {
     "name": "stdout",
     "output_type": "stream",
     "text": [
      "No pre script....\n",
      "loc=[[12,180],[272,59],[273,220]]\n",
      "if self.found_loc==None:\n",
      "    print(\"  Image Not Found\")\n",
      "else:\n",
      "    found = [self.found_loc.left,self.found_loc.top]\n",
      "    abs_loc1 = [found[0]+loc[0][0], found[1]+loc[0][1]]\n",
      "    abs_loc2 = [found[0]+loc[1][0], found[1]+loc[1][1]]\n",
      "    abs_loc3 = [found[0]+loc[2][0], found[1]+loc[2][1]]\n",
      "    time.sleep(0.2)\n",
      "    gui.click(abs_loc1[0], abs_loc1[1])\n",
      "    time.sleep(0.2)\n",
      "    gui.click(abs_loc2[0], abs_loc2[1])\n",
      "    time.sleep(0.2)\n",
      "    gui.click(abs_loc3[0], abs_loc3[1])\n",
      "--------------------------- Update scripts? ---------------------------\n",
      "0 [0] Keep\n",
      "1 [1] Cancel\n",
      "---------------------------------- -- ----------------------------------\n"
     ]
    },
    {
     "name": "stdin",
     "output_type": "stream",
     "text": [
      "1(Cancel):  0\n"
     ]
    },
    {
     "name": "stdout",
     "output_type": "stream",
     "text": [
      "    Scripts updated\n"
     ]
    }
   ],
   "source": [
    "step9.paste()\n",
    "step9.savePNG(\"9.unreal.class_editor_ticking.png\")"
   ]
  },
  {
   "cell_type": "code",
   "execution_count": 160,
   "id": "e42bb497-ae12-41ec-a070-c149c1120b63",
   "metadata": {},
   "outputs": [
    {
     "name": "stdout",
     "output_type": "stream",
     "text": [
      "trying to locate img: <PIL.Image.Image image mode=RGB size=192x37 at 0x1E74CADFC70> try 0\n",
      "trying to locate img: <PIL.Image.Image image mode=RGB size=358x34 at 0x1E74D122E00> try 0\n",
      "trying to locate img: <PIL.Image.Image image mode=RGB size=307x64 at 0x1E74F137970> try 0\n",
      "trying to locate img: <PIL.Image.Image image mode=RGB size=307x64 at 0x1E74F137970> try 1\n",
      "trying to locate img: <PIL.PngImagePlugin.PngImageFile image mode=RGB size=250x52 at 0x1E74F4F3B50> try 0\n",
      "trying to locate img: <PIL.Image.Image image mode=RGB size=95x235 at 0x1E74F142CE0> try 0\n",
      "trying to locate img: <PIL.Image.Image image mode=RGB size=95x235 at 0x1E74F142CE0> try 1\n"
     ]
    }
   ],
   "source": [
    "step1.run()\n",
    "step6.run()\n",
    "step7.run()\n",
    "step8.run()\n",
    "step9.run()"
   ]
  },
  {
   "cell_type": "code",
   "execution_count": 162,
   "id": "6fb3018f-0027-49ce-855d-8bea1b26f4da",
   "metadata": {},
   "outputs": [
    {
     "name": "stdout",
     "output_type": "stream",
     "text": [
      "trying to locate img: <PIL.Image.Image image mode=RGB size=95x235 at 0x1E74F142CE0> try 0\n"
     ]
    }
   ],
   "source": [
    "step9.run()"
   ]
  },
  {
   "cell_type": "code",
   "execution_count": 169,
   "id": "3ce75131-503d-4c36-be4f-f79c475ec011",
   "metadata": {},
   "outputs": [
    {
     "data": {
      "image/png": "[encoded data removed]",
      "text/plain": [
       "<PIL.Image.Image image mode=RGB size=95x235>"
      ]
     },
     "execution_count": 169,
     "metadata": {},
     "output_type": "execute_result"
    }
   ],
   "source": [
    "step9._img"
   ]
  },
  {
   "cell_type": "code",
   "execution_count": null,
   "id": "99d52422-8e9f-4265-8876-37556eb7fffe",
   "metadata": {},
   "outputs": [],
   "source": [
    "gui."
   ]
  }
 ],
 "metadata": {
  "kernelspec": {
   "display_name": "Python 3 (ipykernel)",
   "language": "python",
   "name": "python3"
  },
  "language_info": {
   "codemirror_mode": {
    "name": "ipython",
    "version": 3
   },
   "file_extension": ".py",
   "mimetype": "text/x-python",
   "name": "python",
   "nbconvert_exporter": "python",
   "pygments_lexer": "ipython3",
   "version": "3.10.7"
  }
 },
 "nbformat": 4,
 "nbformat_minor": 5
}
