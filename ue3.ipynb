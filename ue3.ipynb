{
 "cells": [
  {
   "cell_type": "code",
   "execution_count": null,
   "id": "d93b7afb-a53b-48c4-a40d-3f487495a242",
   "metadata": {},
   "outputs": [],
   "source": [
    "import xx2"
   ]
  },
  {
   "cell_type": "code",
   "execution_count": null,
   "id": "4f87f799-3a2e-4581-9d0d-531b7aaba2f7",
   "metadata": {},
   "outputs": [],
   "source": [
    "w = xx2.workflow(\"ue_add_asset_UCreate\")"
   ]
  },
  {
   "cell_type": "code",
   "execution_count": null,
   "id": "4933f518-7b3a-4241-a7a5-49810b2c6421",
   "metadata": {},
   "outputs": [],
   "source": [
    "w.load()"
   ]
  },
  {
   "cell_type": "code",
   "execution_count": null,
   "id": "b706ce76-de9c-4678-8da3-566116c3b07e",
   "metadata": {},
   "outputs": [],
   "source": [
    "w.steps[4].edit()"
   ]
  },
  {
   "cell_type": "code",
   "execution_count": null,
   "id": "fd63698f-822f-4c99-a784-c0bb29a0bcf9",
   "metadata": {},
   "outputs": [],
   "source": [
    "w.run()"
   ]
  },
  {
   "cell_type": "code",
   "execution_count": null,
   "id": "2a7952fe-2e8b-4938-bbd2-b49c39daa0ab",
   "metadata": {},
   "outputs": [],
   "source": [
    "w.save()"
   ]
  },
  {
   "cell_type": "code",
   "execution_count": null,
   "id": "2ffb1a08-24f7-4105-9437-fd0b23a6e757",
   "metadata": {},
   "outputs": [],
   "source": []
  }
 ],
 "metadata": {
  "kernelspec": {
   "display_name": "Python 3 (ipykernel)",
   "language": "python",
   "name": "python3"
  },
  "language_info": {
   "codemirror_mode": {
    "name": "ipython",
    "version": 3
   },
   "file_extension": ".py",
   "mimetype": "text/x-python",
   "name": "python",
   "nbconvert_exporter": "python",
   "pygments_lexer": "ipython3",
   "version": "3.11.0"
  }
 },
 "nbformat": 4,
 "nbformat_minor": 5
}
